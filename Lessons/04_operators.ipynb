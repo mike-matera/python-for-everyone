{
 "cells": [
  {
   "attachments": {},
   "cell_type": "markdown",
   "metadata": {},
   "source": [
    "# Mathematical Operations \n",
    "\n",
    "Computers are good at math because they don't get bored and almost never make mistakes. Math and other operations may be affected by the data type. Here are some key operations:\n",
    "\n",
    "| Symbol | Meaning | Example(s) |\n",
    "| ------ | ------- | ---------- |\n",
    "| `+` | Addition (for numerical types)<br> Concatenation (for string types) | `1 + 2` <br> `\"foo\" + \"bar\"` |\n",
    "| `-` | Subtraction | `2 - 1` | \n",
    "| `/` | Division | `12 / 4` | \n",
    "| `*` | Multiplication | `5 * 5` | \n",
    "| `%` | Modulus (a.k.a. the remainder) | `12 % 10` <br> `24 % 10` | \n",
    "| `<` | Less than (comparison) | `2 < 3` <br> `3 < 2` | \n",
    "| `>` | Greater than (comparison) | `2 > 3` <br> `3 > 2` | \n",
    "| `<=` | Less than or equal | `2 <= 2` | \n",
    "| `>=` | Greater than or equal | `2 >= 2` | \n",
    "| `==` | Equal to | `5 == 5` | \n"
   ]
  },
  {
   "attachments": {},
   "cell_type": "markdown",
   "metadata": {},
   "source": [
    "## Plus: Addition and Concatenation\n",
    "\n",
    "The plus sign `+` does two things. It adds two numbers and it *concatenates* two strings. Concatenation is just a fancy work for putting strings together. Try the code in the cells to see how the plus operator works. Put this code in the cell below to see how `+` simply adds numbers:\n",
    "\n",
    "```python\n",
    "print(10 + 5)\n",
    "```"
   ]
  },
  {
   "cell_type": "code",
   "execution_count": null,
   "metadata": {},
   "outputs": [],
   "source": []
  },
  {
   "attachments": {},
   "cell_type": "markdown",
   "metadata": {},
   "source": [
    "Now see what happens when you add two string literals together with this code: \n",
    "\n",
    "```python\n",
    "print(\"Hello\" + \"World\")\n",
    "```"
   ]
  },
  {
   "cell_type": "code",
   "execution_count": null,
   "metadata": {},
   "outputs": [],
   "source": []
  },
  {
   "attachments": {},
   "cell_type": "markdown",
   "metadata": {},
   "source": [
    "Not all things can be added together. When you mix types the `+` operator raises an error. Try this: \n",
    "\n",
    "```python\n",
    "print(\"one\" + 1)\n",
    "```"
   ]
  },
  {
   "cell_type": "code",
   "execution_count": null,
   "metadata": {},
   "outputs": [],
   "source": []
  },
  {
   "attachments": {},
   "cell_type": "markdown",
   "metadata": {},
   "source": [
    "## Multiplication: Sometimes Funny\n",
    "\n",
    "The multiplication operator works just as you would expect on numbers. For example:\n",
    "\n",
    "```python\n",
    "print(23.2 * 10)\n",
    "```"
   ]
  },
  {
   "cell_type": "code",
   "execution_count": null,
   "metadata": {},
   "outputs": [],
   "source": []
  },
  {
   "attachments": {},
   "cell_type": "markdown",
   "metadata": {},
   "source": [
    "But multiplication also works on strings by multiplying the string some number of times. For example:\n",
    "\n",
    "```python\n",
    "print(\"Fun\" * 1000)\n",
    "```"
   ]
  },
  {
   "cell_type": "code",
   "execution_count": null,
   "metadata": {},
   "outputs": [],
   "source": []
  },
  {
   "attachments": {},
   "cell_type": "markdown",
   "metadata": {},
   "source": [
    "## Boolean Operators\n",
    "\n",
    "Some operations result in `True` or `False`. They are key to asking questions using an `if` statement, but we'll talk more about that later. Printing the result of a boolean operation yields the words \"True\" or \"False\" which is convenient and I will ask you do to for assignments. For example enter these print statements: \n",
    "\n",
    "```python \n",
    "print(\"Is 5 less than 3?\", 5 < 3)\n",
    "print(\"Is 5 greater than 3?\", 5 > 3)\n",
    "print(\"Is 5 greater than or equal to 3?\", 5 >= 3)\n",
    "print(\"Is 'Python' equal to 'C++'?\", 'Python' == 'C++')\n",
    "print(\"Is 'Python' equal to 'Python?\", 'Python' == 'Python')\n",
    "```"
   ]
  },
  {
   "cell_type": "code",
   "execution_count": null,
   "metadata": {},
   "outputs": [],
   "source": []
  },
  {
   "attachments": {},
   "cell_type": "markdown",
   "metadata": {},
   "source": [
    "## Order of Operations \n",
    "\n",
    "Operations are applied in a specific order. Python uses the same order as many other programming languages. You can remember it using the word PEMDAS:\n",
    "\n",
    "  * Parenthesis (this is done first)\n",
    "  * Exponents\n",
    "  * Multiplication\n",
    "  * Division\n",
    "  * Addition\n",
    "  * Subtraction (this is done last)\n",
    "  \n",
    "Multiplication is higher than addition, so it is done first. For example, in this equation the multiplication happens first, then the addition."
   ]
  },
  {
   "cell_type": "code",
   "execution_count": null,
   "metadata": {},
   "outputs": [],
   "source": [
    "print(100 + 5 * 10)"
   ]
  },
  {
   "attachments": {},
   "cell_type": "markdown",
   "metadata": {},
   "source": [
    "If you want to change the order of operations you can add parenthesis `(` and `)` to the equation. "
   ]
  },
  {
   "cell_type": "code",
   "execution_count": null,
   "metadata": {},
   "outputs": [],
   "source": [
    "print((100 + 5) * 10)"
   ]
  }
 ],
 "metadata": {
  "kernelspec": {
   "display_name": "Python 3 (ipykernel)",
   "language": "python",
   "name": "python3"
  },
  "language_info": {
   "codemirror_mode": {
    "name": "ipython",
    "version": 3
   },
   "file_extension": ".py",
   "mimetype": "text/x-python",
   "name": "python",
   "nbconvert_exporter": "python",
   "pygments_lexer": "ipython3",
   "version": "3.10.6"
  }
 },
 "nbformat": 4,
 "nbformat_minor": 4
}
