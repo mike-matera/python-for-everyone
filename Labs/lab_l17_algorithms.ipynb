{
 "cells": [
  {
   "cell_type": "code",
   "execution_count": null,
   "metadata": {},
   "outputs": [],
   "source": [
    "%load_ext nbtest"
   ]
  },
  {
   "attachments": {},
   "cell_type": "markdown",
   "metadata": {},
   "source": [
    "# Lab: Loop Algorithms \n",
    "\n",
    "This lab will give you practice building algorithms with loops."
   ]
  },
  {
   "attachments": {},
   "cell_type": "markdown",
   "metadata": {
    "tags": []
   },
   "source": [
    "## Part 1: Algorithms With `for` Loops\n",
    "\n",
    "Now let's do some harder things with `for` loops. If you're having trouble with these problems remember to use the debugger."
   ]
  },
  {
   "attachments": {},
   "cell_type": "markdown",
   "metadata": {
    "tags": []
   },
   "source": [
    "### 1. Compute the Sum\n",
    "\n",
    "Write a `for` loop that prints the sum of all the elements in `my_list`"
   ]
  },
  {
   "cell_type": "code",
   "execution_count": null,
   "metadata": {},
   "outputs": [],
   "source": [
    "\"\"\"@sumlist\"\"\"\n",
    "\n",
    "my_list = [1, 2, 3.4, 239, 43, 0x12, 0b1101, 4, 3]\n",
    "\n",
    "# Put your code below this comment.\n"
   ]
  },
  {
   "cell_type": "code",
   "execution_count": null,
   "metadata": {
    "jupyter": {
     "source_hidden": true
    }
   },
   "outputs": [],
   "source": [
    "%%testing @sumlist as solution \n",
    "import ast\n",
    "assert ast.For in solution.tokens, \"\"\"I don't see \"for\" in your solution.\"\"\"\n",
    "assert \"sum\" not in solution.calls, \"\"\"Please don't use the sum() function.\"\"\"\n",
    "assert \"15\" in solution.run({\"my_list\": [1,2,3,4,5]}).stdout, \"\"\"You didn't compute the sum of a different list.\"\"\""
   ]
  },
  {
   "attachments": {},
   "cell_type": "markdown",
   "metadata": {},
   "source": [
    "### 2. Find the Largest Value \n",
    "\n",
    "Write a `for` loop that prints the **largest** element in `my_list`."
   ]
  },
  {
   "cell_type": "code",
   "execution_count": null,
   "metadata": {},
   "outputs": [],
   "source": [
    "\"\"\"@biglist\"\"\"\n",
    "\n",
    "my_list = [1, 2, 3.4, 239, 43, 0x12, 0b1101, 4, 3]\n",
    "\n",
    "# Put your code below this comment.\n"
   ]
  },
  {
   "cell_type": "code",
   "execution_count": null,
   "metadata": {
    "jupyter": {
     "source_hidden": true
    }
   },
   "outputs": [],
   "source": [
    "%%testing @biglist as solution \n",
    "import ast\n",
    "assert ast.For in solution.tokens, \"\"\"I don't see \"for\" in your solution.\"\"\"\n",
    "assert \"-1\" in solution.run({\"my_list\": [-1,-2,-3,-4,-5]}).stdout, \"\"\"You didn't compute the largest of a different list.\"\"\""
   ]
  },
  {
   "attachments": {},
   "cell_type": "markdown",
   "metadata": {},
   "source": [
    "### 3. Find the Smallest Value \n",
    "\n",
    "Write a for loop that prints the **smallest** element in my_list."
   ]
  },
  {
   "cell_type": "code",
   "execution_count": null,
   "metadata": {},
   "outputs": [],
   "source": [
    "\"\"\"@smalllist\"\"\"\n",
    "\n",
    "my_list = [1, 2, 3.4, 239, 43, 0x12, 0b1101, 4, 3]\n",
    "\n",
    "# Put your code below this comment.\n"
   ]
  },
  {
   "cell_type": "code",
   "execution_count": null,
   "metadata": {
    "jupyter": {
     "source_hidden": true
    }
   },
   "outputs": [],
   "source": [
    "%%testing @smalllist as solution \n",
    "import ast\n",
    "assert ast.For in solution.tokens, \"\"\"I don't see \"for\" in your solution.\"\"\"\n",
    "assert \"1\" in solution.run({\"my_list\": [1,2,3,4,5]}).stdout, \"\"\"You didn't compute the smallest of a different list.\"\"\""
   ]
  },
  {
   "attachments": {},
   "cell_type": "markdown",
   "metadata": {},
   "source": [
    "### 4. Bold Face \n",
    "\n",
    "Write a for loop that makes a list named `bolded` with the elements from `items` surrounded by bold tags. For example your code should turn `\"Eat\"` into `\"<b>Eat</b>\"`.\n"
   ]
  },
  {
   "cell_type": "code",
   "execution_count": null,
   "metadata": {},
   "outputs": [],
   "source": [
    "\"\"\"@dobold\"\"\"\n",
    "\n",
    "items = ['Eat', 'Sleep', 'Program', 'Repeat']\n",
    "\n",
    "# Put your code below this comment \n"
   ]
  },
  {
   "cell_type": "code",
   "execution_count": null,
   "metadata": {
    "jupyter": {
     "source_hidden": true
    }
   },
   "outputs": [],
   "source": [
    "%%testing @dobold as solution, items, bolded \n",
    "import ast\n",
    "assert ast.For in solution.tokens, \"\"\"I don't see \"for\" in your solution.\"\"\"\n",
    "assert \"append\" in solution.calls, \"\"\"Your solution should use the append() function.\"\"\"\n",
    "assert len(items) == len(bolded), \"\"\"The \"bolded\" list should have the same number of items as the \"items\" list.\"\"\"\n",
    "assert all([\"<b>\" in item for item in bolded]), \"\"\"An item in your bolded list doesn't contain a bold tag.\"\"\""
   ]
  },
  {
   "attachments": {},
   "cell_type": "markdown",
   "metadata": {},
   "source": [
    "### 5. Build HTML \n",
    "\n",
    "Use the items in `items` from the last question to create an *unordered list* in HTML. Display the list. \n",
    "\n",
    "The output should look approximately like:\n",
    "\n",
    "<div class='alert-info'>\n",
    "<ul>\n",
    "  <li>Eat</li>\n",
    "  <li>Sleep</li>\n",
    "  <li>Program</li>\n",
    "  <li>Repeat</li>\n",
    "</ul>\n",
    "</div> \n",
    "   "
   ]
  },
  {
   "cell_type": "code",
   "execution_count": null,
   "metadata": {},
   "outputs": [],
   "source": [
    "\"\"\"@dolist\"\"\"\n",
    "\n",
    "items = ['Eat', 'Sleep', 'Program', 'Repeat']\n",
    "\n",
    "# Put your code below this comment \n"
   ]
  },
  {
   "cell_type": "code",
   "execution_count": null,
   "metadata": {
    "jupyter": {
     "source_hidden": true
    }
   },
   "outputs": [],
   "source": [
    "%%testing @dolist as solution\n",
    "import ast\n",
    "from bs4 import BeautifulSoup\n",
    "assert ast.For in solution.tokens, \"\"\"I don't see \"for\" in your solution.\"\"\"\n",
    "assert \"HTML\" in solution.calls, \"\"\"Your solution should use the HTML() function (you need to import it).\"\"\"\n",
    "soup = BeautifulSoup(solution.run({\"items\": [1,2,3,4]}).outputs[0].data, 'html.parser')\n",
    "assert len(soup.find_all('ul')) == 1, \"\"\"There should be one unordered list in your output.\"\"\"\n",
    "assert len(soup.find_all('li')) == 4, \"\"\"There should be one list item for every entry in \"items\".\"\"\""
   ]
  },
  {
   "attachments": {},
   "cell_type": "markdown",
   "metadata": {},
   "source": [
    "### 5. A List as a Function Argument \n",
    "\n",
    "Write a function called `add_me` that takes one argument `the_list`. The function adds `\"Added\"` to the end of the list making your name the last element in the list. \n",
    "\n",
    "- Function: `add_me` - Add your name to a list. \n",
    "  - Arguments: `the_list`\n",
    "  - Returns: `None`"
   ]
  },
  {
   "cell_type": "code",
   "execution_count": null,
   "metadata": {},
   "outputs": [],
   "source": [
    "\"\"\"@addme\"\"\"\n"
   ]
  },
  {
   "attachments": {},
   "cell_type": "markdown",
   "metadata": {},
   "source": [
    "Copy this list definition in to the cell below and call your `add_me` function with `a_list` as its argument.\n",
    "\n",
    "```python\n",
    "a_list = [ 'one', 'two', 'apple', 'pear' ] \n",
    "```\n",
    "\n",
    "**What happens to a_list after you call add_me?**"
   ]
  },
  {
   "cell_type": "code",
   "execution_count": null,
   "metadata": {},
   "outputs": [],
   "source": [
    "a_list = [ 'one', 'two', 'apple', 'pear' ] \n",
    "add_me(a_list)\n",
    "print(a_list)"
   ]
  },
  {
   "cell_type": "code",
   "execution_count": null,
   "metadata": {
    "jupyter": {
     "source_hidden": true
    }
   },
   "outputs": [],
   "source": [
    "%%testing @addme as solution \n",
    "assert \"add_me\" in solution.functions, \"\"\"I don't see the definition of add_me\"\"\"\n",
    "assert [\"the_list\"] == solution.functions[\"add_me\"].arguments, \"\"\"The arguments to add_me don't match the requirements.\"\"\"\n",
    "assert solution.functions[\"add_me\"].docstring is not None, \"\"\"The add_me function has no docstring.\"\"\"\n",
    "assert \"append\" in solution.functions[\"add_me\"].calls, \"\"\"The add_me function should call the append() function.\"\"\""
   ]
  },
  {
   "attachments": {},
   "cell_type": "markdown",
   "metadata": {},
   "source": [
    "## Part 2: Dictionary Functions \n",
    "\n",
    "Here are some more challenging problems using dictionaries. \n",
    "\n",
    "### 3.1. Reverse the Dictionary\n",
    "\n",
    "Write a function called `reverse_get` that takes two arguments, `data` and `val`. The function searches `data` for the *value* `val` and returns the corresponding key. \n",
    "\n",
    "- Name: `reverse_get`\n",
    "- Arguments:\n",
    "  - `data` - A dictionary \n",
    "  - `val` - A value in the dictionary \n",
    "- Returns: The key that matches the value or `None` if the value is not found in the dictionary. "
   ]
  },
  {
   "cell_type": "code",
   "execution_count": null,
   "metadata": {},
   "outputs": [],
   "source": [
    "\"\"\"@reverse\"\"\"\n"
   ]
  },
  {
   "cell_type": "markdown",
   "metadata": {},
   "source": [
    "Test your function in the next cell:"
   ]
  },
  {
   "cell_type": "code",
   "execution_count": null,
   "metadata": {},
   "outputs": [],
   "source": [
    "d = {\n",
    "    \"foo_key\": \"foo_value\"\n",
    "}\n",
    "reverse_get(d, \"foo_value\") # Should return \"foo_key\""
   ]
  },
  {
   "cell_type": "code",
   "execution_count": null,
   "metadata": {
    "jupyter": {
     "source_hidden": true
    }
   },
   "outputs": [],
   "source": [
    "%%testing @reverse as solution, reverse_get\n",
    "import ast\n",
    "assert \"reverse_get\" in solution.functions, \"\"\"I don't see the definition of reverse_get\"\"\"\n",
    "assert [\"data\", \"val\"] == solution.functions[\"reverse_get\"].arguments, \"\"\"The arguments to reverse_get don't match the requirements.\"\"\"\n",
    "assert solution.functions[\"reverse_get\"].docstring is not None, \"\"\"The reverse_get function has no docstring.\"\"\"\n",
    "assert ast.For in solution.functions[\"reverse_get\"].tokens, \"\"\"The reverse_get function should have a for loop.\"\"\"\n",
    "assert ast.If in solution.functions[\"reverse_get\"].tokens, \"\"\"The reverse_get function should have af if statement.\"\"\"\n",
    "assert \"blah\" == reverse_get({\"blah\": \"foo\"}, \"foo\"), \"\"\"Test your reverse_get with the sample code. I didn't see it work.\"\"\"\n",
    "assert None == reverse_get({\"blah\": \"foo\"}, \"bar\"), \"\"\"The reverse_get function should return None if the value isn't found.\"\"\""
   ]
  },
  {
   "attachments": {},
   "cell_type": "markdown",
   "metadata": {},
   "source": [
    "### 3.2. Frequency Counter \n",
    "\n",
    "Write a function that takes a single string argument and counts how many times each letter appears in the string. The function returns a dictionary with letters for keys and the count of the letters as values. For example if the function is given the sentence:\n",
    "\n",
    "```python\n",
    "count_letters('Hello World')\n",
    "```\n",
    "\n",
    "It should return the dictionary:\n",
    "\n",
    "```python\n",
    "{ \n",
    "    'h' : 1,\n",
    "    'e' : 1,\n",
    "    'l' : 3,\n",
    "    ' ' : 1,\n",
    "    'o' : 2,\n",
    "    'w' : 1,\n",
    "    'd' : 1,\n",
    "}\n",
    "```\n",
    "\n",
    "- Name: `count_letters`\n",
    "- Arguments:\n",
    "  - `text` (string) - The text to count.\n",
    "- Returns: A dictionary with letters for keys and counts for values.\n",
    "\n",
    "The nex cell has some example text to try:"
   ]
  },
  {
   "cell_type": "code",
   "execution_count": null,
   "metadata": {},
   "outputs": [],
   "source": [
    "example_text = \"\"\"\n",
    "It was a dark and stormy night; the rain fell in torrents — except \n",
    "at occasional intervals, when it was checked by a violent gust of \n",
    "wind which swept up the streets (for it is in London that our scene\n",
    "lies), rattling along the housetops, and fiercely agitating the \n",
    "scanty flame of the lamps that struggled against the darkness.\n",
    "\"\"\""
   ]
  },
  {
   "attachments": {},
   "cell_type": "markdown",
   "metadata": {},
   "source": [
    "Put your solution here:"
   ]
  },
  {
   "cell_type": "code",
   "execution_count": null,
   "metadata": {},
   "outputs": [],
   "source": [
    "\"\"\"@lettercount\"\"\"\n"
   ]
  },
  {
   "cell_type": "markdown",
   "metadata": {},
   "source": [
    "Test your code here:"
   ]
  },
  {
   "cell_type": "code",
   "execution_count": null,
   "metadata": {},
   "outputs": [],
   "source": [
    "count_letters(example_text)"
   ]
  },
  {
   "cell_type": "code",
   "execution_count": null,
   "metadata": {
    "jupyter": {
     "source_hidden": true
    }
   },
   "outputs": [],
   "source": [
    "%%testing @lettercount as solution, count_letters\n",
    "\n",
    "assert \"count_letters\" in solution.functions, \"\"\"I don't see the definition of count_letters\"\"\"\n",
    "assert [\"text\"] == solution.functions[\"count_letters\"].arguments, \"\"\"The arguments to count_letters don't match the requirements.\"\"\"\n",
    "assert solution.functions[\"count_letters\"].docstring is not None, \"\"\"The count_letters function has no docstring.\"\"\"\n",
    "assert ast.For in solution.functions[\"count_letters\"].tokens, \"\"\"The count_letters function should have a for loop.\"\"\"\n",
    "assert ast.If in solution.functions[\"count_letters\"].tokens, \"\"\"The count_letters function should have af if statement.\"\"\"\n",
    "assert {\"a\": 1, \"b\": 2} == count_letters(\"abb\"), \"\"\"Your function didn't work for simple input I gave it.\"\"\""
   ]
  }
 ],
 "metadata": {
  "kernelspec": {
   "display_name": "Python 3 (ipykernel)",
   "language": "python",
   "name": "python3"
  },
  "language_info": {
   "codemirror_mode": {
    "name": "ipython",
    "version": 3
   },
   "file_extension": ".py",
   "mimetype": "text/x-python",
   "name": "python",
   "nbconvert_exporter": "python",
   "pygments_lexer": "ipython3",
   "version": "3.12.3"
  }
 },
 "nbformat": 4,
 "nbformat_minor": 4
}
