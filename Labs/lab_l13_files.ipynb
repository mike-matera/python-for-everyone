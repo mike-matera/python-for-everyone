{
 "cells": [
  {
   "cell_type": "code",
   "execution_count": null,
   "metadata": {},
   "outputs": [],
   "source": [
    "%load_ext nbtest"
   ]
  },
  {
   "attachments": {},
   "cell_type": "markdown",
   "metadata": {},
   "source": [
    "# Lab: Files \n",
    "\n",
    "The problems in this lab will help you understand reading and writing files."
   ]
  },
  {
   "cell_type": "markdown",
   "metadata": {},
   "source": [
    "## Write a File \n",
    "\n",
    "The next solution writes a file called `test.txt` in the current folder. The next \n",
    "sections of the lab use this file."
   ]
  },
  {
   "cell_type": "code",
   "execution_count": null,
   "metadata": {},
   "outputs": [],
   "source": [
    "fh = open(\"test.txt\", \"w\")\n",
    "fh.write(\"\"\"This is a file to test with.\n",
    "It has a few lines. \n",
    "You can add more lines if you like.\n",
    "\"\"\")\n",
    "fh.close()"
   ]
  },
  {
   "cell_type": "markdown",
   "metadata": {},
   "source": [
    "\n",
    "## Part 1: Reading and Writing a Text File \n",
    "\n",
    "This part will help you understand reading and writing. \n",
    "\n",
    "### 1. Open and Read a File\n",
    "\n",
    "*Create a file called `test.txt` with a few lines in it.* Read and print the first line of the file. **Don't forget to close the file**."
   ]
  },
  {
   "cell_type": "code",
   "execution_count": null,
   "metadata": {},
   "outputs": [],
   "source": [
    "\"\"\"@read_test\"\"\"\n"
   ]
  },
  {
   "cell_type": "code",
   "execution_count": null,
   "metadata": {
    "jupyter": {
     "source_hidden": true
    }
   },
   "outputs": [],
   "source": [
    "%%testing @read_test as solution\n",
    "\n",
    "assert {\"print\", \"open\", \"readline\"} <= solution.calls, \"\"\"The solution should have calls to print(), open(), close() and readline()\"\"\"\n",
    "assert \"test.txt\" in solution.constants, \"\"\"The literal \"test.txt\" should be in your solution.\"\"\"\n",
    "assert \"close\" in solution.calls, \"\"\"You never closed the file handle!\"\"\""
   ]
  },
  {
   "attachments": {},
   "cell_type": "markdown",
   "metadata": {},
   "source": [
    "### 2. Read Two Lines \n",
    "\n",
    "Write a program that reads the first two lines of `test.txt` and prints them. **Don't forget to close the file**.  "
   ]
  },
  {
   "cell_type": "code",
   "execution_count": null,
   "metadata": {},
   "outputs": [],
   "source": [
    "\"\"\"@read_two\"\"\"\n"
   ]
  },
  {
   "cell_type": "code",
   "execution_count": null,
   "metadata": {
    "jupyter": {
     "source_hidden": true
    }
   },
   "outputs": [],
   "source": [
    "%%testing @read_two as solution\n",
    "\n",
    "assert {\"print\", \"open\", \"readline\"} <= solution.calls, \"\"\"The solution should have calls to print(), open(), close() and readline()\"\"\"\n",
    "assert \"test.txt\" in solution.constants, \"\"\"The literal \"test.txt\" should be in your solution.\"\"\"\n",
    "assert \"close\" in solution.calls, \"\"\"You never closed the file handle!\"\"\"\n",
    "assert solution.count_calls(\"readline\") == 2, \"\"\"The solution should call readline() twice.\"\"\""
   ]
  },
  {
   "attachments": {},
   "cell_type": "markdown",
   "metadata": {},
   "source": [
    "### 3. Write a File \n",
    "\n",
    "Use Python to write the following into a file called `fish.txt`:\n",
    "\n",
    "```\n",
    "One fish, \n",
    "Two fish, \n",
    "Red fish, \n",
    "Blue fish.\n",
    "```\n",
    "\n",
    "The program should create the file if it doesn't exist."
   ]
  },
  {
   "cell_type": "code",
   "execution_count": null,
   "metadata": {},
   "outputs": [],
   "source": [
    "\"\"\"@writefish\"\"\"\n"
   ]
  },
  {
   "cell_type": "code",
   "execution_count": null,
   "metadata": {
    "jupyter": {
     "source_hidden": true
    }
   },
   "outputs": [],
   "source": [
    "%%testing @writefish as solution\n",
    "\n",
    "assert \"open\" in solution.calls, \"\"\"The solution should call open()\"\"\"\n",
    "assert \"fish.txt\" in solution.constants, \"\"\"The literal \"fish.txt\" should be in your solution.\"\"\"\n",
    "assert \"w\" in solution.constants, \"\"\"You didn't open the file for writing.\"\"\"\n",
    "assert \"close\" in solution.calls, \"\"\"You never closed the file handle!\"\"\"\n",
    "assert any([\"\\n\" in const for const in solution.constants if isinstance(const, str)]), \"\"\"Check your file! It doesn't look like there are newline characters in it.\"\"\""
   ]
  },
  {
   "attachments": {},
   "cell_type": "markdown",
   "metadata": {},
   "source": [
    "### 4. Read Lines and Reorder \n",
    "\n",
    "Write a program that reads the four lines in `fish.txt` and prints them in *reverse order*. "
   ]
  },
  {
   "cell_type": "code",
   "execution_count": null,
   "metadata": {},
   "outputs": [],
   "source": [
    "\"\"\"@reversefish\"\"\"\n"
   ]
  },
  {
   "cell_type": "code",
   "execution_count": null,
   "metadata": {
    "jupyter": {
     "source_hidden": true
    }
   },
   "outputs": [],
   "source": [
    "%%testing @reversefish as solution\n",
    "import re\n",
    "assert \"open\" in solution.calls, \"\"\"The solution should call open()\"\"\"\n",
    "assert \"fish.txt\" in solution.constants, \"\"\"The literal \"fish.txt\" should be in your solution.\"\"\"\n",
    "assert \"w\" not in solution.constants, \"\"\"Don't overwrite the file!\"\"\"\n",
    "assert \"close\" in solution.calls, \"\"\"You never closed the file handle!\"\"\"\n",
    "assert re.match(r\".*Blue.*Red.*Two.*One.*\", solution.run().stdout, re.S) is not None, \"\"\"I don't see the lines in reverse order.\"\"\""
   ]
  },
  {
   "attachments": {},
   "cell_type": "markdown",
   "metadata": {},
   "source": [
    "### 5. Read Into a List \n",
    "\n",
    "Write a program that reads `fish.txt` into a list. "
   ]
  },
  {
   "cell_type": "code",
   "execution_count": null,
   "metadata": {},
   "outputs": [],
   "source": [
    "\"\"\"@listfish\"\"\"\n"
   ]
  },
  {
   "cell_type": "code",
   "execution_count": null,
   "metadata": {
    "jupyter": {
     "source_hidden": true
    }
   },
   "outputs": [],
   "source": [
    "%%testing @listfish as solution\n",
    "assert \"open\" in solution.calls, \"\"\"The solution should call open()\"\"\"\n",
    "assert \"fish.txt\" in solution.constants, \"\"\"The literal \"fish.txt\" should be in your solution.\"\"\"\n",
    "assert \"w\" not in solution.constants, \"\"\"Don't overwrite the file!\"\"\"\n",
    "assert \"close\" in solution.calls, \"\"\"You never closed the file handle!\"\"\"\n",
    "assert any([\n",
    "    isinstance(solution.ns[var], list) and len(solution.ns[var]) == 4\n",
    "    for var in solution.assignments\n",
    "]), \"\"\"I don't see a list with four entries in your solution.\"\"\"\n"
   ]
  },
  {
   "attachments": {},
   "cell_type": "markdown",
   "metadata": {},
   "source": [
    "### 6. Print the Last Line \n",
    "\n",
    "Use the list you created in the previous question to print the last line of the file.\n",
    "Don't re-read the file, just use `print` and the list variable from the last question. "
   ]
  },
  {
   "cell_type": "code",
   "execution_count": null,
   "metadata": {},
   "outputs": [],
   "source": [
    "\"\"\"@lastfish\"\"\"\n"
   ]
  },
  {
   "cell_type": "code",
   "execution_count": null,
   "metadata": {
    "jupyter": {
     "source_hidden": true
    }
   },
   "outputs": [],
   "source": [
    "%%testing @lastfish as solution\n",
    "assert \"open\" not in solution.calls, \"\"\"You should not use open() in the solution.\"\"\"\n",
    "assert \"print\" in solution.calls, \"\"\"You should use print() in the solution.\"\"\"\n",
    "assert 3 in solution.constants, \"\"\"The last line should be index 3 in your list.\"\"\""
   ]
  },
  {
   "attachments": {},
   "cell_type": "markdown",
   "metadata": {},
   "source": [
    "## Part 2: Functions with Files \n",
    "\n",
    "In this part you'll write functions that manipulate files."
   ]
  },
  {
   "attachments": {},
   "cell_type": "markdown",
   "metadata": {},
   "source": [
    "### 1. Read a Whole File\n",
    "\n",
    "Write a function called `read_file` that has an argument `filename` that contains the name of a file. The function should read the file and return it's entire contents. The function must close the file before returning. \n",
    "\n",
    "* Name: `read_file`\n",
    "* Arguments: \n",
    "    * `filename` (string) The name of a file to read.\n",
    "* Returns: (string) The contents of the file. "
   ]
  },
  {
   "cell_type": "code",
   "execution_count": null,
   "metadata": {},
   "outputs": [],
   "source": [
    "\"\"\"@readfilefunc\"\"\"\n"
   ]
  },
  {
   "attachments": {},
   "cell_type": "markdown",
   "metadata": {},
   "source": [
    "Test your function below. You can use the file `example.txt` for testing purposes."
   ]
  },
  {
   "cell_type": "code",
   "execution_count": null,
   "metadata": {},
   "outputs": [],
   "source": []
  },
  {
   "cell_type": "code",
   "execution_count": null,
   "metadata": {
    "jupyter": {
     "source_hidden": true
    }
   },
   "outputs": [],
   "source": [
    "%%testing @readfilefunc as solution, read_file\n",
    "import tempfile, pathlib\n",
    "assert \"read_file\" in solution.functions, \"\"\"I don't see the definition of read_file()\"\"\"\n",
    "assert solution.functions[\"read_file\"].docstring is not None, \"\"\"The read_file() function doesn't have a docstring.\"\"\"\n",
    "assert [\"filename\"] == solution.functions[\"read_file\"].arguments, \"\"\"The read_file() function doesn't have the arguments I expect.\"\"\"\n",
    "assert {\"open\", \"read\", \"close\"} <= solution.functions[\"read_file\"].calls, \"\"\"The read_file() function should call open(), close() and read()\"\"\"\n",
    "with tempfile.TemporaryDirectory() as td:\n",
    "    tempfile = pathlib.Path(td) / \"temp.txt\"\n",
    "    with open(tempfile, 'w') as fh:\n",
    "        fh.write(\"foo\\nbar\\nbak\\n\")\n",
    "    assert read_file(tempfile) == \"foo\\nbar\\nbak\\n\", \"\"\"Your read_file() function didn't return the exact contents of a test file.\"\"\""
   ]
  },
  {
   "attachments": {},
   "cell_type": "markdown",
   "metadata": {},
   "source": [
    "### 2. Write a Whole File\n",
    "\n",
    "Write a function called `write_file` that takes two arguments `filename` and `contents`. The function opens the file named in `filename` removing any previous contents and replacing them with `contents`. Return the number of characters written to the file. The function must close the file before returning. \n",
    "\n",
    "* Name: `write_file`\n",
    "* Arguments: \n",
    "    * `filename` (string) The name of a file to write.\n",
    "    * `contents` (string) The stuff to write into the file. \n",
    "* Returns: (integer) The number of characters written."
   ]
  },
  {
   "cell_type": "code",
   "execution_count": null,
   "metadata": {},
   "outputs": [],
   "source": [
    "\"\"\"@writefilefunc\"\"\"\n"
   ]
  },
  {
   "attachments": {},
   "cell_type": "markdown",
   "metadata": {},
   "source": [
    "Test your function in the solution below. Write to a file named `output.txt`"
   ]
  },
  {
   "cell_type": "code",
   "execution_count": null,
   "metadata": {},
   "outputs": [],
   "source": []
  },
  {
   "cell_type": "code",
   "execution_count": null,
   "metadata": {
    "jupyter": {
     "source_hidden": true
    }
   },
   "outputs": [],
   "source": [
    "%%testing @writefilefunc as solution, write_file\n",
    "import tempfile, pathlib\n",
    "assert \"write_file\" in solution.functions, \"\"\"I don't see the definition of write_file()\"\"\"\n",
    "assert solution.functions[\"write_file\"].docstring is not None, \"\"\"The write_file() function doesn't have a docstring.\"\"\"\n",
    "assert [\"filename\", \"contents\"] == solution.functions[\"write_file\"].arguments, \"\"\"The write_file() function doesn't have the arguments I expect.\"\"\"\n",
    "assert {\"open\", \"write\", \"close\"} <= solution.functions[\"write_file\"].calls, \"\"\"The write_file() function should call open(), close() and write()\"\"\"\n",
    "with tempfile.TemporaryDirectory() as td:\n",
    "    tempfile = pathlib.Path(td) / \"temp.txt\"\n",
    "    write_file(tempfile, \"foo\\nbar\\nbak\\n\")\n",
    "    with open(tempfile) as fh:\n",
    "        assert fh.read() == \"foo\\nbar\\nbak\\n\", \"\"\"Your write_file() function didn't write contents of a test file.\"\"\""
   ]
  },
  {
   "attachments": {},
   "cell_type": "markdown",
   "metadata": {},
   "source": [
    "### 3. Summing Values \n",
    "\n",
    "Write a function called `file_sum` that takes one argument `filename`, the name of a file. The function should read the first four lines of the file and convert the lines to `float`, then return the sum of the numbers in the file. \n",
    "\n",
    "* Name: `file_sum`\n",
    "* Arguments:\n",
    "    * `filename` (string) - The name of a file \n",
    "* Returns: (float) The sum of the first four lines in the file. "
   ]
  },
  {
   "cell_type": "code",
   "execution_count": null,
   "metadata": {},
   "outputs": [],
   "source": [
    "\"\"\"@filesum\"\"\"\n"
   ]
  },
  {
   "attachments": {},
   "cell_type": "markdown",
   "metadata": {},
   "source": [
    "Here's a little code to write a file called `numbers.txt` to help with your testing."
   ]
  },
  {
   "cell_type": "code",
   "execution_count": null,
   "metadata": {},
   "outputs": [],
   "source": [
    "fh = open(\"numbers.txt\", \"w\")\n",
    "fh.write(\"1.0\\n\")\n",
    "fh.write(\"2.0\\n\")\n",
    "fh.write(\"3.0\\n\")\n",
    "fh.write(\"4.0\\n\")\n",
    "fh.close()"
   ]
  },
  {
   "cell_type": "markdown",
   "metadata": {},
   "source": [
    "Test your function in the code below. The file `numbers.txt` in the current directory can be used for testing. "
   ]
  },
  {
   "cell_type": "code",
   "execution_count": null,
   "metadata": {},
   "outputs": [],
   "source": []
  },
  {
   "cell_type": "code",
   "execution_count": null,
   "metadata": {
    "jupyter": {
     "source_hidden": true
    }
   },
   "outputs": [],
   "source": [
    "%%testing @filesum as solution, file_sum\n",
    "import tempfile, pathlib\n",
    "assert \"file_sum\" in solution.functions, \"\"\"I don't see the definition of file_sum()\"\"\"\n",
    "assert solution.functions[\"file_sum\"].docstring is not None, \"\"\"The file_sum() function doesn't have a docstring.\"\"\"\n",
    "assert [\"filename\"] == solution.functions[\"file_sum\"].arguments, \"\"\"The file_sum() function doesn't have the arguments I expect.\"\"\"\n",
    "assert {\"open\", \"readline\", \"close\"} <= solution.functions[\"file_sum\"].calls, \"\"\"The file_sum() function should call open(), close() and readline()\"\"\"\n",
    "with tempfile.TemporaryDirectory() as td:\n",
    "    tempfile = pathlib.Path(td) / \"temp.txt\"\n",
    "    with open(tempfile, 'w') as fh:\n",
    "        fh.write(\"5\\n6\\n7\\n8\\n\")\n",
    "    assert round(file_sum(tempfile)) == round(26.0), \"\"\"Your file_sum() function didn't add the contents of a test file.\"\"\""
   ]
  },
  {
   "attachments": {},
   "cell_type": "markdown",
   "metadata": {},
   "source": [
    "### 4. Top to Bottom \n",
    "\n",
    "Write a function called `top_to_bottom` that takes one argument `filename`. The function reads the file and re-rewrites it with the first line of the file moved to the bottom. For example if the file looked like this before `top_to_bottom`:\n",
    "\n",
    "``` \n",
    "line 1\n",
    "line 2\n",
    "Mary had a little \n",
    "Lamb. \n",
    "And stuff\n",
    "```\n",
    "\n",
    "After `top_to_bottom` the file should look like this:\n",
    "\n",
    "``` \n",
    "line 2\n",
    "Mary had a little \n",
    "Lamb. \n",
    "And stuff\n",
    "line 1\n",
    "```\n",
    "\n",
    "* Name: `top_to_bottom`\n",
    "* Arguments:\n",
    "    * `filename` (string) - The name of a file \n",
    "* Returns: None"
   ]
  },
  {
   "cell_type": "code",
   "execution_count": null,
   "metadata": {},
   "outputs": [],
   "source": [
    "\"\"\"@toptobot\"\"\"\n"
   ]
  },
  {
   "attachments": {},
   "cell_type": "markdown",
   "metadata": {},
   "source": [
    "Test your function in the solution below:"
   ]
  },
  {
   "cell_type": "code",
   "execution_count": null,
   "metadata": {},
   "outputs": [],
   "source": []
  },
  {
   "cell_type": "code",
   "execution_count": null,
   "metadata": {
    "jupyter": {
     "source_hidden": true
    }
   },
   "outputs": [],
   "source": [
    "%%testing @toptobot as solution, top_to_bottom\n",
    "import tempfile, pathlib\n",
    "assert \"top_to_bottom\" in solution.functions, \"\"\"I don't see the definition of top_to_bottom()\"\"\"\n",
    "assert solution.functions[\"top_to_bottom\"].docstring is not None, \"\"\"The top_to_bottom() function doesn't have a docstring.\"\"\"\n",
    "assert [\"filename\"] == solution.functions[\"top_to_bottom\"].arguments, \"\"\"The top_to_bottom() function doesn't have the arguments I expect.\"\"\"\n",
    "assert {\"open\", \"write\", \"read\", \"readline\", \"close\"} <= solution.functions[\"top_to_bottom\"].calls, \"\"\"The top_to_bottom() function should call open(), close(), read(), readline() and write()\"\"\"\n",
    "with tempfile.TemporaryDirectory() as td:\n",
    "    tempfile = pathlib.Path(td) / \"temp.txt\"\n",
    "    with open(tempfile, 'w') as fh:\n",
    "        fh.write(\"one\\ntwo\\nthree\\nfour\\nfive\\n\")\n",
    "    top_to_bottom(tempfile)\n",
    "    with open(tempfile) as fh:\n",
    "        assert fh.read() == \"two\\nthree\\nfour\\nfive\\none\\n\", \"\"\"Your top_to_bottom() function didn't write contents of a test file.\"\"\""
   ]
  }
 ],
 "metadata": {
  "kernelspec": {
   "display_name": "Python 3 (ipykernel)",
   "language": "python",
   "name": "python3"
  },
  "language_info": {
   "codemirror_mode": {
    "name": "ipython",
    "version": 3
   },
   "file_extension": ".py",
   "mimetype": "text/x-python",
   "name": "python",
   "nbconvert_exporter": "python",
   "pygments_lexer": "ipython3",
   "version": "3.12.3"
  }
 },
 "nbformat": 4,
 "nbformat_minor": 4
}
