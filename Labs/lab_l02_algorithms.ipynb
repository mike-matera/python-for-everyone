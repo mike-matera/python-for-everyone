{
 "cells": [
  {
   "cell_type": "code",
   "execution_count": 1,
   "metadata": {},
   "outputs": [],
   "source": [
    "%load_ext nbtest \n",
    "%load_ext jupyter_turtle"
   ]
  },
  {
   "attachments": {},
   "cell_type": "markdown",
   "metadata": {},
   "source": [
    "# Lab: Algorithms \n",
    "\n",
    "An algorithm is a sequence of steps that performs a task. Programmers learn to take complex tasks and break them down into steps they've learned. Sometimes it's hard to figure out how to break down a problem. When you're stuck it's best to start by copying example code that works. This notebook will use the turtle which will help you understand algorithms. "
   ]
  },
  {
   "attachments": {},
   "cell_type": "markdown",
   "metadata": {},
   "source": [
    "## Drawing Shapes \n",
    "\n",
    "How can you use the pen to draw shapes? Every shape is a sequence of pen strokes and turns. For example, think of a triangle. You can draw a triangle by:\n",
    "\n",
    "1. Drawing an initial line \n",
    "2. Turning 120 degrees\n",
    "3. Drawing a second line \n",
    "4. Turning 120 degrees \n",
    "5. Drawing a third line\n",
    "\n",
    "Every closed shape has one important thing in common, the sum of all the turns equals 360 degrees. A triangle has three turns of 120 degrees each. The code below draws a triangle."
   ]
  },
  {
   "cell_type": "code",
   "execution_count": 2,
   "metadata": {},
   "outputs": [],
   "source": [
    "import jupyter_turtle as tu"
   ]
  },
  {
   "attachments": {},
   "cell_type": "markdown",
   "metadata": {},
   "source": [
    "You only have to run the `import` cell once unless you restart the python kernel. "
   ]
  },
  {
   "cell_type": "code",
   "execution_count": 3,
   "metadata": {},
   "outputs": [
    {
     "data": {
      "application/vnd.jupyter.widget-view+json": {
       "model_id": "24b0f8113d444d15b27ae965a1279f36",
       "version_major": 2,
       "version_minor": 0
      },
      "text/plain": [
       "MultiCanvas(height=300, sync_image_data=True, width=600)"
      ]
     },
     "metadata": {},
     "output_type": "display_data"
    }
   ],
   "source": [
    "tu.move(80)   # Draw the first line\n",
    "tu.turn(120)\n",
    "tu.move(80)   # Draw the second line\n",
    "tu.turn(120)\n",
    "tu.move(80)   # Draw the third line\n",
    "tu.turn(120)"
   ]
  },
  {
   "attachments": {},
   "cell_type": "markdown",
   "metadata": {},
   "source": [
    "## Part 1: Drawing Algorithms\n",
    "\n",
    "In the cells provided write code to implement the requested algorithms.\n",
    "\n",
    "### 1. Draw a Square\n",
    "\n",
    "Write an algorithm that draws a square."
   ]
  },
  {
   "cell_type": "code",
   "execution_count": 4,
   "metadata": {},
   "outputs": [
    {
     "data": {
      "application/vnd.jupyter.widget-view+json": {
       "model_id": "cee06ab651cf4efaa0fd5bbdb573551e",
       "version_major": 2,
       "version_minor": 0
      },
      "text/plain": [
       "MultiCanvas(height=300, sync_image_data=True, width=600)"
      ]
     },
     "metadata": {},
     "output_type": "display_data"
    }
   ],
   "source": [
    "\"\"\"@square\"\"\"\n",
    "\n",
    "tu.move(100)\n",
    "tu.turn(90)\n",
    "tu.move(100)\n",
    "tu.turn(90)\n",
    "tu.move(100)\n",
    "tu.turn(90)\n",
    "tu.move(100)"
   ]
  },
  {
   "cell_type": "code",
   "execution_count": 5,
   "metadata": {},
   "outputs": [
    {
     "data": {
      "text/html": [
       "<div style=\"font-size: large; font-weight: bold; margin-bottom: 1em; margin-top: 0.5em\">\n",
       "    \n",
       "        ✅ All tests passed.\n",
       "        \n",
       "</div>\n",
       "<div>\n",
       "    \n",
       "</div>"
      ],
      "text/plain": [
       "<IPython.core.display.HTML object>"
      ]
     },
     "execution_count": 5,
     "metadata": {},
     "output_type": "execute_result"
    }
   ],
   "source": [
    "%%testing @square as solution\n",
    "assert solution.result.turtle is not None, \"\"\"I don't see an answer to the question.\"\"\"\n",
    "assert solution.result.turtle.stats[\"moves\"] == 4, \"\"\"A square should have four sides.\"\"\""
   ]
  },
  {
   "attachments": {},
   "cell_type": "markdown",
   "metadata": {},
   "source": [
    "### 2. Draw a \"T\"\n",
    "\n",
    "Write an algorithm that draws a capital \"T\""
   ]
  },
  {
   "cell_type": "code",
   "execution_count": 8,
   "metadata": {},
   "outputs": [
    {
     "data": {
      "application/vnd.jupyter.widget-view+json": {
       "model_id": "9b7b0e6851364eb8b8c117e1085f7590",
       "version_major": 2,
       "version_minor": 0
      },
      "text/plain": [
       "MultiCanvas(height=300, sync_image_data=True, width=600)"
      ]
     },
     "metadata": {},
     "output_type": "display_data"
    }
   ],
   "source": [
    "\"\"\"@tee\"\"\"\n",
    "\n",
    "tu.move(100)\n",
    "tu.turn(90)\n",
    "tu.move(50)\n",
    "tu.move(-100)"
   ]
  },
  {
   "cell_type": "code",
   "execution_count": 10,
   "metadata": {},
   "outputs": [
    {
     "data": {
      "text/html": [
       "<div style=\"font-size: large; font-weight: bold; margin-bottom: 1em; margin-top: 0.5em\">\n",
       "    \n",
       "        ✅ All tests passed.\n",
       "        \n",
       "</div>\n",
       "<div>\n",
       "    \n",
       "</div>"
      ],
      "text/plain": [
       "<IPython.core.display.HTML object>"
      ]
     },
     "execution_count": 10,
     "metadata": {},
     "output_type": "execute_result"
    }
   ],
   "source": [
    "%%testing @tee as solution\n",
    "assert solution.result.turtle is not None, \"\"\"I don't see an answer to the question.\"\"\"\n",
    "assert solution.result.turtle.stats[\"strokes\"] >= 1 and \\\n",
    "    solution.result.turtle.stats[\"moves\"] >= 3, \"\"\"A \"T\" should have three or more moves.\"\"\""
   ]
  },
  {
   "attachments": {},
   "cell_type": "markdown",
   "metadata": {},
   "source": [
    "### 3. Draw an \"A\"\n",
    "\n",
    "Write an algorithm that draws a capital \"A\""
   ]
  },
  {
   "cell_type": "code",
   "execution_count": 11,
   "metadata": {},
   "outputs": [
    {
     "data": {
      "application/vnd.jupyter.widget-view+json": {
       "model_id": "4e857036ede347c797ba21a743fb7caf",
       "version_major": 2,
       "version_minor": 0
      },
      "text/plain": [
       "MultiCanvas(height=300, sync_image_data=True, width=600)"
      ]
     },
     "metadata": {},
     "output_type": "display_data"
    }
   ],
   "source": [
    "\"\"\"@aay\"\"\"\n",
    "\n",
    "tu.turn(45)\n",
    "tu.move(100)\n",
    "tu.turn(90)\n",
    "tu.move(100)\n",
    "tu.move(-50)\n",
    "tu.turn(45+90)\n",
    "tu.move(80)"
   ]
  },
  {
   "cell_type": "code",
   "execution_count": 12,
   "metadata": {},
   "outputs": [
    {
     "data": {
      "text/html": [
       "<div style=\"font-size: large; font-weight: bold; margin-bottom: 1em; margin-top: 0.5em\">\n",
       "    \n",
       "        ✅ All tests passed.\n",
       "        \n",
       "</div>\n",
       "<div>\n",
       "    \n",
       "</div>"
      ],
      "text/plain": [
       "<IPython.core.display.HTML object>"
      ]
     },
     "execution_count": 12,
     "metadata": {},
     "output_type": "execute_result"
    }
   ],
   "source": [
    "%%testing @aay as solution\n",
    "assert solution.result.turtle is not None, \"\"\"I don't see an answer to the question.\"\"\"\n",
    "assert solution.result.turtle.stats[\"strokes\"] >= 1 and \\\n",
    "    solution.result.turtle.stats[\"moves\"] >= 4, \"\"\"An \"A\" should have four or more moves.\"\"\""
   ]
  },
  {
   "attachments": {},
   "cell_type": "markdown",
   "metadata": {},
   "source": [
    "### 4. Escape the Maze!\n",
    "\n",
    "Use pen commands to help the turtle escape the maze. "
   ]
  },
  {
   "cell_type": "code",
   "execution_count": 13,
   "metadata": {},
   "outputs": [
    {
     "data": {
      "application/vnd.jupyter.widget-view+json": {
       "model_id": "15273524700b49a2a82d63880fc96519",
       "version_major": 2,
       "version_minor": 0
      },
      "text/plain": [
       "MultiCanvas(height=300, sync_image_data=True, width=600)"
      ]
     },
     "metadata": {},
     "output_type": "display_data"
    }
   ],
   "source": [
    "\"\"\"@maze\"\"\"\n",
    "\n",
    "tu.set_background('files/maze.png')\n",
    "\n",
    "# Put your code below this line."
   ]
  },
  {
   "cell_type": "code",
   "execution_count": 14,
   "metadata": {},
   "outputs": [
    {
     "data": {
      "text/html": [
       "<div style=\"font-size: large; font-weight: bold; margin-bottom: 0.5em; margin-top: 0.5em\">\n",
       "    ⚠️ Attention needed.\n",
       "</div>\n",
       "<div>\n",
       "    It takes at least three moves to escape the maze.\n",
       "</div>"
      ],
      "text/plain": [
       "<IPython.core.display.HTML object>"
      ]
     },
     "execution_count": 14,
     "metadata": {},
     "output_type": "execute_result"
    }
   ],
   "source": [
    "%%testing @maze as solution\n",
    "\n",
    "assert solution.result.turtle is not None, \"\"\"I don't see an answer to the question.\"\"\"\n",
    "assert solution.result.turtle.stats[\"moves\"] >= 3, \"\"\"It takes at least three moves to escape the maze.\"\"\"\n",
    "assert solution.result.turtle.stats[\"strokes\"] == 1, \"\"\"You must complete the maze without taking the pen up.\"\"\""
   ]
  },
  {
   "attachments": {},
   "cell_type": "markdown",
   "metadata": {},
   "source": [
    "## Part 2: Explore Turtle Commands \n",
    "\n",
    "Use the Lesson 2 notebook to discover how to solve the challenges in this section. \n",
    "\n",
    "### 1. Draw an \"M\"\n",
    "\n",
    "Use the `pos` property to draw an \"M\". **Do not use `move` or `turn`.**"
   ]
  },
  {
   "cell_type": "code",
   "execution_count": 15,
   "metadata": {},
   "outputs": [
    {
     "data": {
      "text/plain": [
       "'@letter_m'"
      ]
     },
     "execution_count": 15,
     "metadata": {},
     "output_type": "execute_result"
    }
   ],
   "source": [
    "\"\"\"@letter_m\"\"\""
   ]
  },
  {
   "cell_type": "code",
   "execution_count": 16,
   "metadata": {},
   "outputs": [
    {
     "data": {
      "text/html": [
       "<div style=\"font-size: large; font-weight: bold; margin-bottom: 0.5em; margin-top: 0.5em\">\n",
       "    ⚠️ Attention needed.\n",
       "</div>\n",
       "<div>\n",
       "    I don&#39;t see an answer to the question.\n",
       "</div>"
      ],
      "text/plain": [
       "<IPython.core.display.HTML object>"
      ]
     },
     "execution_count": 16,
     "metadata": {},
     "output_type": "execute_result"
    }
   ],
   "source": [
    "%%testing @letter_m as solution\n",
    "\n",
    "assert solution.result.turtle is not None, \"\"\"I don't see an answer to the question.\"\"\"\n",
    "assert solution.result.turtle.stats['moves'] == solution.result.turtle.stats['jumps'], \\\n",
    "    \"\"\"The solution should use goto() to move the turtle instead of move()\"\"\"\n",
    "assert solution.result.turtle.stats['turns'] == 0, \\\n",
    "    \"\"\"The solution should not use turn() or set_heading()\"\"\"\n",
    "assert solution.result.turtle.stats['moves'] == 4, \\\n",
    "    \"\"\"The letter \"M\" should have four lines.\"\"\""
   ]
  },
  {
   "attachments": {},
   "cell_type": "markdown",
   "metadata": {},
   "source": [
    "### 2. Draw an \"X\"\n",
    "\n",
    "Use the `pos` property draw an \"X\". You will need to pick the pen up and put it down again. **Do not use `move` or `turn`.**  "
   ]
  },
  {
   "cell_type": "code",
   "execution_count": 17,
   "metadata": {},
   "outputs": [
    {
     "data": {
      "text/plain": [
       "'@letter_x'"
      ]
     },
     "execution_count": 17,
     "metadata": {},
     "output_type": "execute_result"
    }
   ],
   "source": [
    "\"\"\"@letter_x\"\"\""
   ]
  },
  {
   "cell_type": "code",
   "execution_count": 18,
   "metadata": {},
   "outputs": [
    {
     "data": {
      "text/html": [
       "<div style=\"font-size: large; font-weight: bold; margin-bottom: 0.5em; margin-top: 0.5em\">\n",
       "    ⚠️ Attention needed.\n",
       "</div>\n",
       "<div>\n",
       "    I don&#39;t see an answer to the question.\n",
       "</div>"
      ],
      "text/plain": [
       "<IPython.core.display.HTML object>"
      ]
     },
     "execution_count": 18,
     "metadata": {},
     "output_type": "execute_result"
    }
   ],
   "source": [
    "%%testing @letter_x as solution\n",
    "\n",
    "assert solution.result.turtle is not None, \"\"\"I don't see an answer to the question.\"\"\"\n",
    "assert solution.result.turtle.stats['moves'] == letter_x.result.turtle.stats['jumps'], \\\n",
    "    \"\"\"The solution should use goto() to move the turtle instead of move()\"\"\"\n",
    "assert solution.result.turtle.stats['turns'] == 0, \\\n",
    "    \"\"\"The solution should not use turn() or set_heading()\"\"\"\n",
    "assert solution.result.turtle.stats['moves'] == 2, \\\n",
    "    \"\"\"The letter \"X\" should have two lines.\"\"\""
   ]
  },
  {
   "attachments": {},
   "cell_type": "markdown",
   "metadata": {},
   "source": [
    "### 3. Colorful Writing \n",
    "\n",
    "Write your name three times using three different colors. "
   ]
  },
  {
   "cell_type": "code",
   "execution_count": null,
   "metadata": {},
   "outputs": [],
   "source": [
    "\"\"\"@writing\"\"\""
   ]
  }
 ],
 "metadata": {
  "kernelspec": {
   "display_name": "venv-p4e",
   "language": "python",
   "name": "python3"
  },
  "language_info": {
   "codemirror_mode": {
    "name": "ipython",
    "version": 3
   },
   "file_extension": ".py",
   "mimetype": "text/x-python",
   "name": "python",
   "nbconvert_exporter": "python",
   "pygments_lexer": "ipython3",
   "version": "3.10.12"
  }
 },
 "nbformat": 4,
 "nbformat_minor": 4
}
