{
 "cells": [
  {
   "cell_type": "code",
   "execution_count": 1,
   "metadata": {},
   "outputs": [],
   "source": [
    "%load_ext nbtest"
   ]
  },
  {
   "cell_type": "markdown",
   "metadata": {},
   "source": [
    "XXX: Fixme. Just like the \"if\" lab the `todo_list` needs to be assigned in each of the cells."
   ]
  },
  {
   "attachments": {},
   "cell_type": "markdown",
   "metadata": {},
   "source": [
    "# Lab: Loops\n",
    "\n",
    "This lab will help you better understand how loops work. "
   ]
  },
  {
   "attachments": {},
   "cell_type": "markdown",
   "metadata": {},
   "source": [
    "## Part 1: `for` Loops and Sequences \n",
    "\n",
    "In programming there's a thing called the 90/10 rule: A program spends 90% of its time in 10% of the code. That's because of loops! Here is some practice with the `for` loop.\n",
    "\n",
    "### 1. Loop over a List\n",
    "\n",
    "Write a for loop that prints every element of `todo_list` from the last part."
   ]
  },
  {
   "cell_type": "code",
   "execution_count": 2,
   "metadata": {},
   "outputs": [
    {
     "name": "stdout",
     "output_type": "stream",
     "text": [
      "foo\n",
      "bar\n",
      "bak\n"
     ]
    }
   ],
   "source": [
    "\"\"\"@print_list\"\"\"\n",
    "\n",
    "todo_list = [\"foo\", \"bar\", \"bak\"]\n",
    "\n",
    "for item in todo_list:\n",
    "    print(item)"
   ]
  },
  {
   "cell_type": "code",
   "execution_count": 3,
   "metadata": {},
   "outputs": [
    {
     "data": {
      "text/html": [
       "<div style=\"font-size: large; font-weight: bold; margin-bottom: 1em; margin-top: 0.5em\">\n",
       "    \n",
       "        ✅ All tests passed.\n",
       "        \n",
       "</div>\n",
       "<div>\n",
       "    \n",
       "</div>"
      ],
      "text/plain": [
       "<IPython.core.display.HTML object>"
      ]
     },
     "execution_count": 3,
     "metadata": {},
     "output_type": "execute_result"
    }
   ],
   "source": [
    "%%testing @print_list as cell\n",
    "import ast\n",
    "assert ast.For in cell.tokens, \"\"\"I don't see \"for\" in your solution.\"\"\"\n",
    "assert \"print\" in cell.calls, \"\"\"I don't see a call to print()\"\"\"\n",
    "assert \"test_foo\" in cell.run({\"todo_list\":[\"test_foo\"]}).stdout, \"\"\"I didn't see an item when I changed todo_list\"\"\""
   ]
  },
  {
   "attachments": {},
   "cell_type": "markdown",
   "metadata": {},
   "source": [
    "### 2. Counting Loop \n",
    "\n",
    "Write a `for` loop that prints every number from 0 to 10 including 0 an 10"
   ]
  },
  {
   "cell_type": "code",
   "execution_count": 4,
   "metadata": {},
   "outputs": [
    {
     "name": "stdout",
     "output_type": "stream",
     "text": [
      "0\n",
      "1\n",
      "2\n",
      "3\n",
      "4\n",
      "5\n",
      "6\n",
      "7\n",
      "8\n",
      "9\n",
      "10\n"
     ]
    }
   ],
   "source": [
    "\"\"\"@counting_for\"\"\"\n",
    "\n",
    "for i in range(11):\n",
    "    print(i)"
   ]
  },
  {
   "cell_type": "code",
   "execution_count": 5,
   "metadata": {},
   "outputs": [
    {
     "data": {
      "text/html": [
       "<div style=\"font-size: large; font-weight: bold; margin-bottom: 1em; margin-top: 0.5em\">\n",
       "    \n",
       "        ✅ All tests passed.\n",
       "        \n",
       "</div>\n",
       "<div>\n",
       "    \n",
       "</div>"
      ],
      "text/plain": [
       "<IPython.core.display.HTML object>"
      ]
     },
     "execution_count": 5,
     "metadata": {},
     "output_type": "execute_result"
    }
   ],
   "source": [
    "%%testing @counting_for as cell\n",
    "\n",
    "import ast \n",
    "assert ast.For in cell.tokens, \"\"\"I don't see \"for\" in your solution.\"\"\"\n",
    "assert \"print\" in cell.calls, \"\"\"I don't see a call to print()\"\"\"\n",
    "assert \"range\" in cell.calls, \"\"\"I don't see a call to range()\"\"\"\n",
    "assert \"0\\n\" in cell.run().stdout, \"\"\"I don't see the number 0 in your output.\"\"\"\n",
    "assert \"10\\n\" in cell.run().stdout, \"\"\"I don't see the number 10 in your output.\"\"\""
   ]
  },
  {
   "attachments": {},
   "cell_type": "markdown",
   "metadata": {},
   "source": [
    "### 3. More Counting \n",
    "\n",
    "Write a for loop that prints every number from 5 to 10 including 5 and 10."
   ]
  },
  {
   "cell_type": "code",
   "execution_count": 6,
   "metadata": {},
   "outputs": [
    {
     "name": "stdout",
     "output_type": "stream",
     "text": [
      "5\n",
      "6\n",
      "7\n",
      "8\n",
      "9\n",
      "10\n"
     ]
    }
   ],
   "source": [
    "\"\"\"@counting_for2\"\"\"\n",
    "\n",
    "for i in range(5,11):\n",
    "    print(i)"
   ]
  },
  {
   "cell_type": "code",
   "execution_count": 7,
   "metadata": {},
   "outputs": [
    {
     "data": {
      "text/html": [
       "<div style=\"font-size: large; font-weight: bold; margin-bottom: 1em; margin-top: 0.5em\">\n",
       "    \n",
       "        ✅ All tests passed.\n",
       "        \n",
       "</div>\n",
       "<div>\n",
       "    \n",
       "</div>"
      ],
      "text/plain": [
       "<IPython.core.display.HTML object>"
      ]
     },
     "execution_count": 7,
     "metadata": {},
     "output_type": "execute_result"
    }
   ],
   "source": [
    "%%testing @counting_for2 as cell\n",
    "\n",
    "import ast \n",
    "assert ast.For in cell.tokens, \"\"\"I don't see \"for\" in your solution.\"\"\"\n",
    "assert \"print\" in cell.calls, \"\"\"I don't see a call to print()\"\"\"\n",
    "assert \"range\" in cell.calls, \"\"\"I don't see a call to range()\"\"\"\n",
    "assert \"1\\n\" not in cell.run().stdout, \"\"\"I see the number 1 but I shouldn't.\"\"\"\n",
    "assert \"10\\n\" in cell.run().stdout, \"\"\"I don't see the number 10 in your output.\"\"\""
   ]
  },
  {
   "attachments": {},
   "cell_type": "markdown",
   "metadata": {},
   "source": [
    "### 4. File For Loop \n",
    "\n",
    "Write a for loop that prints every line of the file `../Lessons/files/example.txt` **with line numbers**."
   ]
  },
  {
   "cell_type": "code",
   "execution_count": null,
   "metadata": {},
   "outputs": [],
   "source": []
  },
  {
   "attachments": {},
   "cell_type": "markdown",
   "metadata": {},
   "source": [
    "### 5. Loop Over Letters\n",
    "\n",
    "Write a `for` loop that prints each letter in the `sentence` variable one at a time."
   ]
  },
  {
   "cell_type": "code",
   "execution_count": 8,
   "metadata": {},
   "outputs": [],
   "source": [
    "sentence = \"Mary had a little lamb.\" "
   ]
  },
  {
   "attachments": {},
   "cell_type": "markdown",
   "metadata": {},
   "source": [
    "### 6. Loop Over Words\n",
    "\n",
    "Write a `for` loop that prints each **word** in the `sentence` variable, one at a time. *Hint: Look for `split` in the Lists lecture notes.*"
   ]
  },
  {
   "cell_type": "code",
   "execution_count": 9,
   "metadata": {},
   "outputs": [],
   "source": [
    "sentence = \"Mary had a little lamb.\" "
   ]
  },
  {
   "attachments": {},
   "cell_type": "markdown",
   "metadata": {},
   "source": [
    "## Part 2: The `for` Loop and Dictionaries \n",
    "\n",
    "Now get practice using the `for` loops with a dictionary. Here's a dictionary to get started: "
   ]
  },
  {
   "cell_type": "code",
   "execution_count": 10,
   "metadata": {},
   "outputs": [],
   "source": [
    "courses = {\n",
    "    'cis-15': 'Python Programming for Everyone',\n",
    "    'cis-81': 'Introduction to Networking',\n",
    "    'cis-90': 'Introduction to UNIX/Linux',\n",
    "    'cis-75': 'Computer Security Fundamentals',\n",
    "}"
   ]
  },
  {
   "attachments": {},
   "cell_type": "markdown",
   "metadata": {},
   "source": [
    "### 1. Loop Over Keys\n",
    "\n",
    "Write a `for` loop that prints all the keys in `courses`."
   ]
  },
  {
   "cell_type": "code",
   "execution_count": null,
   "metadata": {},
   "outputs": [],
   "source": []
  },
  {
   "attachments": {},
   "cell_type": "markdown",
   "metadata": {},
   "source": [
    "### 2. Loop Over Values \n",
    "\n",
    "Write a `for` loop that prints all of the values in `courses`."
   ]
  },
  {
   "cell_type": "code",
   "execution_count": null,
   "metadata": {},
   "outputs": [],
   "source": []
  },
  {
   "attachments": {},
   "cell_type": "markdown",
   "metadata": {},
   "source": [
    "### 3. Keys and Values \n",
    "\n",
    "Write a `for` loop that prints all keys and values in `courses`."
   ]
  },
  {
   "cell_type": "code",
   "execution_count": null,
   "metadata": {},
   "outputs": [],
   "source": []
  }
 ],
 "metadata": {
  "interpreter": {
   "hash": "916dbcbb3f70747c44a77c7bcd40155683ae19c65e1c03b4aa3499c5328201f1"
  },
  "kernelspec": {
   "display_name": "Python 3 (ipykernel)",
   "language": "python",
   "name": "python3"
  },
  "language_info": {
   "codemirror_mode": {
    "name": "ipython",
    "version": 3
   },
   "file_extension": ".py",
   "mimetype": "text/x-python",
   "name": "python",
   "nbconvert_exporter": "python",
   "pygments_lexer": "ipython3",
   "version": "3.12.3"
  },
  "pycharm": {
   "stem_cell": {
    "cell_type": "raw",
    "metadata": {
     "collapsed": false
    },
    "source": []
   }
  }
 },
 "nbformat": 4,
 "nbformat_minor": 4
}
