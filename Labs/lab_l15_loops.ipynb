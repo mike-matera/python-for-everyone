{
 "cells": [
  {
   "cell_type": "code",
   "execution_count": null,
   "metadata": {},
   "outputs": [],
   "source": [
    "%load_ext nbtest"
   ]
  },
  {
   "attachments": {},
   "cell_type": "markdown",
   "metadata": {},
   "source": [
    "# Lab: Loops\n",
    "\n",
    "This lab will help you better understand how loops work. "
   ]
  },
  {
   "attachments": {},
   "cell_type": "markdown",
   "metadata": {},
   "source": [
    "## Part 1: `for` Loops and Sequences \n",
    "\n",
    "In programming there's a thing called the 90/10 rule: A program spends 90% of its time in 10% of the code. That's because of loops! Here is some practice with the `for` loop.\n",
    "\n",
    "### 1. Loop over a List\n",
    "\n",
    "Define a list called `todo_list` in the next cell then write a for loop that prints every element of `todo_list`."
   ]
  },
  {
   "cell_type": "code",
   "execution_count": null,
   "metadata": {},
   "outputs": [],
   "source": [
    "\"\"\"@print_list\"\"\"\n"
   ]
  },
  {
   "cell_type": "code",
   "execution_count": null,
   "metadata": {
    "jupyter": {
     "source_hidden": true
    }
   },
   "outputs": [],
   "source": [
    "%%testing @print_list as cell\n",
    "import ast\n",
    "assert ast.For in cell.tokens, \"\"\"I don't see \"for\" in your solution.\"\"\"\n",
    "assert \"print\" in cell.calls, \"\"\"I don't see a call to print()\"\"\"\n",
    "assert \"test_foo\" in cell.run({\"todo_list\":[\"test_foo\"]}).stdout, \"\"\"I didn't see an item when I changed todo_list\"\"\""
   ]
  },
  {
   "attachments": {},
   "cell_type": "markdown",
   "metadata": {},
   "source": [
    "### 2. Counting Loop \n",
    "\n",
    "Write a `for` loop that prints every number from 0 to 10 including 0 an 10"
   ]
  },
  {
   "cell_type": "code",
   "execution_count": null,
   "metadata": {},
   "outputs": [],
   "source": [
    "\"\"\"@counting_for\"\"\"\n"
   ]
  },
  {
   "cell_type": "code",
   "execution_count": null,
   "metadata": {
    "jupyter": {
     "source_hidden": true
    }
   },
   "outputs": [],
   "source": [
    "%%testing @counting_for as cell\n",
    "\n",
    "import ast \n",
    "assert ast.For in cell.tokens, \"\"\"I don't see \"for\" in your solution.\"\"\"\n",
    "assert \"print\" in cell.calls, \"\"\"I don't see a call to print()\"\"\"\n",
    "assert \"range\" in cell.calls, \"\"\"I don't see a call to range()\"\"\"\n",
    "assert \"0\\n\" in cell.run().stdout, \"\"\"I don't see the number 0 in your output.\"\"\"\n",
    "assert \"10\\n\" in cell.run().stdout, \"\"\"I don't see the number 10 in your output.\"\"\""
   ]
  },
  {
   "attachments": {},
   "cell_type": "markdown",
   "metadata": {},
   "source": [
    "### 3. More Counting \n",
    "\n",
    "Write a for loop that prints every number from 5 to 10 including 5 and 10."
   ]
  },
  {
   "cell_type": "code",
   "execution_count": null,
   "metadata": {},
   "outputs": [],
   "source": [
    "\"\"\"@counting_for2\"\"\"\n"
   ]
  },
  {
   "cell_type": "code",
   "execution_count": null,
   "metadata": {
    "jupyter": {
     "source_hidden": true
    }
   },
   "outputs": [],
   "source": [
    "%%testing @counting_for2 as cell\n",
    "\n",
    "import ast \n",
    "assert ast.For in cell.tokens, \"\"\"I don't see \"for\" in your solution.\"\"\"\n",
    "assert \"print\" in cell.calls, \"\"\"I don't see a call to print()\"\"\"\n",
    "assert \"range\" in cell.calls, \"\"\"I don't see a call to range()\"\"\"\n",
    "assert \"1\\n\" not in cell.run().stdout, \"\"\"I see the number 1 but I shouldn't.\"\"\"\n",
    "assert \"10\\n\" in cell.run().stdout, \"\"\"I don't see the number 10 in your output.\"\"\""
   ]
  },
  {
   "attachments": {},
   "cell_type": "markdown",
   "metadata": {},
   "source": [
    "### 4. File For Loop \n",
    "\n",
    "Write a for loop that prints every line of the file `../Lessons/files/example.txt` **with line numbers**."
   ]
  },
  {
   "cell_type": "code",
   "execution_count": null,
   "metadata": {},
   "outputs": [],
   "source": [
    "\"\"\"@forfile\"\"\"\n"
   ]
  },
  {
   "cell_type": "code",
   "execution_count": null,
   "metadata": {
    "jupyter": {
     "source_hidden": true
    }
   },
   "outputs": [],
   "source": [
    "%%testing @forfile as solution\n",
    "import ast\n",
    "assert {\"open\", \"close\"} <= solution.calls, \"\"\"Your solution should have open() and close()\"\"\"\n",
    "assert ast.For in solution.tokens, \"\"\"I don't see a for loop.\"\"\" \n",
    "assert \"../Lessons/files/example.txt\" in solution.constants, \"\"\"I don't see a string with the right file name.\"\"\""
   ]
  },
  {
   "attachments": {},
   "cell_type": "markdown",
   "metadata": {},
   "source": [
    "### 5. Loop Over Letters\n",
    "\n",
    "Write a `for` loop that prints each letter in the `sentence` variable one at a time."
   ]
  },
  {
   "cell_type": "code",
   "execution_count": null,
   "metadata": {},
   "outputs": [],
   "source": [
    "\"\"\"@forletter\"\"\"\n",
    "\n",
    "sentence = \"Mary had a little lamb.\"\n"
   ]
  },
  {
   "cell_type": "code",
   "execution_count": null,
   "metadata": {
    "jupyter": {
     "source_hidden": true
    }
   },
   "outputs": [],
   "source": [
    "%%testing @forletter as solution \n",
    "assert ast.For in solution.tokens, \"\"\"I don't see a for loop.\"\"\" \n",
    "assert solution.run({\"sentence\":\"hi\"}).stdout == \"h\\ni\\n\", \"\"\"You didn't print what I expected.\"\"\""
   ]
  },
  {
   "attachments": {},
   "cell_type": "markdown",
   "metadata": {},
   "source": [
    "### 6. Loop Over Words\n",
    "\n",
    "Write a `for` loop that prints each **word** in the `sentence` variable, one at a time. \n",
    "\n",
    "*Hint: Look for `split` in the Lists lecture notes.*"
   ]
  },
  {
   "cell_type": "code",
   "execution_count": null,
   "metadata": {},
   "outputs": [],
   "source": [
    "\"\"\"@forword\"\"\"\n",
    "\n",
    "sentence = \"Mary had a little lamb.\" \n"
   ]
  },
  {
   "cell_type": "code",
   "execution_count": null,
   "metadata": {
    "jupyter": {
     "source_hidden": true
    }
   },
   "outputs": [],
   "source": [
    "%%testing @forword as solution \n",
    "assert ast.For in solution.tokens, \"\"\"I don't see a for loop.\"\"\" \n",
    "assert solution.run({\"sentence\":\"foo bar\"}).stdout == \"foo\\nbar\\n\", \"\"\"You didn't print what I expected.\"\"\""
   ]
  },
  {
   "attachments": {},
   "cell_type": "markdown",
   "metadata": {},
   "source": [
    "## Part 2: The `for` Loop and Dictionaries \n",
    "\n",
    "Now get practice using the `for` loops with a dictionary. Here's a dictionary to get started: "
   ]
  },
  {
   "cell_type": "code",
   "execution_count": null,
   "metadata": {},
   "outputs": [],
   "source": [
    "courses = {\n",
    "    'cis-15': 'Python Programming for Everyone',\n",
    "    'cis-81': 'Introduction to Networking',\n",
    "    'cis-90': 'Introduction to UNIX/Linux',\n",
    "    'cis-75': 'Computer Security Fundamentals',\n",
    "}"
   ]
  },
  {
   "attachments": {},
   "cell_type": "markdown",
   "metadata": {},
   "source": [
    "### 1. Loop Over Keys\n",
    "\n",
    "Write a `for` loop that prints all the keys in `courses`."
   ]
  },
  {
   "cell_type": "code",
   "execution_count": null,
   "metadata": {},
   "outputs": [],
   "source": [
    "\"\"\"@forkey\"\"\"\n"
   ]
  },
  {
   "cell_type": "code",
   "execution_count": null,
   "metadata": {
    "jupyter": {
     "source_hidden": true
    }
   },
   "outputs": [],
   "source": [
    "%%testing @forkey as solution\n",
    "assert ast.For in solution.tokens, \"\"\"I don't see a for loop.\"\"\" \n",
    "assert \"cis-15\" in solution.run().stdout, \"\"\"You didn't print \"cis-15\" \"\"\""
   ]
  },
  {
   "attachments": {},
   "cell_type": "markdown",
   "metadata": {},
   "source": [
    "### 2. Loop Over Values \n",
    "\n",
    "Write a `for` loop that prints all of the values in `courses`."
   ]
  },
  {
   "cell_type": "code",
   "execution_count": null,
   "metadata": {},
   "outputs": [],
   "source": [
    "\"\"\"@forvalue\"\"\"\n"
   ]
  },
  {
   "cell_type": "code",
   "execution_count": null,
   "metadata": {
    "jupyter": {
     "source_hidden": true
    }
   },
   "outputs": [],
   "source": [
    "%%testing @forvalue as solution\n",
    "assert ast.For in solution.tokens, \"\"\"I don't see a for loop.\"\"\" \n",
    "assert \"Python\" in solution.run().stdout, \"\"\"You didn't print \"Python\" \"\"\""
   ]
  },
  {
   "attachments": {},
   "cell_type": "markdown",
   "metadata": {},
   "source": [
    "### 3. Keys and Values \n",
    "\n",
    "Write a `for` loop that prints all keys and values in `courses`."
   ]
  },
  {
   "cell_type": "code",
   "execution_count": null,
   "metadata": {},
   "outputs": [],
   "source": [
    "\"\"\"@foritems\"\"\"\n"
   ]
  },
  {
   "cell_type": "code",
   "execution_count": null,
   "metadata": {
    "jupyter": {
     "source_hidden": true
    }
   },
   "outputs": [],
   "source": [
    "%%testing @foritems as solution\n",
    "assert ast.For in solution.tokens, \"\"\"I don't see a for loop.\"\"\" \n",
    "assert \"cis-15\" in solution.run().stdout, \"\"\"You didn't print \"cis-15\" \"\"\"\n",
    "assert \"Python\" in solution.run().stdout, \"\"\"You didn't print \"Python\" \"\"\""
   ]
  }
 ],
 "metadata": {
  "kernelspec": {
   "display_name": "Python 3 (ipykernel)",
   "language": "python",
   "name": "python3"
  },
  "language_info": {
   "codemirror_mode": {
    "name": "ipython",
    "version": 3
   },
   "file_extension": ".py",
   "mimetype": "text/x-python",
   "name": "python",
   "nbconvert_exporter": "python",
   "pygments_lexer": "ipython3",
   "version": "3.12.3"
  },
  "pycharm": {
   "stem_cell": {
    "cell_type": "raw",
    "metadata": {
     "collapsed": false
    },
    "source": []
   }
  }
 },
 "nbformat": 4,
 "nbformat_minor": 4
}
