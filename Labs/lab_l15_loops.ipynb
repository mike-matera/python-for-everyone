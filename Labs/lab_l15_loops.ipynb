{
 "cells": [
  {
   "cell_type": "code",
   "execution_count": 1,
   "metadata": {},
   "outputs": [],
   "source": [
    "%load_ext nbtest"
   ]
  },
  {
   "attachments": {},
   "cell_type": "markdown",
   "metadata": {},
   "source": [
    "# Lab: Loops\n",
    "\n",
    "This lab will help you better understand how loops work. "
   ]
  },
  {
   "attachments": {},
   "cell_type": "markdown",
   "metadata": {},
   "source": [
    "## Part 1: `for` Loops and Sequences \n",
    "\n",
    "In programming there's a thing called the 90/10 rule: A program spends 90% of its time in 10% of the code. That's because of loops! Here is some practice with the `for` loop.\n",
    "\n",
    "### 1. Loop over a List\n",
    "\n",
    "Write a for loop that prints every element of `todo_list` from the last part."
   ]
  },
  {
   "cell_type": "code",
   "execution_count": 2,
   "metadata": {},
   "outputs": [
    {
     "name": "stdout",
     "output_type": "stream",
     "text": [
      "foo\n",
      "bar\n",
      "bak\n"
     ]
    }
   ],
   "source": [
    "\"\"\"@print_list\"\"\"\n",
    "\n",
    "todo_list = [\"foo\", \"bar\", \"bak\"]\n",
    "\n",
    "for item in todo_list:\n",
    "    print(item)"
   ]
  },
  {
   "cell_type": "code",
   "execution_count": 3,
   "metadata": {},
   "outputs": [
    {
     "data": {
      "text/html": [
       "<div style=\"font-size: large; font-weight: bold; margin-bottom: 1em; margin-top: 0.5em\">\n",
       "    \n",
       "        ✅ All tests passed.\n",
       "        \n",
       "</div>\n",
       "<div>\n",
       "    \n",
       "</div>"
      ],
      "text/plain": [
       "<IPython.core.display.HTML object>"
      ]
     },
     "execution_count": 3,
     "metadata": {},
     "output_type": "execute_result"
    }
   ],
   "source": [
    "%%testing @print_list as cell\n",
    "import ast\n",
    "assert ast.For in cell.tokens, \"\"\"I don't see \"for\" in your solution.\"\"\"\n",
    "assert \"print\" in cell.calls, \"\"\"I don't see a call to print()\"\"\"\n",
    "assert \"test_foo\" in cell.run({\"todo_list\":[\"test_foo\"]}).stdout, \"\"\"I didn't see an item when I changed todo_list\"\"\""
   ]
  },
  {
   "attachments": {},
   "cell_type": "markdown",
   "metadata": {},
   "source": [
    "### 2. Counting Loop \n",
    "\n",
    "Write a `for` loop that prints every number from 0 to 10 including 0 an 10"
   ]
  },
  {
   "cell_type": "code",
   "execution_count": 4,
   "metadata": {},
   "outputs": [
    {
     "name": "stdout",
     "output_type": "stream",
     "text": [
      "0\n",
      "1\n",
      "2\n",
      "3\n",
      "4\n",
      "5\n",
      "6\n",
      "7\n",
      "8\n",
      "9\n",
      "10\n"
     ]
    }
   ],
   "source": [
    "\"\"\"@counting_for\"\"\"\n",
    "\n",
    "for i in range(11):\n",
    "    print(i)"
   ]
  },
  {
   "cell_type": "code",
   "execution_count": 5,
   "metadata": {},
   "outputs": [
    {
     "data": {
      "text/html": [
       "<div style=\"font-size: large; font-weight: bold; margin-bottom: 1em; margin-top: 0.5em\">\n",
       "    \n",
       "        ✅ All tests passed.\n",
       "        \n",
       "</div>\n",
       "<div>\n",
       "    \n",
       "</div>"
      ],
      "text/plain": [
       "<IPython.core.display.HTML object>"
      ]
     },
     "execution_count": 5,
     "metadata": {},
     "output_type": "execute_result"
    }
   ],
   "source": [
    "%%testing @counting_for as cell\n",
    "\n",
    "import ast \n",
    "assert ast.For in cell.tokens, \"\"\"I don't see \"for\" in your solution.\"\"\"\n",
    "assert \"print\" in cell.calls, \"\"\"I don't see a call to print()\"\"\"\n",
    "assert \"range\" in cell.calls, \"\"\"I don't see a call to range()\"\"\"\n",
    "assert \"0\\n\" in cell.run().stdout, \"\"\"I don't see the number 0 in your output.\"\"\"\n",
    "assert \"10\\n\" in cell.run().stdout, \"\"\"I don't see the number 10 in your output.\"\"\""
   ]
  },
  {
   "attachments": {},
   "cell_type": "markdown",
   "metadata": {},
   "source": [
    "### 3. More Counting \n",
    "\n",
    "Write a for loop that prints every number from 5 to 10 including 5 and 10."
   ]
  },
  {
   "cell_type": "code",
   "execution_count": 6,
   "metadata": {},
   "outputs": [
    {
     "name": "stdout",
     "output_type": "stream",
     "text": [
      "5\n",
      "6\n",
      "7\n",
      "8\n",
      "9\n",
      "10\n"
     ]
    }
   ],
   "source": [
    "\"\"\"@counting_for2\"\"\"\n",
    "\n",
    "for i in range(5,11):\n",
    "    print(i)"
   ]
  },
  {
   "cell_type": "code",
   "execution_count": 7,
   "metadata": {},
   "outputs": [
    {
     "data": {
      "text/html": [
       "<div style=\"font-size: large; font-weight: bold; margin-bottom: 1em; margin-top: 0.5em\">\n",
       "    \n",
       "        ✅ All tests passed.\n",
       "        \n",
       "</div>\n",
       "<div>\n",
       "    \n",
       "</div>"
      ],
      "text/plain": [
       "<IPython.core.display.HTML object>"
      ]
     },
     "execution_count": 7,
     "metadata": {},
     "output_type": "execute_result"
    }
   ],
   "source": [
    "%%testing @counting_for2 as cell\n",
    "\n",
    "import ast \n",
    "assert ast.For in cell.tokens, \"\"\"I don't see \"for\" in your solution.\"\"\"\n",
    "assert \"print\" in cell.calls, \"\"\"I don't see a call to print()\"\"\"\n",
    "assert \"range\" in cell.calls, \"\"\"I don't see a call to range()\"\"\"\n",
    "assert \"1\\n\" not in cell.run().stdout, \"\"\"I see the number 1 but I shouldn't.\"\"\"\n",
    "assert \"10\\n\" in cell.run().stdout, \"\"\"I don't see the number 10 in your output.\"\"\""
   ]
  },
  {
   "attachments": {},
   "cell_type": "markdown",
   "metadata": {},
   "source": [
    "### 4. File For Loop \n",
    "\n",
    "Write a for loop that prints every line of the file `../Lessons/files/example.txt` **with line numbers**."
   ]
  },
  {
   "cell_type": "code",
   "execution_count": 8,
   "metadata": {},
   "outputs": [
    {
     "name": "stdout",
     "output_type": "stream",
     "text": [
      "This is example.txt\n",
      "\n",
      "Roses are red, \n",
      "\n",
      "violets are blue, \n",
      "\n",
      "Programs need files, \n",
      "\n",
      "and so do you. \n",
      "\n"
     ]
    }
   ],
   "source": [
    "\"\"\"@forfile\"\"\"\n",
    "\n",
    "fh = open(\"../Lessons/files/example.txt\")\n",
    "for line in fh:\n",
    "    print(line)\n",
    "fh.close()"
   ]
  },
  {
   "cell_type": "code",
   "execution_count": 9,
   "metadata": {},
   "outputs": [
    {
     "data": {
      "text/html": [
       "<div style=\"font-size: large; font-weight: bold; margin-bottom: 1em; margin-top: 0.5em\">\n",
       "    \n",
       "        ✅ All tests passed.\n",
       "        \n",
       "</div>\n",
       "<div>\n",
       "    \n",
       "</div>"
      ],
      "text/plain": [
       "<IPython.core.display.HTML object>"
      ]
     },
     "execution_count": 9,
     "metadata": {},
     "output_type": "execute_result"
    }
   ],
   "source": [
    "%%testing @forfile as solution\n",
    "import ast\n",
    "assert {\"open\", \"close\"} <= solution.calls, \"\"\"Your solution should have open() and close()\"\"\"\n",
    "assert ast.For in solution.tokens, \"\"\"I don't see a for loop.\"\"\" \n",
    "assert \"../Lessons/files/example.txt\" in solution.constants, \"\"\"I don't see a string with the right file name.\"\"\""
   ]
  },
  {
   "attachments": {},
   "cell_type": "markdown",
   "metadata": {},
   "source": [
    "### 5. Loop Over Letters\n",
    "\n",
    "Write a `for` loop that prints each letter in the `sentence` variable one at a time."
   ]
  },
  {
   "cell_type": "code",
   "execution_count": 10,
   "metadata": {},
   "outputs": [
    {
     "name": "stdout",
     "output_type": "stream",
     "text": [
      "M\n",
      "a\n",
      "r\n",
      "y\n",
      " \n",
      "h\n",
      "a\n",
      "d\n",
      " \n",
      "a\n",
      " \n",
      "l\n",
      "i\n",
      "t\n",
      "t\n",
      "l\n",
      "e\n",
      " \n",
      "l\n",
      "a\n",
      "m\n",
      "b\n",
      ".\n"
     ]
    }
   ],
   "source": [
    "\"\"\"@forletter\"\"\"\n",
    "\n",
    "sentence = \"Mary had a little lamb.\"\n",
    "\n",
    "# Put the for loop below.\n",
    "for letter in sentence:\n",
    "    print(letter)"
   ]
  },
  {
   "cell_type": "code",
   "execution_count": 11,
   "metadata": {},
   "outputs": [
    {
     "data": {
      "text/html": [
       "<div style=\"font-size: large; font-weight: bold; margin-bottom: 1em; margin-top: 0.5em\">\n",
       "    \n",
       "        ✅ All tests passed.\n",
       "        \n",
       "</div>\n",
       "<div>\n",
       "    \n",
       "</div>"
      ],
      "text/plain": [
       "<IPython.core.display.HTML object>"
      ]
     },
     "execution_count": 11,
     "metadata": {},
     "output_type": "execute_result"
    }
   ],
   "source": [
    "%%testing @forletter as solution \n",
    "assert ast.For in solution.tokens, \"\"\"I don't see a for loop.\"\"\" \n",
    "assert solution.run({\"sentence\":\"hi\"}).stdout == \"h\\ni\\n\", \"\"\"You didn't print what I expected.\"\"\""
   ]
  },
  {
   "attachments": {},
   "cell_type": "markdown",
   "metadata": {},
   "source": [
    "### 6. Loop Over Words\n",
    "\n",
    "Write a `for` loop that prints each **word** in the `sentence` variable, one at a time. \n",
    "\n",
    "*Hint: Look for `split` in the Lists lecture notes.*"
   ]
  },
  {
   "cell_type": "code",
   "execution_count": 12,
   "metadata": {},
   "outputs": [
    {
     "name": "stdout",
     "output_type": "stream",
     "text": [
      "Mary\n",
      "had\n",
      "a\n",
      "little\n",
      "lamb.\n"
     ]
    }
   ],
   "source": [
    "\"\"\"@forword\"\"\"\n",
    "\n",
    "sentence = \"Mary had a little lamb.\" \n",
    "\n",
    "for word in sentence.split():\n",
    "    print(word)"
   ]
  },
  {
   "cell_type": "code",
   "execution_count": 13,
   "metadata": {},
   "outputs": [
    {
     "data": {
      "text/html": [
       "<div style=\"font-size: large; font-weight: bold; margin-bottom: 1em; margin-top: 0.5em\">\n",
       "    \n",
       "        ✅ All tests passed.\n",
       "        \n",
       "</div>\n",
       "<div>\n",
       "    \n",
       "</div>"
      ],
      "text/plain": [
       "<IPython.core.display.HTML object>"
      ]
     },
     "execution_count": 13,
     "metadata": {},
     "output_type": "execute_result"
    }
   ],
   "source": [
    "%%testing @forword as solution \n",
    "assert ast.For in solution.tokens, \"\"\"I don't see a for loop.\"\"\" \n",
    "assert solution.run({\"sentence\":\"foo bar\"}).stdout == \"foo\\nbar\\n\", \"\"\"You didn't print what I expected.\"\"\""
   ]
  },
  {
   "attachments": {},
   "cell_type": "markdown",
   "metadata": {},
   "source": [
    "## Part 2: The `for` Loop and Dictionaries \n",
    "\n",
    "Now get practice using the `for` loops with a dictionary. Here's a dictionary to get started: "
   ]
  },
  {
   "cell_type": "code",
   "execution_count": 14,
   "metadata": {},
   "outputs": [],
   "source": [
    "courses = {\n",
    "    'cis-15': 'Python Programming for Everyone',\n",
    "    'cis-81': 'Introduction to Networking',\n",
    "    'cis-90': 'Introduction to UNIX/Linux',\n",
    "    'cis-75': 'Computer Security Fundamentals',\n",
    "}"
   ]
  },
  {
   "attachments": {},
   "cell_type": "markdown",
   "metadata": {},
   "source": [
    "### 1. Loop Over Keys\n",
    "\n",
    "Write a `for` loop that prints all the keys in `courses`."
   ]
  },
  {
   "cell_type": "code",
   "execution_count": 15,
   "metadata": {},
   "outputs": [
    {
     "name": "stdout",
     "output_type": "stream",
     "text": [
      "cis-15\n",
      "cis-81\n",
      "cis-90\n",
      "cis-75\n"
     ]
    }
   ],
   "source": [
    "\"\"\"@forkey\"\"\"\n",
    "\n",
    "for course in courses:\n",
    "    print(course)"
   ]
  },
  {
   "cell_type": "code",
   "execution_count": 16,
   "metadata": {},
   "outputs": [
    {
     "data": {
      "text/html": [
       "<div style=\"font-size: large; font-weight: bold; margin-bottom: 1em; margin-top: 0.5em\">\n",
       "    \n",
       "        ✅ All tests passed.\n",
       "        \n",
       "</div>\n",
       "<div>\n",
       "    \n",
       "</div>"
      ],
      "text/plain": [
       "<IPython.core.display.HTML object>"
      ]
     },
     "execution_count": 16,
     "metadata": {},
     "output_type": "execute_result"
    }
   ],
   "source": [
    "%%testing @forkey as solution\n",
    "assert ast.For in solution.tokens, \"\"\"I don't see a for loop.\"\"\" \n",
    "assert \"cis-15\" in solution.run().stdout, \"\"\"You didn't print \"cis-15\" \"\"\""
   ]
  },
  {
   "attachments": {},
   "cell_type": "markdown",
   "metadata": {},
   "source": [
    "### 2. Loop Over Values \n",
    "\n",
    "Write a `for` loop that prints all of the values in `courses`."
   ]
  },
  {
   "cell_type": "code",
   "execution_count": 17,
   "metadata": {},
   "outputs": [
    {
     "name": "stdout",
     "output_type": "stream",
     "text": [
      "Python Programming for Everyone\n",
      "Introduction to Networking\n",
      "Introduction to UNIX/Linux\n",
      "Computer Security Fundamentals\n"
     ]
    }
   ],
   "source": [
    "\"\"\"@forvalue\"\"\"\n",
    "\n",
    "for course in courses.values():\n",
    "    print(course)"
   ]
  },
  {
   "cell_type": "code",
   "execution_count": 18,
   "metadata": {},
   "outputs": [
    {
     "data": {
      "text/html": [
       "<div style=\"font-size: large; font-weight: bold; margin-bottom: 1em; margin-top: 0.5em\">\n",
       "    \n",
       "        ✅ All tests passed.\n",
       "        \n",
       "</div>\n",
       "<div>\n",
       "    \n",
       "</div>"
      ],
      "text/plain": [
       "<IPython.core.display.HTML object>"
      ]
     },
     "execution_count": 18,
     "metadata": {},
     "output_type": "execute_result"
    }
   ],
   "source": [
    "%%testing @forvalue as solution\n",
    "assert ast.For in solution.tokens, \"\"\"I don't see a for loop.\"\"\" \n",
    "assert \"Python\" in solution.run().stdout, \"\"\"You didn't print \"Python\" \"\"\""
   ]
  },
  {
   "attachments": {},
   "cell_type": "markdown",
   "metadata": {},
   "source": [
    "### 3. Keys and Values \n",
    "\n",
    "Write a `for` loop that prints all keys and values in `courses`."
   ]
  },
  {
   "cell_type": "code",
   "execution_count": 19,
   "metadata": {},
   "outputs": [
    {
     "name": "stdout",
     "output_type": "stream",
     "text": [
      "cis-15 Python Programming for Everyone\n",
      "cis-81 Introduction to Networking\n",
      "cis-90 Introduction to UNIX/Linux\n",
      "cis-75 Computer Security Fundamentals\n"
     ]
    }
   ],
   "source": [
    "\"\"\"@foritems\"\"\"\n",
    "\n",
    "for course in courses:\n",
    "    print(course, courses[course])"
   ]
  },
  {
   "cell_type": "code",
   "execution_count": 20,
   "metadata": {},
   "outputs": [
    {
     "data": {
      "text/html": [
       "<div style=\"font-size: large; font-weight: bold; margin-bottom: 1em; margin-top: 0.5em\">\n",
       "    \n",
       "        ✅ All tests passed.\n",
       "        \n",
       "</div>\n",
       "<div>\n",
       "    \n",
       "</div>"
      ],
      "text/plain": [
       "<IPython.core.display.HTML object>"
      ]
     },
     "execution_count": 20,
     "metadata": {},
     "output_type": "execute_result"
    }
   ],
   "source": [
    "%%testing @foritems as solution\n",
    "assert ast.For in solution.tokens, \"\"\"I don't see a for loop.\"\"\" \n",
    "assert \"cis-15\" in solution.run().stdout, \"\"\"You didn't print \"cis-15\" \"\"\"\n",
    "assert \"Python\" in solution.run().stdout, \"\"\"You didn't print \"Python\" \"\"\""
   ]
  }
 ],
 "metadata": {
  "kernelspec": {
   "display_name": "venv-p4e",
   "language": "python",
   "name": "python3"
  },
  "language_info": {
   "codemirror_mode": {
    "name": "ipython",
    "version": 3
   },
   "file_extension": ".py",
   "mimetype": "text/x-python",
   "name": "python",
   "nbconvert_exporter": "python",
   "pygments_lexer": "ipython3",
   "version": "3.12.3"
  },
  "pycharm": {
   "stem_cell": {
    "cell_type": "raw",
    "metadata": {
     "collapsed": false
    },
    "source": []
   }
  }
 },
 "nbformat": 4,
 "nbformat_minor": 4
}
