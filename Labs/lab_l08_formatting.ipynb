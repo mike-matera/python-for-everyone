{
 "cells": [
  {
   "cell_type": "code",
   "execution_count": 1,
   "metadata": {},
   "outputs": [],
   "source": [
    "%load_ext nbtest"
   ]
  },
  {
   "cell_type": "markdown",
   "metadata": {},
   "source": [
    "# Lab: Quotes and Formatting\n",
    "\n",
    "This lab will help you practice using the `f-string` and formatting output with the `format` function. "
   ]
  },
  {
   "cell_type": "markdown",
   "metadata": {},
   "source": [
    "## Part 1: Quotes\n",
    "\n",
    "Use the different types of quotes. \n"
   ]
  },
  {
   "cell_type": "markdown",
   "metadata": {},
   "source": [
    "\n",
    "### 1. Double Quotes\n",
    "\n",
    "Use the `print` function to print:\n",
    "\n",
    "    I can't do that, Dave.\n"
   ]
  },
  {
   "cell_type": "code",
   "execution_count": 2,
   "metadata": {},
   "outputs": [
    {
     "name": "stdout",
     "output_type": "stream",
     "text": [
      "I can't do that, Dave.\n"
     ]
    }
   ],
   "source": [
    "\"\"\"@double_quotes\"\"\"\n",
    "\n",
    "print(\"I can't do that, Dave.\")"
   ]
  },
  {
   "cell_type": "code",
   "execution_count": 3,
   "metadata": {},
   "outputs": [
    {
     "data": {
      "text/html": [
       "<div style=\"font-size: large; font-weight: bold; margin-bottom: 1em; margin-top: 0.5em\">\n",
       "    \n",
       "        ✅ All tests passed.\n",
       "        \n",
       "</div>\n",
       "<div>\n",
       "    \n",
       "</div>"
      ],
      "text/plain": [
       "<IPython.core.display.HTML object>"
      ]
     },
     "execution_count": 3,
     "metadata": {},
     "output_type": "execute_result"
    }
   ],
   "source": [
    "%%testing @double_quotes as solution\n",
    "\n",
    "assert \"print\" in solution.calls, \"\"\"You should use the print() function.\"\"\"\n",
    "assert \"I can't do that, Dave.\" in solution.run().stdout, \"\"\"I don't see the requested output.\"\"\""
   ]
  },
  {
   "cell_type": "markdown",
   "metadata": {},
   "source": [
    "\n",
    "### 1. Single Quotes\n",
    "\n",
    "Use the `print` function to print:\n",
    "\n",
    "    \"To be or not to be\" -- William Shakespeare\n"
   ]
  },
  {
   "cell_type": "code",
   "execution_count": 4,
   "metadata": {},
   "outputs": [
    {
     "name": "stdout",
     "output_type": "stream",
     "text": [
      "\"To be or not to be\" -- William Shakespeare\n"
     ]
    }
   ],
   "source": [
    "\"\"\"@single_quotes\"\"\"\n",
    "\n",
    "print('\"To be or not to be\" -- William Shakespeare')"
   ]
  },
  {
   "cell_type": "code",
   "execution_count": 5,
   "metadata": {},
   "outputs": [
    {
     "data": {
      "text/html": [
       "<div style=\"font-size: large; font-weight: bold; margin-bottom: 1em; margin-top: 0.5em\">\n",
       "    \n",
       "        ✅ All tests passed.\n",
       "        \n",
       "</div>\n",
       "<div>\n",
       "    \n",
       "</div>"
      ],
      "text/plain": [
       "<IPython.core.display.HTML object>"
      ]
     },
     "execution_count": 5,
     "metadata": {},
     "output_type": "execute_result"
    }
   ],
   "source": [
    "%%testing @single_quotes as solution\n",
    "\n",
    "assert \"print\" in solution.calls, \"\"\"You should use the print() function.\"\"\"\n",
    "assert \"\"\"\"To be or not to be\" -- William Shakespeare\"\"\" in solution.run().stdout, \"\"\"I don't see the requested output.\"\"\""
   ]
  },
  {
   "cell_type": "markdown",
   "metadata": {},
   "source": [
    "\n",
    "### 1. Triple Quotes\n",
    "\n",
    "Use **only one** `print` function to print:\n",
    "\n",
    "    \"I can't do that Dave\" -- HAL 9000\n",
    "    \"To be or not to be\" -- William Shakespeare\n"
   ]
  },
  {
   "cell_type": "code",
   "execution_count": 36,
   "metadata": {},
   "outputs": [
    {
     "name": "stdout",
     "output_type": "stream",
     "text": [
      "\n",
      "\"I can't do that Dave\" -- HAL 9000\n",
      "\"To be or not to be\" -- William Shakespeare\n",
      "\n"
     ]
    }
   ],
   "source": [
    "\"\"\"@triple_quotes\"\"\"\n",
    "\n",
    "print(\"\"\"\n",
    "\"I can't do that Dave\" -- HAL 9000\n",
    "\"To be or not to be\" -- William Shakespeare\n",
    "\"\"\")\n"
   ]
  },
  {
   "cell_type": "code",
   "execution_count": 37,
   "metadata": {},
   "outputs": [
    {
     "data": {
      "text/html": [
       "<div style=\"font-size: large; font-weight: bold; margin-bottom: 1em; margin-top: 0.5em\">\n",
       "    \n",
       "        ✅ All tests passed.\n",
       "        \n",
       "</div>\n",
       "<div>\n",
       "    \n",
       "</div>"
      ],
      "text/plain": [
       "<IPython.core.display.HTML object>"
      ]
     },
     "execution_count": 37,
     "metadata": {},
     "output_type": "execute_result"
    }
   ],
   "source": [
    "%%testing @triple_quotes as solution\n",
    "\n",
    "output = solution.run().stdout\n",
    "import ast\n",
    "assert \"print\" in solution.calls, \"\"\"You should use the print() function.\"\"\"\n",
    "assert \"\"\"\"To be or not to be\" -- William Shakespeare\"\"\" in output, \"\"\"I don't see the requested output.\"\"\"\n",
    "assert solution.count_calls(\"print\") == 1, \"\"\"You should only call print() once.\"\"\"\n",
    "assert output.count(\"\\n\") > 1, \"\"\"The output should have two lines or more.\"\"\""
   ]
  },
  {
   "cell_type": "markdown",
   "metadata": {},
   "source": [
    "## Part 2: The `f-string`\n",
    "\n",
    "You've seen before how the `print` function can mix variables and string literals. For example:\n",
    "\n",
    "```python\n",
    "name = \"Me\"\n",
    "print(\"My name is:\", name)\n",
    "```\n",
    "\n",
    "The `f-string` gives more control over the output. This does the same as above: \n",
    "\n",
    "```python \n",
    "name = \"Me\"\n",
    "print(f\"My name is: {name}\")\n",
    "```\n",
    "\n",
    "In this sections you will use the `f-string` to print the variables in the next cell. Run the next cell before you start the section."
   ]
  },
  {
   "cell_type": "code",
   "execution_count": 8,
   "metadata": {},
   "outputs": [],
   "source": [
    "a = 100.2 \n",
    "b = 3.14\n",
    "c = -10 "
   ]
  },
  {
   "cell_type": "markdown",
   "metadata": {},
   "source": [
    "### 1. Print Out the Variables\n",
    "\n",
    "Use an `f-string` to print the values of all of the variable as shown below. **DO NOT** hard-code the values.\n",
    "\n",
    "    a = XX; b = XX; c = XX;\n",
    "\n",
    "*In your output the `XX`s should be replaced with numbers."
   ]
  },
  {
   "cell_type": "code",
   "execution_count": 22,
   "metadata": {},
   "outputs": [
    {
     "name": "stdout",
     "output_type": "stream",
     "text": [
      "a = 100.2; b = 3.14, c = -10\n"
     ]
    }
   ],
   "source": [
    "\"\"\"@var1\"\"\"\n",
    "\n",
    "print(f\"a = {a}; b = {b}, c = {c}\")"
   ]
  },
  {
   "cell_type": "code",
   "execution_count": null,
   "metadata": {},
   "outputs": [
    {
     "data": {
      "text/html": [
       "<div style=\"font-size: large; font-weight: bold; margin-bottom: 1em; margin-top: 0.5em\">\n",
       "    \n",
       "        ✅ All tests passed.\n",
       "        \n",
       "</div>\n",
       "<div>\n",
       "    \n",
       "</div>"
      ],
      "text/plain": [
       "<IPython.core.display.HTML object>"
      ]
     },
     "execution_count": 23,
     "metadata": {},
     "output_type": "execute_result"
    }
   ],
   "source": [
    "%%testing @var1 as solution, a, b, c\n",
    "import ast\n",
    "assert \"print\" in solution.calls, \"\"\"Your code should call print() function\"\"\"\n",
    "assert ast.JoinedStr in solution.tokens, \"\"\"There is no f-string in your code.\"\"\"\n",
    "assert not any([\"100.2\" in x for x in solution.constants]), \"\"\"I see a hard-coded number.\"\"\"\n",
    "assert not any([\"3.14\" in x for x in solution.constants]), \"\"\"I see a hard-coded number.\"\"\"\n",
    "assert not any([\"-10\" in x for x in solution.constants]), \"\"\"I see a hard-coded number.\"\"\""
   ]
  },
  {
   "cell_type": "markdown",
   "metadata": {},
   "source": [
    "### 2. Calculate the Product \n",
    "\n",
    "Print the product of all three variables as shown below:\n",
    "\n",
    "    a * b * c = XX\n"
   ]
  },
  {
   "cell_type": "code",
   "execution_count": 25,
   "metadata": {},
   "outputs": [
    {
     "name": "stdout",
     "output_type": "stream",
     "text": [
      "a * b * c = -3146.2800000000007\n"
     ]
    }
   ],
   "source": [
    "\"\"\"@mult\"\"\"\n",
    "\n",
    "print(f\"a * b * c = {a*b*c}\")"
   ]
  },
  {
   "cell_type": "code",
   "execution_count": 29,
   "metadata": {},
   "outputs": [
    {
     "data": {
      "text/html": [
       "<div style=\"font-size: large; font-weight: bold; margin-bottom: 1em; margin-top: 0.5em\">\n",
       "    \n",
       "        ✅ All tests passed.\n",
       "        \n",
       "</div>\n",
       "<div>\n",
       "    \n",
       "</div>"
      ],
      "text/plain": [
       "<IPython.core.display.HTML object>"
      ]
     },
     "execution_count": 29,
     "metadata": {},
     "output_type": "execute_result"
    }
   ],
   "source": [
    "%%testing @mult as solution \n",
    "import ast\n",
    "assert \"print\" in solution.calls, \"\"\"Your code should call print() function\"\"\"\n",
    "assert ast.JoinedStr in solution.tokens, \"\"\"There is no f-string in your code.\"\"\"\n",
    "assert ast.Mult in solution.tokens, \"\"\"I don't se the multiplication operator.\"\"\""
   ]
  },
  {
   "cell_type": "markdown",
   "metadata": {},
   "source": [
    "### 3. Other Relationships \n",
    "\n",
    "Use **only one** `print` statement to print the following multi-line output:\n",
    "\n",
    "    a - b = XX\n",
    "    a - c = XX\n",
    "    b - c = XX\n",
    "\n",
    "*Hint: Use triple quotes!*"
   ]
  },
  {
   "cell_type": "code",
   "execution_count": 32,
   "metadata": {},
   "outputs": [
    {
     "name": "stdout",
     "output_type": "stream",
     "text": [
      "\n",
      "a - b = 97.06\n",
      "a - c = 110.2\n",
      "b - c = 13.14\n",
      "\n"
     ]
    }
   ],
   "source": [
    "\"\"\"@ftriple\"\"\"\n",
    "\n",
    "print(f\"\"\"\n",
    "a - b = {a-b}\n",
    "a - c = {a-c}\n",
    "b - c = {b-c}\n",
    "\"\"\")"
   ]
  },
  {
   "cell_type": "code",
   "execution_count": 39,
   "metadata": {},
   "outputs": [
    {
     "data": {
      "text/html": [
       "<div style=\"font-size: large; font-weight: bold; margin-bottom: 1em; margin-top: 0.5em\">\n",
       "    \n",
       "        ✅ All tests passed.\n",
       "        \n",
       "</div>\n",
       "<div>\n",
       "    \n",
       "</div>"
      ],
      "text/plain": [
       "<IPython.core.display.HTML object>"
      ]
     },
     "execution_count": 39,
     "metadata": {},
     "output_type": "execute_result"
    }
   ],
   "source": [
    "%%testing @ftriple as solution \n",
    "import ast\n",
    "assert \"print\" in solution.calls, \"\"\"Your code should call print() function\"\"\"\n",
    "assert ast.JoinedStr in solution.tokens, \"\"\"There is no f-string in your code.\"\"\"\n",
    "assert ast.Sub in solution.tokens, \"\"\"I don't se the subtraction operator.\"\"\"\n",
    "assert solution.count_calls(\"print\") == 1, \"\"\"You should only call print() once.\"\"\"\n",
    "assert solution.run().stdout.count(\"\\n\") > 1, \"\"\"The output should have two lines or more.\"\"\""
   ]
  },
  {
   "cell_type": "markdown",
   "metadata": {},
   "source": [
    "## Part 3: The format()\n",
    "\n",
    "The `format` function is an alternative to using an f-string. The `format` function\n",
    "isn't as convenient but it is more flexible. \n",
    "\n",
    "Here's an example with an f-string:\n",
    "\n",
    "```python \n",
    "name = \"Me\"\n",
    "print(f\"My name is: {name}\")\n",
    "```\n",
    "\n",
    "Here's what it would look like with `format`:\n",
    "\n",
    "```python \n",
    "name = \"Me\"\n",
    "print(\"My name is: {}\".format(name))\n",
    "```\n",
    "\n",
    "In this section you will redo the previous questions using the `format` function."
   ]
  },
  {
   "cell_type": "code",
   "execution_count": null,
   "metadata": {},
   "outputs": [],
   "source": [
    "a = 100.2 \n",
    "b = 3.14\n",
    "c = -10 "
   ]
  },
  {
   "cell_type": "markdown",
   "metadata": {},
   "source": [
    "### 1. Print Out the Variables\n",
    "\n",
    "Use `format` to print the values of all of the variable as shown below. **DO NOT** hard-code the values.\n",
    "\n",
    "    a = XX; b = XX; c = XX;\n",
    "\n",
    "*In your output the `XX`s should be replaced with numbers."
   ]
  },
  {
   "cell_type": "code",
   "execution_count": 46,
   "metadata": {},
   "outputs": [
    {
     "name": "stdout",
     "output_type": "stream",
     "text": [
      "a = 100.2; b = 3.14, c = -10\n"
     ]
    }
   ],
   "source": [
    "\"\"\"@var1f\"\"\"\n",
    "\n",
    "print(\"a = {}; b = {}, c = {}\".format(a,b,c))"
   ]
  },
  {
   "cell_type": "code",
   "execution_count": 53,
   "metadata": {},
   "outputs": [
    {
     "data": {
      "text/html": [
       "<div style=\"font-size: large; font-weight: bold; margin-bottom: 1em; margin-top: 0.5em\">\n",
       "    \n",
       "        ✅ All tests passed.\n",
       "        \n",
       "</div>\n",
       "<div>\n",
       "    \n",
       "</div>"
      ],
      "text/plain": [
       "<IPython.core.display.HTML object>"
      ]
     },
     "execution_count": 53,
     "metadata": {},
     "output_type": "execute_result"
    }
   ],
   "source": [
    "%%testing @var1f as solution, a, b, c\n",
    "import ast\n",
    "assert \"print\" in solution.calls, \"\"\"Your code should call print() function\"\"\"\n",
    "assert ast.JoinedStr not in solution.tokens, \"\"\"There is an f-string in your code.\"\"\"\n",
    "assert \"format\" in solution.calls, \"\"\"Your code doesn't call the format() function.\"\"\"\n",
    "assert not any([\"100.2\" in x for x in solution.constants]), \"\"\"I see a hard-coded number.\"\"\"\n",
    "assert not any([\"3.14\" in x for x in solution.constants]), \"\"\"I see a hard-coded number.\"\"\"\n",
    "assert not any([\"-10\" in x for x in solution.constants]), \"\"\"I see a hard-coded number.\"\"\""
   ]
  },
  {
   "cell_type": "markdown",
   "metadata": {},
   "source": [
    "### 2. Calculate the Product \n",
    "\n",
    "Print the product of all three variables as shown below:\n",
    "\n",
    "    a * b * c = XX\n"
   ]
  },
  {
   "cell_type": "code",
   "execution_count": 56,
   "metadata": {},
   "outputs": [
    {
     "name": "stdout",
     "output_type": "stream",
     "text": [
      "a * b * c = -3146.2800000000007\n"
     ]
    }
   ],
   "source": [
    "\"\"\"@mult\"\"\"\n",
    "\n",
    "print(\"a * b * c = {}\".format(a*b*c))"
   ]
  },
  {
   "cell_type": "code",
   "execution_count": 57,
   "metadata": {},
   "outputs": [
    {
     "data": {
      "text/html": [
       "<div style=\"font-size: large; font-weight: bold; margin-bottom: 1em; margin-top: 0.5em\">\n",
       "    \n",
       "        ✅ All tests passed.\n",
       "        \n",
       "</div>\n",
       "<div>\n",
       "    \n",
       "</div>"
      ],
      "text/plain": [
       "<IPython.core.display.HTML object>"
      ]
     },
     "execution_count": 57,
     "metadata": {},
     "output_type": "execute_result"
    }
   ],
   "source": [
    "%%testing @mult as solution \n",
    "import ast\n",
    "assert \"print\" in solution.calls, \"\"\"Your code should call print() function\"\"\"\n",
    "assert ast.JoinedStr not in solution.tokens, \"\"\"There is an f-string in your code.\"\"\"\n",
    "assert \"format\" in solution.calls, \"\"\"Your code doesn't call the format() function.\"\"\"\n",
    "assert ast.Mult in solution.tokens, \"\"\"I don't se the multiplication operator.\"\"\""
   ]
  },
  {
   "cell_type": "markdown",
   "metadata": {},
   "source": [
    "### 3. Other Relationships \n",
    "\n",
    "Use **only one** `print` statement to print the following multi-line output:\n",
    "\n",
    "    a - b = XX\n",
    "    a - c = XX\n",
    "    b - c = XX\n",
    "\n",
    "*Hint: Use triple quotes!*"
   ]
  },
  {
   "cell_type": "code",
   "execution_count": 59,
   "metadata": {},
   "outputs": [
    {
     "name": "stdout",
     "output_type": "stream",
     "text": [
      "\n",
      "a - b = 97.06\n",
      "a - c = 110.2\n",
      "b - c = 13.14\n",
      "\n"
     ]
    }
   ],
   "source": [
    "\"\"\"@ftriple\"\"\"\n",
    "\n",
    "print(\"\"\"\n",
    "a - b = {}\n",
    "a - c = {}\n",
    "b - c = {}\n",
    "\"\"\".format(a-b, a-c, b-c))"
   ]
  },
  {
   "cell_type": "code",
   "execution_count": 60,
   "metadata": {},
   "outputs": [
    {
     "data": {
      "text/html": [
       "<div style=\"font-size: large; font-weight: bold; margin-bottom: 1em; margin-top: 0.5em\">\n",
       "    \n",
       "        ✅ All tests passed.\n",
       "        \n",
       "</div>\n",
       "<div>\n",
       "    \n",
       "</div>"
      ],
      "text/plain": [
       "<IPython.core.display.HTML object>"
      ]
     },
     "execution_count": 60,
     "metadata": {},
     "output_type": "execute_result"
    }
   ],
   "source": [
    "%%testing @ftriple as solution \n",
    "import ast\n",
    "assert \"print\" in solution.calls, \"\"\"Your code should call print() function\"\"\"\n",
    "assert ast.JoinedStr not in solution.tokens, \"\"\"There is an f-string in your code.\"\"\"\n",
    "assert \"format\" in solution.calls, \"\"\"Your code doesn't call the format() function.\"\"\"\n",
    "assert ast.Sub in solution.tokens, \"\"\"I don't se the subtraction operator.\"\"\"\n",
    "assert solution.count_calls(\"print\") == 1, \"\"\"You should only call print() once.\"\"\"\n",
    "assert solution.run().stdout.count(\"\\n\") > 1, \"\"\"The output should have two lines or more.\"\"\""
   ]
  }
 ],
 "metadata": {
  "kernelspec": {
   "display_name": "venv-p4e",
   "language": "python",
   "name": "python3"
  },
  "language_info": {
   "codemirror_mode": {
    "name": "ipython",
    "version": 3
   },
   "file_extension": ".py",
   "mimetype": "text/x-python",
   "name": "python",
   "nbconvert_exporter": "python",
   "pygments_lexer": "ipython3",
   "version": "3.12.3"
  },
  "orig_nbformat": 4
 },
 "nbformat": 4,
 "nbformat_minor": 2
}
