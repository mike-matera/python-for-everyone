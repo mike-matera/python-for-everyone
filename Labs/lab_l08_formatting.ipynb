{
 "cells": [
  {
   "cell_type": "code",
   "execution_count": 1,
   "metadata": {},
   "outputs": [],
   "source": [
    "%load_ext nbtest"
   ]
  },
  {
   "cell_type": "markdown",
   "metadata": {},
   "source": [
    "# Lab: Quotes and Formatting\n",
    "\n",
    "This lab will help you practice using the `f-string` and formatting output with the `format` function. "
   ]
  },
  {
   "cell_type": "markdown",
   "metadata": {},
   "source": [
    "## Part 1: Quotes\n",
    "\n",
    "Use the different types of quotes. \n"
   ]
  },
  {
   "cell_type": "markdown",
   "metadata": {},
   "source": [
    "\n",
    "### 1. Double Quotes\n",
    "\n",
    "Use the `print` function to print:\n",
    "\n",
    "    I can't do that, Dave.\n"
   ]
  },
  {
   "cell_type": "code",
   "execution_count": null,
   "metadata": {},
   "outputs": [],
   "source": [
    "\"\"\"@double_quotes\"\"\"\n",
    "\n",
    "print(\"I can't do that, Dave.\")"
   ]
  },
  {
   "cell_type": "code",
   "execution_count": null,
   "metadata": {},
   "outputs": [],
   "source": [
    "%%testing @double_quotes \n",
    "\n",
    "assert \"print\" in double_quotes.calls, \"\"\"You should use the print() function.\"\"\"\n",
    "assert any([ \"Dave\" in x for x in double_quotes.constants]), \"\"\"I can't find the word \"Dave\" in a string.\"\"\""
   ]
  },
  {
   "cell_type": "markdown",
   "metadata": {},
   "source": [
    "\n",
    "### 1. Single Quotes\n",
    "\n",
    "Use the `print` function to print:\n",
    "\n",
    "    \"To be or not to be\" -- William Shakespeare\n"
   ]
  },
  {
   "cell_type": "code",
   "execution_count": null,
   "metadata": {},
   "outputs": [],
   "source": []
  },
  {
   "cell_type": "markdown",
   "metadata": {},
   "source": [
    "\n",
    "### 1. Triple Quotes\n",
    "\n",
    "Use **only one** `print` function to print:\n",
    "\n",
    "    \"I can't do that Dave\" -- HAL 9000\n",
    "    \"To be or not to be\" -- William Shakespeare\n"
   ]
  },
  {
   "cell_type": "code",
   "execution_count": null,
   "metadata": {},
   "outputs": [],
   "source": []
  },
  {
   "cell_type": "markdown",
   "metadata": {},
   "source": [
    "## Part 2: The `f-string`\n",
    "\n",
    "You've seen before how the `print` function can mix variables and string literals. For example:\n",
    "\n",
    "```python\n",
    "name = \"Me\"\n",
    "print(\"My name is:\", name)\n",
    "```\n",
    "\n",
    "The `f-string` gives more control over the output. This does the same as above: \n",
    "\n",
    "```python \n",
    "name = \"Me\"\n",
    "print(f\"My name is: {name}\")\n",
    "```\n",
    "\n",
    "In this sections you will use the `f-string` to print the variables in the next cell. Run the next cell before you start the section."
   ]
  },
  {
   "cell_type": "code",
   "execution_count": 4,
   "metadata": {},
   "outputs": [],
   "source": [
    "a = 100.2 \n",
    "b = 3.14\n",
    "c = -10 "
   ]
  },
  {
   "cell_type": "markdown",
   "metadata": {},
   "source": [
    "### 1. Print Out the Variables\n",
    "\n",
    "Use an `f-string` to print the values of all of the variable as shown below. **DO NOT** hard-code the values.\n",
    "\n",
    "    a = XX; b = XX; c = XX;\n",
    "\n",
    "*In your output the `XX`s should be replaced with numbers."
   ]
  },
  {
   "cell_type": "code",
   "execution_count": 24,
   "metadata": {},
   "outputs": [
    {
     "name": "stdout",
     "output_type": "stream",
     "text": [
      "a = 100.2; b = 3.14, c = -10\n"
     ]
    }
   ],
   "source": [
    "\"\"\"@var1\"\"\"\n",
    "\n",
    "print(f\"a = {a}; b = {b}, c = {c}\")"
   ]
  },
  {
   "cell_type": "code",
   "execution_count": 27,
   "metadata": {},
   "outputs": [
    {
     "name": "stdout",
     "output_type": "stream",
     "text": [
      "{'; b = ', 'a = ', ', c = ', '@var1'}\n"
     ]
    },
    {
     "data": {
      "text/html": [
       "<div style=\"font-size: large; font-weight: bold; margin-bottom: 1em; margin-top: 0.5em\">\n",
       "    \n",
       "        ✅ All tests passed.\n",
       "        \n",
       "</div>\n",
       "<div>\n",
       "    \n",
       "</div>"
      ],
      "text/plain": [
       "<IPython.core.display.HTML object>"
      ]
     },
     "execution_count": 27,
     "metadata": {},
     "output_type": "execute_result"
    }
   ],
   "source": [
    "%%testing @var1 \n",
    "import ast\n",
    "assert \"print\" in var1.calls, \"\"\"Your code should call print()\"\"\"\n",
    "assert ast.JoinedStr in var1.tokens, \"\"\"There is no f-string in your code.\"\"\"\n",
    "\n",
    "print(var1.constants)"
   ]
  },
  {
   "cell_type": "markdown",
   "metadata": {},
   "source": [
    "### 2. Calculate the Product \n",
    "\n",
    "Print the product of all three variables as shown below:\n",
    "\n",
    "    a * b * c = XX\n"
   ]
  },
  {
   "cell_type": "code",
   "execution_count": null,
   "metadata": {},
   "outputs": [],
   "source": []
  },
  {
   "cell_type": "markdown",
   "metadata": {},
   "source": [
    "### 3. Other Relationships \n",
    "\n",
    "Use **only one** `print` statement to print the following multi-line output:\n",
    "\n",
    "    a - b = XX\n",
    "    a - c = XX\n",
    "    b - c = XX\n",
    "\n",
    "*Hint: Use triple quotes!*"
   ]
  },
  {
   "cell_type": "code",
   "execution_count": null,
   "metadata": {},
   "outputs": [],
   "source": []
  },
  {
   "cell_type": "markdown",
   "metadata": {},
   "source": [
    "### Part 3: Format\n",
    "\n",
    "Repeat each of the questions in part 2 but use the `format` function instead of the `f-string`"
   ]
  },
  {
   "cell_type": "code",
   "execution_count": null,
   "metadata": {},
   "outputs": [],
   "source": []
  }
 ],
 "metadata": {
  "kernelspec": {
   "display_name": "venv-p4e",
   "language": "python",
   "name": "python3"
  },
  "language_info": {
   "codemirror_mode": {
    "name": "ipython",
    "version": 3
   },
   "file_extension": ".py",
   "mimetype": "text/x-python",
   "name": "python",
   "nbconvert_exporter": "python",
   "pygments_lexer": "ipython3",
   "version": "3.12.3"
  },
  "orig_nbformat": 4
 },
 "nbformat": 4,
 "nbformat_minor": 2
}
