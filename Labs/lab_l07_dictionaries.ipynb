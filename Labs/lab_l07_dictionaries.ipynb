{
 "cells": [
  {
   "cell_type": "code",
   "execution_count": null,
   "metadata": {},
   "outputs": [],
   "source": [
    "%load_ext nbtest"
   ]
  },
  {
   "attachments": {},
   "cell_type": "markdown",
   "metadata": {},
   "source": [
    "# Lab: Dictionaries \n",
    "\n",
    "This test will help you better understand how to use dictionaries. \n",
    "\n",
    "## Part 1: Using Dictionaries \n",
    "\n",
    "In part 1 you'll create and manipulate a dictionary. \n",
    "\n",
    "### 1. Create a Dictionary \n",
    "\n",
    "Create a dictionary called `courses` that contains the following:\n",
    "\n",
    "| Key | Value | \n",
    "| --- | --- |\n",
    "| cis-15 | Programming with Python |\n",
    "| cis-81 | Introduction to Networking |\n",
    "| cis-90 | Introduction to UNIX/Linux | \n",
    "| cis-75 | Computer Security Fundamentals |"
   ]
  },
  {
   "cell_type": "code",
   "execution_count": null,
   "metadata": {},
   "outputs": [],
   "source": [
    "\"\"\"@create\"\"\"\n"
   ]
  },
  {
   "cell_type": "code",
   "execution_count": null,
   "metadata": {
    "jupyter": {
     "source_hidden": true
    }
   },
   "outputs": [],
   "source": [
    "%%testing @create as solution, courses\n",
    "\n",
    "assert \"courses\" in solution.assignments, \"\"\"Your code never assigned the \"courses\" dictionary.\"\"\"\n",
    "assert isinstance(courses, dict), \"\"\"The courses variable should be a dictionary.\"\"\"\n",
    "assert len(courses) == 4, \"\"\"There should be five entries in courses.\"\"\""
   ]
  },
  {
   "attachments": {},
   "cell_type": "markdown",
   "metadata": {},
   "source": [
    "### 2. Print a Key\n",
    "\n",
    "Use the `courses` dictionary you created. Write a `print` statement that prints the title of `cis-15`."
   ]
  },
  {
   "cell_type": "code",
   "execution_count": null,
   "metadata": {
    "collapsed": false,
    "jupyter": {
     "outputs_hidden": false
    },
    "pycharm": {
     "name": "#%%\n"
    }
   },
   "outputs": [],
   "source": [
    "\"\"\"@printkey\"\"\"\n"
   ]
  },
  {
   "cell_type": "code",
   "execution_count": null,
   "metadata": {
    "jupyter": {
     "source_hidden": true
    }
   },
   "outputs": [],
   "source": [
    "%%testing @printkey as solution, courses\n",
    "\n",
    "assert \"courses\" not in solution.assignments, \"\"\"Your code reassigned the \"courses\" dictionary.\"\"\"\n",
    "assert \"courses\" in solution.references, \"\"\"You didn't use the courses dictionary.\"\"\"\n",
    "assert \"print\" in solution.calls, \"\"\"You didn't call the print function.\"\"\"\n",
    "assert \"cis-15\" in solution.constants, \"\"\"You should have \"cis-15\" in your code.\"\"\""
   ]
  },
  {
   "attachments": {},
   "cell_type": "markdown",
   "metadata": {},
   "source": [
    "### 3. Change a Value \n",
    "\n",
    "Update the `courses` dictionary to change the name of CIS-15 to `\"My Course\"`. "
   ]
  },
  {
   "cell_type": "code",
   "execution_count": null,
   "metadata": {},
   "outputs": [],
   "source": [
    "\"\"\"@change\"\"\"\n"
   ]
  },
  {
   "cell_type": "code",
   "execution_count": null,
   "metadata": {
    "jupyter": {
     "source_hidden": true
    }
   },
   "outputs": [],
   "source": [
    "%%testing @change as solution\n",
    "import ast\n",
    "assert \"courses\" not in solution.assignments, \"\"\"Your code reassigned the \"courses\" dictionary.\"\"\"\n",
    "assert \"courses\" in solution.references, \"\"\"You didn't use the courses dictionary.\"\"\"\n",
    "assert ast.Subscript in solution.tokens, \"\"\"You haven't assigned an item in the dictionary.\"\"\""
   ]
  },
  {
   "attachments": {},
   "cell_type": "markdown",
   "metadata": {},
   "source": [
    "### 4. Add a Key\n",
    "\n",
    "Write a statement that adds one key value pair:\n",
    "\n",
    "  * Key: cis-54\n",
    "  * Value: Introduction to Relational Databases"
   ]
  },
  {
   "cell_type": "code",
   "execution_count": null,
   "metadata": {
    "collapsed": false,
    "jupyter": {
     "outputs_hidden": false
    },
    "pycharm": {
     "name": "#%%\n"
    }
   },
   "outputs": [],
   "source": [
    "\"\"\"@addkey\"\"\"\n"
   ]
  },
  {
   "cell_type": "code",
   "execution_count": null,
   "metadata": {
    "jupyter": {
     "source_hidden": true
    }
   },
   "outputs": [],
   "source": [
    "%%testing @addkey as solution\n",
    "import ast\n",
    "assert \"courses\" not in solution.assignments, \"\"\"Your code reassigned the \"courses\" dictionary.\"\"\"\n",
    "assert \"courses\" in solution.references, \"\"\"You didn't use the courses dictionary.\"\"\"\n",
    "assert ast.Subscript in solution.tokens, \"\"\"You haven't assigned an item in the dictionary.\"\"\"\n",
    "assert {\"cis-54\", \"Introduction to Relational Databases\"} <= solution.constants, \"\"\"I don't see strings that are required.\"\"\""
   ]
  },
  {
   "attachments": {},
   "cell_type": "markdown",
   "metadata": {},
   "source": [
    "### 5. Remove a Key \n",
    "\n",
    "Write a statement that removes cis-81 from the dictionary. "
   ]
  },
  {
   "cell_type": "code",
   "execution_count": null,
   "metadata": {
    "collapsed": false,
    "jupyter": {
     "outputs_hidden": false
    },
    "pycharm": {
     "name": "#%%\n"
    }
   },
   "outputs": [],
   "source": [
    "\"\"\"@remove\"\"\"\n"
   ]
  },
  {
   "cell_type": "code",
   "execution_count": null,
   "metadata": {
    "jupyter": {
     "source_hidden": true
    }
   },
   "outputs": [],
   "source": [
    "%%testing @remove as solution\n",
    "import ast \n",
    "assert \"courses\" not in solution.assignments, \"\"\"Your code reassigned the \"courses\" dictionary.\"\"\"\n",
    "assert \"courses\" in solution.references, \"\"\"You didn't use the courses dictionary.\"\"\"\n",
    "assert ast.Del in solution.tokens, \"\"\"You haven't used the del operator.\"\"\"\n",
    "assert \"cis-81\" in solution.constants, \"\"\"I don't see \"cis-81 in your code.\"\"\""
   ]
  },
  {
   "attachments": {},
   "cell_type": "markdown",
   "metadata": {},
   "source": [
    "### 6. Test for a Key \n",
    "\n",
    "Write an expression that results to `True` if the `cis-81` key is in `courses` and `False` otherwise."
   ]
  },
  {
   "cell_type": "code",
   "execution_count": null,
   "metadata": {},
   "outputs": [],
   "source": [
    "\"\"\"@findcourse\"\"\"\n"
   ]
  },
  {
   "cell_type": "code",
   "execution_count": null,
   "metadata": {
    "jupyter": {
     "source_hidden": true
    }
   },
   "outputs": [],
   "source": [
    "%%testing @findcourse as solution\n",
    "import ast \n",
    "assert \"courses\" not in solution.assignments, \"\"\"Your code reassigned the \"courses\" dictionary.\"\"\"\n",
    "assert \"courses\" in solution.references, \"\"\"You didn't use the courses dictionary.\"\"\"\n",
    "assert ast.In in solution.tokens, \"\"\"You haven't used the in operator.\"\"\"\n",
    "assert \"cis-81\" in solution.constants, \"\"\"I don't see \"cis-81 in your code.\"\"\"\n",
    "assert isinstance(solution.result.result, bool), \"\"\"The cell should result in True or False\"\"\""
   ]
  },
  {
   "cell_type": "markdown",
   "metadata": {},
   "source": [
    "## Part 2: Data Structures \n",
    "\n",
    "In this part you'll see how dictionaries and lists can be combined to make interesting data structures. The next cell defines a more interesting to-do list."
   ]
  },
  {
   "cell_type": "code",
   "execution_count": null,
   "metadata": {},
   "outputs": [],
   "source": [
    "to_dos = {\n",
    "    \"Personal\": [ \"Get exercise\", \"Haircut\" ],\n",
    "    \"Work\": [ \"Grade assignments\", \"Check email\" ],\n",
    "    \"Groceries\": [ \"Milk\", \"Cereal\", \"Greens\" ],\n",
    "}"
   ]
  },
  {
   "cell_type": "markdown",
   "metadata": {},
   "source": [
    "### 1. Print out a List \n",
    "\n",
    "Use the `print` function to print the \"Grocery\" list in `to_dos`"
   ]
  },
  {
   "cell_type": "code",
   "execution_count": null,
   "metadata": {},
   "outputs": [],
   "source": [
    "\"\"\"@printg\"\"\"\n"
   ]
  },
  {
   "cell_type": "code",
   "execution_count": null,
   "metadata": {
    "jupyter": {
     "source_hidden": true
    }
   },
   "outputs": [],
   "source": [
    "%%testing @printg as solution\n",
    "\n",
    "assert \"print\" in solution.calls, \"\"\"You didn't use the print function.\"\"\"\n",
    "assert \"Groceries\" in solution.constants, \"\"\"The string \"Groceries\" should appear in your code.\"\"\"\n",
    "assert \"to_dos\" in solution.references, \"\"\"You haven't used the to_dos dictionary.\"\"\""
   ]
  },
  {
   "cell_type": "markdown",
   "metadata": {},
   "source": [
    "### 2. Print an Item \n",
    "\n",
    "Use the `print` function to print the first item in the \"Personal\" list in `to_dos`"
   ]
  },
  {
   "cell_type": "code",
   "execution_count": null,
   "metadata": {},
   "outputs": [],
   "source": [
    "\"\"\"@printp\"\"\"\n"
   ]
  },
  {
   "cell_type": "code",
   "execution_count": null,
   "metadata": {
    "jupyter": {
     "source_hidden": true
    }
   },
   "outputs": [],
   "source": [
    "%%testing @printp as solution\n",
    "\n",
    "assert \"print\" in solution.calls, \"\"\"You didn't use the print function.\"\"\"\n",
    "assert \"Personal\" in solution.constants, \"\"\"The string \"Personal\" should appear in your code.\"\"\"\n",
    "assert 0 in solution.constants, \"\"\"You should have the number 0 in your code.\"\"\"\n",
    "assert \"to_dos\" in solution.references, \"\"\"You haven't used the to_dos dictionary.\"\"\"\n",
    "assert \"Get exercise\" in solution.run().stdout, \"\"\"Your code should have printed \"Get exercise\" but didn't.\"\"\""
   ]
  },
  {
   "cell_type": "markdown",
   "metadata": {},
   "source": [
    "### 3. Change an Item\n",
    "\n",
    "Change the item \"Milk\" under \"Groceries\" to \"Oat Milk\""
   ]
  },
  {
   "cell_type": "code",
   "execution_count": null,
   "metadata": {},
   "outputs": [],
   "source": [
    "\"\"\"@oatmilk\"\"\"\n"
   ]
  },
  {
   "cell_type": "code",
   "execution_count": null,
   "metadata": {
    "jupyter": {
     "source_hidden": true
    }
   },
   "outputs": [],
   "source": [
    "%%testing @oatmilk as solution, to_dos\n",
    "\n",
    "assert \"Groceries\" in solution.constants, \"\"\"The string \"Personal\" should appear in your code.\"\"\"\n",
    "assert \"to_dos\" in solution.references, \"\"\"You haven't used the to_dos dictionary.\"\"\"\n",
    "assert 0 in solution.constants, \"\"\"You should have the number 0 in your code.\"\"\"\n",
    "assert \"Oat Milk\" in to_dos[\"Groceries\"], \"\"\"I don't see \"Oat Milk\" in your grocery list.\"\"\"\n",
    "assert \"Milk\" not in to_dos[\"Groceries\"], \"\"\"I still see \"Milk\" in your grocery list.\"\"\"\n"
   ]
  },
  {
   "cell_type": "markdown",
   "metadata": {},
   "source": [
    "### 4. Delete an Item \n",
    "\n",
    "Remove \"Check email\" under the \"Work\" list. "
   ]
  },
  {
   "cell_type": "code",
   "execution_count": null,
   "metadata": {},
   "outputs": [],
   "source": [
    "\"\"\"@nowork\"\"\"\n"
   ]
  },
  {
   "cell_type": "code",
   "execution_count": null,
   "metadata": {
    "jupyter": {
     "source_hidden": true
    }
   },
   "outputs": [],
   "source": [
    "%%testing @nowork as solution, to_dos\n",
    "\n",
    "assert \"Work\" in solution.constants, \"\"\"The string \"Work\" should appear in your code.\"\"\"\n",
    "assert \"to_dos\" in solution.references, \"\"\"You haven't used the to_dos dictionary.\"\"\"\n",
    "assert 1 in solution.constants, \"\"\"You should have the number 1 in your code.\"\"\"\n",
    "assert \"Check email\" not in to_dos[\"Work\"], \"\"\"I still see \"Check email\" in the todo list.\"\"\""
   ]
  },
  {
   "cell_type": "markdown",
   "metadata": {},
   "source": [
    "### 5. New List \n",
    "\n",
    "Add a new category to `to_dos` called \"Packing\" with the following items:\n",
    "\n",
    "1. Clothes \n",
    "1. Shoes \n",
    "1. Wallet"
   ]
  },
  {
   "cell_type": "code",
   "execution_count": null,
   "metadata": {},
   "outputs": [],
   "source": [
    "\"\"\"@packing\"\"\"\n"
   ]
  },
  {
   "cell_type": "code",
   "execution_count": null,
   "metadata": {
    "jupyter": {
     "source_hidden": true
    }
   },
   "outputs": [],
   "source": [
    "%%testing @packing as solution, to_dos\n",
    "\n",
    "assert \"Packing\" in solution.constants, \"\"\"The string \"Packing\" should appear in your code.\"\"\"\n",
    "assert \"to_dos\" in solution.references, \"\"\"You haven't used the to_dos dictionary.\"\"\"\n",
    "assert \"Packing\" in to_dos, \"\"\"I don't see a \"Packing\" key in to_dos\"\"\""
   ]
  }
 ],
 "metadata": {
  "kernelspec": {
   "display_name": "Python 3 (ipykernel)",
   "language": "python",
   "name": "python3"
  },
  "language_info": {
   "codemirror_mode": {
    "name": "ipython",
    "version": 3
   },
   "file_extension": ".py",
   "mimetype": "text/x-python",
   "name": "python",
   "nbconvert_exporter": "python",
   "pygments_lexer": "ipython3",
   "version": "3.12.3"
  },
  "pycharm": {
   "stem_cell": {
    "cell_type": "raw",
    "metadata": {
     "collapsed": false
    },
    "source": []
   }
  }
 },
 "nbformat": 4,
 "nbformat_minor": 4
}
