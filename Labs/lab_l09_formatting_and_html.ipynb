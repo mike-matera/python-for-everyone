{
 "cells": [
  {
   "cell_type": "code",
   "execution_count": 1,
   "metadata": {},
   "outputs": [],
   "source": [
    "%load_ext nbtest"
   ]
  },
  {
   "attachments": {},
   "cell_type": "markdown",
   "metadata": {},
   "source": [
    "# Lab: Programming HTML Output\n",
    "\n",
    "The `print` function is great for generating simple output. When your instructor \n",
    "was a college student that's all that programs ever needed. Now programs are \n",
    "expected to produce output that's rich and beautiful. In this lab you'll practice \n",
    "creating HTML output from a program so that you can create formatted outputs."
   ]
  },
  {
   "attachments": {},
   "cell_type": "markdown",
   "metadata": {},
   "source": [
    "## Part 1: HTML\n",
    "\n",
    "The answers in this section should produce HTML output. Use the `HTML` and `display` \n",
    "functions to do so. For example:\n",
    "\n",
    "```python\n",
    "display(HTML(\"\"\"<p>This is a paragraph!</b>\"\"\"))\n",
    "```\n",
    "\n",
    "Each answer will have different tags in the HTML "
   ]
  },
  {
   "cell_type": "markdown",
   "metadata": {},
   "source": [
    "\n",
    "### 1. Bold \n",
    "\n",
    "Use HTML tags to make the following sentence **bold**.\n",
    "\n",
    "```\n",
    "I'm really serious.\n",
    "```"
   ]
  },
  {
   "cell_type": "code",
   "execution_count": 2,
   "metadata": {},
   "outputs": [
    {
     "data": {
      "text/html": [
       "<b>I'm really serious.</b>"
      ],
      "text/plain": [
       "<IPython.core.display.HTML object>"
      ]
     },
     "metadata": {},
     "output_type": "display_data"
    }
   ],
   "source": [
    "\"\"\"@serious\"\"\"\n",
    "\n",
    "from IPython.display import HTML \n",
    "\n",
    "display(HTML(\"<b>I'm really serious.</b>\"))"
   ]
  },
  {
   "cell_type": "code",
   "execution_count": 3,
   "metadata": {},
   "outputs": [
    {
     "data": {
      "text/html": [
       "<div style=\"font-size: large; font-weight: bold; margin-bottom: 1em; margin-top: 0.5em\">\n",
       "    \n",
       "        ✅ All tests passed.\n",
       "        \n",
       "</div>\n",
       "<div>\n",
       "    \n",
       "</div>"
      ],
      "text/plain": [
       "<IPython.core.display.HTML object>"
      ]
     },
     "execution_count": 3,
     "metadata": {},
     "output_type": "execute_result"
    }
   ],
   "source": [
    "%%testing @serious as solution\n",
    "\n",
    "assert \"display\" in solution.calls, \"\"\"You should call the display() function.\"\"\"\n",
    "assert \"HTML\" in solution.calls, \"\"\"You should call the HTML() function.\"\"\"\n",
    "assert any((\"<b>\" in x for x  in solution.constants)), \"I don't see a bold tag.\""
   ]
  },
  {
   "attachments": {},
   "cell_type": "markdown",
   "metadata": {},
   "source": [
    "### 2. Italic\n",
    "\n",
    "Use HTML tags to make the following sentence *italic*.\n",
    "\n",
    "```\n",
    "Are you for real?\n",
    "```"
   ]
  },
  {
   "cell_type": "code",
   "execution_count": 4,
   "metadata": {},
   "outputs": [
    {
     "data": {
      "text/html": [
       "<i>Are you for real?</i>"
      ],
      "text/plain": [
       "<IPython.core.display.HTML object>"
      ]
     },
     "metadata": {},
     "output_type": "display_data"
    }
   ],
   "source": [
    "\"\"\"@forreal\"\"\"\n",
    "\n",
    "display(HTML(\"<i>Are you for real?</i>\"))"
   ]
  },
  {
   "cell_type": "code",
   "execution_count": 5,
   "metadata": {},
   "outputs": [
    {
     "data": {
      "text/html": [
       "<div style=\"font-size: large; font-weight: bold; margin-bottom: 1em; margin-top: 0.5em\">\n",
       "    \n",
       "        ✅ All tests passed.\n",
       "        \n",
       "</div>\n",
       "<div>\n",
       "    \n",
       "</div>"
      ],
      "text/plain": [
       "<IPython.core.display.HTML object>"
      ]
     },
     "execution_count": 5,
     "metadata": {},
     "output_type": "execute_result"
    }
   ],
   "source": [
    "%%testing @forreal as solution\n",
    "\n",
    "assert \"display\" in solution.calls, \"\"\"You should call the display() function.\"\"\"\n",
    "assert \"HTML\" in solution.calls, \"\"\"You should call the HTML() function.\"\"\"\n",
    "assert any((\"<i>\" in x for x  in solution.constants)), \"I don't see a italic tag.\""
   ]
  },
  {
   "attachments": {},
   "cell_type": "markdown",
   "metadata": {},
   "source": [
    "### 3. Heading \n",
    "\n",
    "Use HTML tags to make the following sentence a level-1 heading.\n",
    "\n",
    "```\n",
    "My title is: title\n",
    "```"
   ]
  },
  {
   "cell_type": "code",
   "execution_count": 6,
   "metadata": {},
   "outputs": [
    {
     "data": {
      "text/html": [
       "<h1>My title is: title</h1>"
      ],
      "text/plain": [
       "<IPython.core.display.HTML object>"
      ]
     },
     "metadata": {},
     "output_type": "display_data"
    }
   ],
   "source": [
    "\"\"\"@heading\"\"\"\n",
    "\n",
    "display(HTML(\"<h1>My title is: title</h1>\"))"
   ]
  },
  {
   "cell_type": "code",
   "execution_count": 7,
   "metadata": {},
   "outputs": [
    {
     "data": {
      "text/html": [
       "<div style=\"font-size: large; font-weight: bold; margin-bottom: 1em; margin-top: 0.5em\">\n",
       "    \n",
       "        ✅ All tests passed.\n",
       "        \n",
       "</div>\n",
       "<div>\n",
       "    \n",
       "</div>"
      ],
      "text/plain": [
       "<IPython.core.display.HTML object>"
      ]
     },
     "execution_count": 7,
     "metadata": {},
     "output_type": "execute_result"
    }
   ],
   "source": [
    "%%testing @heading as solution\n",
    "\n",
    "assert \"display\" in solution.calls, \"\"\"You should call the display() function.\"\"\"\n",
    "assert \"HTML\" in solution.calls, \"\"\"You should call the HTML() function.\"\"\"\n",
    "assert any((\"<h1>\" in x for x  in solution.constants)), \"I don't see a heading tag.\""
   ]
  },
  {
   "attachments": {},
   "cell_type": "markdown",
   "metadata": {},
   "source": [
    "### 4. Unordered List \n",
    "\n",
    "Use HTML to make an unordered list of items like this:\n",
    "\n",
    "  * Item 1 \n",
    "  * Item 2 \n",
    "  * Item 3"
   ]
  },
  {
   "cell_type": "code",
   "execution_count": 8,
   "metadata": {},
   "outputs": [
    {
     "data": {
      "text/html": [
       "\n",
       "<ul>\n",
       "    <li>Item 1</li>\n",
       "    <li>Item 2</li>\n",
       "    <li>Item 3</li>\n",
       "<ul>\n"
      ],
      "text/plain": [
       "<IPython.core.display.HTML object>"
      ]
     },
     "metadata": {},
     "output_type": "display_data"
    }
   ],
   "source": [
    "\"\"\"@unorder\"\"\"\n",
    "\n",
    "display(HTML(\"\"\"\n",
    "<ul>\n",
    "    <li>Item 1</li>\n",
    "    <li>Item 2</li>\n",
    "    <li>Item 3</li>\n",
    "<ul>\n",
    "\"\"\"))"
   ]
  },
  {
   "cell_type": "code",
   "execution_count": 9,
   "metadata": {},
   "outputs": [
    {
     "data": {
      "text/html": [
       "<div style=\"font-size: large; font-weight: bold; margin-bottom: 1em; margin-top: 0.5em\">\n",
       "    \n",
       "        ✅ All tests passed.\n",
       "        \n",
       "</div>\n",
       "<div>\n",
       "    \n",
       "</div>"
      ],
      "text/plain": [
       "<IPython.core.display.HTML object>"
      ]
     },
     "execution_count": 9,
     "metadata": {},
     "output_type": "execute_result"
    }
   ],
   "source": [
    "%%testing @unorder as solution\n",
    "\n",
    "assert \"display\" in solution.calls, \"\"\"You should call the display() function.\"\"\"\n",
    "assert \"HTML\" in solution.calls, \"\"\"You should call the HTML() function.\"\"\"\n",
    "assert any((\"<ul>\" in x for x  in solution.constants)), \"I don't see an unordered list tag tag.\"\n",
    "assert any((x.count(\"<li>\") == 3 for x  in solution.constants)), \"I don't see three <li> tags.\"\n"
   ]
  },
  {
   "attachments": {},
   "cell_type": "markdown",
   "metadata": {},
   "source": [
    "### 5. Table \n",
    "\n",
    "Use HTML to make a table like this:\n",
    "\n",
    "| Header 1 | Header 2 | \n",
    "| --- | --- | \n",
    "| Item 1 | Item 2 | \n",
    "\n",
    "Note: Your table will have a less pretty style, that's okay."
   ]
  },
  {
   "cell_type": "code",
   "execution_count": 10,
   "metadata": {},
   "outputs": [
    {
     "data": {
      "text/html": [
       "\n",
       "<table>\n",
       "    <tr>\n",
       "      <th>Header 1</th><th>Header 2</th>\n",
       "    </tr>\n",
       "    <tr>\n",
       "      <td>Item 1</td><td>Item 2</td>\n",
       "    </tr>\n",
       "</table>\n"
      ],
      "text/plain": [
       "<IPython.core.display.HTML object>"
      ]
     },
     "metadata": {},
     "output_type": "display_data"
    }
   ],
   "source": [
    "\"\"\"@table\"\"\"\n",
    "\n",
    "display(HTML(\"\"\"\n",
    "<table>\n",
    "    <tr>\n",
    "      <th>Header 1</th><th>Header 2</th>\n",
    "    </tr>\n",
    "    <tr>\n",
    "      <td>Item 1</td><td>Item 2</td>\n",
    "    </tr>\n",
    "</table>\n",
    "\"\"\"))"
   ]
  },
  {
   "cell_type": "code",
   "execution_count": 11,
   "metadata": {},
   "outputs": [
    {
     "data": {
      "text/html": [
       "<div style=\"font-size: large; font-weight: bold; margin-bottom: 1em; margin-top: 0.5em\">\n",
       "    \n",
       "        ✅ All tests passed.\n",
       "        \n",
       "</div>\n",
       "<div>\n",
       "    \n",
       "</div>"
      ],
      "text/plain": [
       "<IPython.core.display.HTML object>"
      ]
     },
     "execution_count": 11,
     "metadata": {},
     "output_type": "execute_result"
    }
   ],
   "source": [
    "%%testing @table as solution\n",
    "from bs4 import BeautifulSoup\n",
    "soup = BeautifulSoup(solution.run().outputs[0].data, 'html.parser')\n",
    "assert soup.table, \"\"\"I don't see a table in your HTML\"\"\"\n",
    "assert len(soup.find_all('tr')) == 2, \"\"\"Your table should have two rows.\"\"\"\n",
    "assert len(soup.find_all('th')) == 2, \"\"\"Your table should have two headers.\"\"\"\n",
    "assert len(soup.find_all('td')) == 2, \"\"\"Your table should have two data cells.\"\"\""
   ]
  },
  {
   "attachments": {},
   "cell_type": "markdown",
   "metadata": {},
   "source": [
    "### 6. Hyperlink \n",
    "\n",
    "Use HTML to make a hyperlink to `https://www.lifealgorithmic.com` with the text `\"My Website\"`. "
   ]
  },
  {
   "cell_type": "code",
   "execution_count": 12,
   "metadata": {},
   "outputs": [
    {
     "data": {
      "text/html": [
       "<a href=\"https://www.lifealgorithmic.com\">My Website</a>"
      ],
      "text/plain": [
       "<IPython.core.display.HTML object>"
      ]
     },
     "metadata": {},
     "output_type": "display_data"
    }
   ],
   "source": [
    "\"\"\"@hyper\"\"\"\n",
    "\n",
    "display(HTML(\"\"\"<a href=\"https://www.lifealgorithmic.com\">My Website</a>\"\"\"))"
   ]
  },
  {
   "cell_type": "code",
   "execution_count": 13,
   "metadata": {},
   "outputs": [
    {
     "data": {
      "text/html": [
       "<div style=\"font-size: large; font-weight: bold; margin-bottom: 1em; margin-top: 0.5em\">\n",
       "    \n",
       "        ✅ All tests passed.\n",
       "        \n",
       "</div>\n",
       "<div>\n",
       "    \n",
       "</div>"
      ],
      "text/plain": [
       "<IPython.core.display.HTML object>"
      ]
     },
     "execution_count": 13,
     "metadata": {},
     "output_type": "execute_result"
    }
   ],
   "source": [
    "%%testing @hyper as solution\n",
    "from bs4 import BeautifulSoup\n",
    "soup = BeautifulSoup(solution.run().outputs[0].data, 'html.parser')\n",
    "assert soup.a, \"\"\"I don't see a link in your HTML\"\"\"\n",
    "assert soup.a.get(\"href\"), \"\"\"I don't see the \"href\" attribute.\"\"\"\n",
    "assert \"lifealgorithmic.com\" in soup.a[\"href\"], \"\"\"I don't see a link to lifealgorithmic.com\"\"\"\n",
    "assert \"My Website\" in soup.a.text, \"\"\"The clickable text doesn't match what the requirement.\"\"\""
   ]
  },
  {
   "cell_type": "markdown",
   "metadata": {},
   "source": [
    "## Part 2: HTML with Variables\n",
    "\n",
    "The previous section focused on remembering HTML syntax. In this section you'll \n",
    "use the f-string and the `format` function to embed data from your program into \n",
    "the HTML output."
   ]
  },
  {
   "cell_type": "markdown",
   "metadata": {},
   "source": [
    "### 1. Use an `f-string` \n",
    "\n",
    "Here's a template for making text bold: \n",
    "\n",
    "```python\n",
    "display(HTML(f\"bold: <b>{my_text}</b>\"))\n",
    "```\n",
    "\n",
    "Enter the template into the next cell and set the `my_text` variable. Notice how you can make any text bolded. "
   ]
  },
  {
   "cell_type": "code",
   "execution_count": 14,
   "metadata": {},
   "outputs": [
    {
     "data": {
      "text/html": [
       "bold: <b>Hello World</b>"
      ],
      "text/plain": [
       "<IPython.core.display.HTML object>"
      ]
     },
     "metadata": {},
     "output_type": "display_data"
    }
   ],
   "source": [
    "\"\"\"@boldt\"\"\"\n",
    "\n",
    "my_text = \"Hello World\"\n",
    "\n",
    "display(HTML(f\"bold: <b>{my_text}</b>\"))"
   ]
  },
  {
   "cell_type": "code",
   "execution_count": 15,
   "metadata": {},
   "outputs": [
    {
     "data": {
      "text/html": [
       "<div style=\"font-size: large; font-weight: bold; margin-bottom: 1em; margin-top: 0.5em\">\n",
       "    \n",
       "        ✅ All tests passed.\n",
       "        \n",
       "</div>\n",
       "<div>\n",
       "    \n",
       "</div>"
      ],
      "text/plain": [
       "<IPython.core.display.HTML object>"
      ]
     },
     "execution_count": 15,
     "metadata": {},
     "output_type": "execute_result"
    }
   ],
   "source": [
    "%%testing @boldt as solution \n",
    "assert \"my_text\" in solution.assignments, \"\"\"You haven't assigned the \"my_text\" variable.\"\"\"\n",
    "assert \"display\" in solution.calls, \"\"\"You should copy and paste the starter code.\"\"\"\n",
    "assert \"HTML\" in solution.calls, \"\"\"You should copy and paste the starter code.\"\"\""
   ]
  },
  {
   "cell_type": "markdown",
   "metadata": {},
   "source": [
    "### 2. Use `format`\n",
    "\n",
    "Start with this code:\n",
    "\n",
    "```python\n",
    "template = \"bold: <b>{}</b>\"\n",
    "display(HTML(template.format(my_text)))\n",
    "```\n",
    "\n",
    "Just like in the last question assign the `my_text` variable. Notice how setting\n",
    "`my_text` changes the writing in bold. "
   ]
  },
  {
   "cell_type": "code",
   "execution_count": 16,
   "metadata": {},
   "outputs": [
    {
     "data": {
      "text/html": [
       "bold: <b>foo bar</b>"
      ],
      "text/plain": [
       "<IPython.core.display.HTML object>"
      ]
     },
     "metadata": {},
     "output_type": "display_data"
    }
   ],
   "source": [
    "\"\"\"@boldf\"\"\"\n",
    "\n",
    "my_text = \"foo bar\"\n",
    "template = \"bold: <b>{}</b>\"\n",
    "display(HTML(template.format(my_text)))"
   ]
  },
  {
   "cell_type": "code",
   "execution_count": 17,
   "metadata": {},
   "outputs": [
    {
     "data": {
      "text/html": [
       "<div style=\"font-size: large; font-weight: bold; margin-bottom: 1em; margin-top: 0.5em\">\n",
       "    \n",
       "        ✅ All tests passed.\n",
       "        \n",
       "</div>\n",
       "<div>\n",
       "    \n",
       "</div>"
      ],
      "text/plain": [
       "<IPython.core.display.HTML object>"
      ]
     },
     "execution_count": 17,
     "metadata": {},
     "output_type": "execute_result"
    }
   ],
   "source": [
    "%%testing @boldf as solution \n",
    "assert \"my_text\" in solution.assignments, \"\"\"You haven't assigned the \"my_text\" variable.\"\"\"\n",
    "assert \"display\" in solution.calls, \"\"\"You should copy and paste the starter code.\"\"\"\n",
    "assert \"HTML\" in solution.calls, \"\"\"You should copy and paste the starter code.\"\"\"\n",
    "assert \"format\" in solution.calls, \"\"\"You should copy and paste the starter code.\"\"\""
   ]
  },
  {
   "cell_type": "markdown",
   "metadata": {},
   "source": [
    "### 3. Make a Dynamic Table \n",
    "\n",
    "Start with your code from question 1.5 (HTML Table). Modify it so that instead of\n",
    "having the hard-coded values (\"Heading 1\", etc.), it prints the contents of four \n",
    "variables as defined in the next cell. You may use `format` or an f-string. The \n",
    "output of your cell should be a table that looks like this:\n",
    "\n",
    "| Course | Name | \n",
    "| --- | --- | \n",
    "| cis-15 | Python Programming for Everyone | "
   ]
  },
  {
   "cell_type": "code",
   "execution_count": 18,
   "metadata": {},
   "outputs": [],
   "source": [
    "h1 = \"Course\"\n",
    "h2 = \"Name\"\n",
    "b1 = \"cis-15\"\n",
    "b2 = \"Python Programming for Everyone\" "
   ]
  },
  {
   "cell_type": "code",
   "execution_count": 19,
   "metadata": {},
   "outputs": [
    {
     "data": {
      "text/html": [
       "\n",
       "<table>\n",
       "  <tr>\n",
       "    <th>Course</th>\n",
       "    <th>Name</th>\n",
       "  </tr>\n",
       "  <tr>\n",
       "    <td>cis-15</td>\n",
       "    <td>Python Programming for Everyone</td>\n",
       "  </tr>\n",
       "</table>\n"
      ],
      "text/plain": [
       "<IPython.core.display.HTML object>"
      ]
     },
     "metadata": {},
     "output_type": "display_data"
    }
   ],
   "source": [
    "\"\"\"@formattable\"\"\"\n",
    "\n",
    "table = \"\"\"\n",
    "<table>\n",
    "  <tr>\n",
    "    <th>{}</th>\n",
    "    <th>{}</th>\n",
    "  </tr>\n",
    "  <tr>\n",
    "    <td>{}</td>\n",
    "    <td>{}</td>\n",
    "  </tr>\n",
    "</table>\n",
    "\"\"\"\n",
    "\n",
    "display(HTML(table.format(h1, h2, b1, b2)))"
   ]
  },
  {
   "cell_type": "code",
   "execution_count": 20,
   "metadata": {},
   "outputs": [
    {
     "data": {
      "text/html": [
       "<div style=\"font-size: large; font-weight: bold; margin-bottom: 1em; margin-top: 0.5em\">\n",
       "    \n",
       "        ✅ All tests passed.\n",
       "        \n",
       "</div>\n",
       "<div>\n",
       "    \n",
       "</div>"
      ],
      "text/plain": [
       "<IPython.core.display.HTML object>"
      ]
     },
     "execution_count": 20,
     "metadata": {},
     "output_type": "execute_result"
    }
   ],
   "source": [
    "%%testing @formattable as solution \n",
    "import ast\n",
    "from bs4 import BeautifulSoup\n",
    "assert \"display\" in solution.calls, \"\"\"You should use the display function.\"\"\"\n",
    "assert \"HTML\" in solution.calls, \"\"\"You should use the HTML function.\"\"\"\n",
    "assert \"format\" in solution.calls or ast.JoinedStr in solution.tokens, \"\"\"You should use the format function or an f-string.\"\"\"\n",
    "soup = BeautifulSoup(solution.run().outputs[0].data, 'html.parser')\n",
    "assert soup.table, \"\"\"I don't see a table in your HTML\"\"\"\n",
    "assert len(soup.find_all('tr')) == 2, \"\"\"Your table should have two rows.\"\"\"\n",
    "assert len(soup.find_all('th')) == 2, \"\"\"Your table should have two headers.\"\"\"\n",
    "assert len(soup.find_all('td')) == 2, \"\"\"Your table should have two data cells.\"\"\""
   ]
  }
 ],
 "metadata": {
  "kernelspec": {
   "display_name": "venv-p4e",
   "language": "python",
   "name": "python3"
  },
  "language_info": {
   "codemirror_mode": {
    "name": "ipython",
    "version": 3
   },
   "file_extension": ".py",
   "mimetype": "text/x-python",
   "name": "python",
   "nbconvert_exporter": "python",
   "pygments_lexer": "ipython3",
   "version": "3.12.3"
  }
 },
 "nbformat": 4,
 "nbformat_minor": 4
}
