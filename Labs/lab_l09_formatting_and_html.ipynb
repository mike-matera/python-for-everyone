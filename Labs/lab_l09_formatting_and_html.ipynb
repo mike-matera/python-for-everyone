{
 "cells": [
  {
   "cell_type": "code",
   "execution_count": 1,
   "metadata": {},
   "outputs": [],
   "source": [
    "%load_ext nbtest"
   ]
  },
  {
   "attachments": {},
   "cell_type": "markdown",
   "metadata": {},
   "source": [
    "# Lab: Formatting and HTML\n",
    "\n",
    "This lab will give you practice using the `format()` function and the `f-string` and making HTML.\n",
    "    \n"
   ]
  },
  {
   "attachments": {},
   "cell_type": "markdown",
   "metadata": {},
   "source": [
    "## Part 1: Formatting and f-Strings\n",
    "\n",
    "Practice with the `format` function and `f-strings`.\n",
    "\n",
    "### 1. Print Your Name\n",
    "\n",
    "Change this code to print your name:\n",
    "\n",
    "```python \n",
    "name = \"Your Name\"\n",
    "print(f'Hello my name is {name}')\n",
    "```"
   ]
  },
  {
   "cell_type": "code",
   "execution_count": null,
   "metadata": {},
   "outputs": [],
   "source": []
  },
  {
   "attachments": {},
   "cell_type": "markdown",
   "metadata": {},
   "source": [
    "### 2. Format \n",
    "\n",
    "Use the `format()` function to fill in your name.\n",
    "\n",
    "Start with this code: \n",
    "\n",
    "```python \n",
    "name = \"Your Name\"\n",
    "print(\"Hello my name is {}\".format())\n",
    "```"
   ]
  },
  {
   "cell_type": "code",
   "execution_count": null,
   "metadata": {},
   "outputs": [],
   "source": []
  },
  {
   "attachments": {},
   "cell_type": "markdown",
   "metadata": {},
   "source": [
    "### 3. Format Two Blanks\n",
    "\n",
    "Use the `format()` function to fill in two blanks.\n",
    "\n",
    "Start with this code: \n",
    "\n",
    "```python\n",
    "print(\"My name is {} and my favorite color is {}\".format())\n",
    "```"
   ]
  },
  {
   "cell_type": "code",
   "execution_count": null,
   "metadata": {},
   "outputs": [],
   "source": []
  },
  {
   "attachments": {},
   "cell_type": "markdown",
   "metadata": {},
   "source": [
    "## Part 2: Templates and Variables\n",
    "\n",
    "### 1. Use a Template \n",
    "\n",
    "Begin with the program below. Update it to print the values for `a` and `b` using the `template`.\n",
    "\n",
    "```python\n",
    "template = \"a = {}; b = {}\"\n",
    "a = 123\n",
    "b = 95\n",
    "```"
   ]
  },
  {
   "cell_type": "code",
   "execution_count": null,
   "metadata": {},
   "outputs": [],
   "source": []
  },
  {
   "attachments": {},
   "cell_type": "markdown",
   "metadata": {},
   "source": [
    "### 2. More Templates \n",
    "\n",
    "Begin with the program below. Update it to print values for `a` and `b` as well as the product of the two numbers. \n",
    "\n",
    "```python\n",
    "template = \"The product of {} and {} is {}\"\n",
    "a = 123\n",
    "b = 95\n",
    "```"
   ]
  },
  {
   "cell_type": "code",
   "execution_count": null,
   "metadata": {},
   "outputs": [],
   "source": []
  },
  {
   "attachments": {},
   "cell_type": "markdown",
   "metadata": {},
   "source": [
    "## Part 3: HTML\n",
    "\n",
    "The answers in this section should produce HTML output. Use the `HTML` and `display` functions to do so. \n",
    "\n",
    "### 1. Bold \n",
    "\n",
    "Use HTML tags to make the following sentence **bold**.\n",
    "\n",
    "```\n",
    "I'm really serious.\n",
    "```"
   ]
  },
  {
   "cell_type": "code",
   "execution_count": 2,
   "metadata": {},
   "outputs": [
    {
     "data": {
      "text/html": [
       "<b>I'm really serious.</b>"
      ],
      "text/plain": [
       "<IPython.core.display.HTML object>"
      ]
     },
     "metadata": {},
     "output_type": "display_data"
    }
   ],
   "source": [
    "\"\"\"@serious\"\"\"\n",
    "\n",
    "from IPython.display import HTML \n",
    "\n",
    "display(HTML(\"<b>I'm really serious.</b>\"))"
   ]
  },
  {
   "cell_type": "code",
   "execution_count": 7,
   "metadata": {},
   "outputs": [
    {
     "data": {
      "text/html": [
       "<div style=\"font-size: large; font-weight: bold; margin-bottom: 1em; margin-top: 0.5em\">\n",
       "    \n",
       "        ✅ All tests passed.\n",
       "        \n",
       "</div>\n",
       "<div>\n",
       "    \n",
       "</div>"
      ],
      "text/plain": [
       "<IPython.core.display.HTML object>"
      ]
     },
     "execution_count": 7,
     "metadata": {},
     "output_type": "execute_result"
    }
   ],
   "source": [
    "%%testing @serious\n",
    "\n",
    "assert \"display\" in serious.calls, \"\"\"You should call the display() function.\"\"\"\n",
    "assert \"HTML\" in serious.calls, \"\"\"You should call the HTML() function.\"\"\"\n",
    "assert any((\"<b>\" in x for x  in serious.constants)), \"I don't see a bold tag.\""
   ]
  },
  {
   "attachments": {},
   "cell_type": "markdown",
   "metadata": {},
   "source": [
    "### 2. Italic\n",
    "\n",
    "Use HTML tags to make the following sentence *italic*.\n",
    "\n",
    "```\n",
    "Are you for real?\n",
    "```"
   ]
  },
  {
   "cell_type": "code",
   "execution_count": null,
   "metadata": {},
   "outputs": [],
   "source": []
  },
  {
   "attachments": {},
   "cell_type": "markdown",
   "metadata": {},
   "source": [
    "### 3. Heading \n",
    "\n",
    "Use HTML tags to make the following sentence a level-1 heading.\n",
    "\n",
    "```\n",
    "My title is: title\n",
    "```"
   ]
  },
  {
   "cell_type": "code",
   "execution_count": null,
   "metadata": {},
   "outputs": [],
   "source": []
  },
  {
   "attachments": {},
   "cell_type": "markdown",
   "metadata": {},
   "source": [
    "### 4. Unordered List \n",
    "\n",
    "Use HTML to make an unordered list of items like this:\n",
    "\n",
    "  * Item 1 \n",
    "  * Item 2 \n",
    "  * Item 3"
   ]
  },
  {
   "cell_type": "code",
   "execution_count": null,
   "metadata": {},
   "outputs": [],
   "source": []
  },
  {
   "attachments": {},
   "cell_type": "markdown",
   "metadata": {},
   "source": [
    "### 5. Table \n",
    "\n",
    "Use HTML to make a table like this:\n",
    "\n",
    "| Header 1 | Header 2 | \n",
    "| --- | --- | \n",
    "| Item 1 | Item 2 | \n",
    "\n",
    "Note: Your table will have a less pretty style, that's okay."
   ]
  },
  {
   "cell_type": "code",
   "execution_count": null,
   "metadata": {},
   "outputs": [],
   "source": []
  },
  {
   "attachments": {},
   "cell_type": "markdown",
   "metadata": {},
   "source": [
    "### 6. Hyperlink \n",
    "\n",
    "Use HTML to make a hyperlink to my web site. "
   ]
  },
  {
   "cell_type": "code",
   "execution_count": null,
   "metadata": {},
   "outputs": [],
   "source": []
  },
  {
   "cell_type": "markdown",
   "metadata": {},
   "source": [
    "## Part 4: HTML and Variables\n",
    "\n",
    "In this part you'll combine literal HTML with variables to get you ready for the project. \n"
   ]
  },
  {
   "cell_type": "markdown",
   "metadata": {},
   "source": [
    "### 1. Use an `f-string` \n",
    "\n",
    "Here's a template for making text bold: \n",
    "\n",
    "```python\n",
    "display(HTML(f\"bold: <b>{my_text}</b>\"))\n",
    "```\n",
    "\n",
    "Enter the template into the next cell and set the `my_text` variable. Notice how you can make any text bolded. "
   ]
  },
  {
   "cell_type": "code",
   "execution_count": null,
   "metadata": {},
   "outputs": [],
   "source": []
  },
  {
   "cell_type": "markdown",
   "metadata": {},
   "source": [
    "### 2. Use `format`\n",
    "\n",
    "Start with this code:\n",
    "\n",
    "```python\n",
    "template = \"bold: <b>{}</b>\"\n",
    "display(HTML(template.format(my_text)))\n",
    "```\n",
    "\n",
    "Notice how setting `my_text` "
   ]
  },
  {
   "cell_type": "code",
   "execution_count": null,
   "metadata": {},
   "outputs": [],
   "source": []
  },
  {
   "cell_type": "markdown",
   "metadata": {},
   "source": [
    "### 3. Make a Table \n",
    "\n",
    "Here's a template that makes an HTML table:\n",
    "\n",
    "```python3\n",
    "table = \"\"\"\n",
    "<table>\n",
    "  <tr>\n",
    "    <th>{}</th>\n",
    "    <th>{}</th>\n",
    "  </tr>\n",
    "  <tr>\n",
    "    <td>{}</td>\n",
    "    <td>{}</td>\n",
    "  </tr>\n",
    "</table>\n",
    "\"\"\"\n",
    "```\n",
    "\n",
    "Use the template and the `format` function to make a table that looks like this:\n",
    "\n",
    "| Heading1 | Heading2 | \n",
    "| --- | --- | \n",
    "| Item1 | Item2 |\n"
   ]
  },
  {
   "cell_type": "code",
   "execution_count": null,
   "metadata": {},
   "outputs": [],
   "source": []
  },
  {
   "cell_type": "markdown",
   "metadata": {},
   "source": [
    "### 4. Use an f-string\n",
    "\n",
    "Modify the code from the last question to use an `f-string` instead of the `format` function."
   ]
  },
  {
   "cell_type": "code",
   "execution_count": null,
   "metadata": {},
   "outputs": [],
   "source": []
  }
 ],
 "metadata": {
  "interpreter": {
   "hash": "916dbcbb3f70747c44a77c7bcd40155683ae19c65e1c03b4aa3499c5328201f1"
  },
  "kernelspec": {
   "display_name": "Python 3 (ipykernel)",
   "language": "python",
   "name": "python3"
  },
  "language_info": {
   "codemirror_mode": {
    "name": "ipython",
    "version": 3
   },
   "file_extension": ".py",
   "mimetype": "text/x-python",
   "name": "python",
   "nbconvert_exporter": "python",
   "pygments_lexer": "ipython3",
   "version": "3.12.3"
  }
 },
 "nbformat": 4,
 "nbformat_minor": 4
}
