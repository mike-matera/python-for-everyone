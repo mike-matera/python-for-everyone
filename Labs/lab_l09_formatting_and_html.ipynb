{
 "cells": [
  {
   "cell_type": "code",
   "execution_count": 1,
   "metadata": {},
   "outputs": [],
   "source": [
    "%load_ext nbtest"
   ]
  },
  {
   "attachments": {},
   "cell_type": "markdown",
   "metadata": {},
   "source": [
    "# Lab: Formatting and HTML\n",
    "\n",
    "This lab will give you practice using the `format()` function and the `f-string` and making HTML.\n",
    "    \n"
   ]
  },
  {
   "attachments": {},
   "cell_type": "markdown",
   "metadata": {},
   "source": [
    "## Part 3: HTML\n",
    "\n",
    "The answers in this section should produce HTML output. Use the `HTML` and `display` \n",
    "functions to do so. For example:\n",
    "\n",
    "```python\n",
    "display(HTML(\"\"\"<p>This is a paragraph!</b>\"\"\"))\n",
    "```\n",
    "\n",
    "Each answer will have different tags in the HTML "
   ]
  },
  {
   "cell_type": "markdown",
   "metadata": {},
   "source": [
    "\n",
    "### 1. Bold \n",
    "\n",
    "Use HTML tags to make the following sentence **bold**.\n",
    "\n",
    "```\n",
    "I'm really serious.\n",
    "```"
   ]
  },
  {
   "cell_type": "code",
   "execution_count": 4,
   "metadata": {},
   "outputs": [
    {
     "data": {
      "text/html": [
       "<b>I'm really serious.</b>"
      ],
      "text/plain": [
       "<IPython.core.display.HTML object>"
      ]
     },
     "metadata": {},
     "output_type": "display_data"
    }
   ],
   "source": [
    "\"\"\"@serious\"\"\"\n",
    "\n",
    "from IPython.display import HTML \n",
    "\n",
    "display(HTML(\"<b>I'm really serious.</b>\"))"
   ]
  },
  {
   "cell_type": "code",
   "execution_count": null,
   "metadata": {},
   "outputs": [
    {
     "data": {
      "text/html": [
       "<div style=\"font-size: large; font-weight: bold; margin-bottom: 1em; margin-top: 0.5em\">\n",
       "    \n",
       "        ✅ All tests passed.\n",
       "        \n",
       "</div>\n",
       "<div>\n",
       "    \n",
       "</div>"
      ],
      "text/plain": [
       "<IPython.core.display.HTML object>"
      ]
     },
     "execution_count": 5,
     "metadata": {},
     "output_type": "execute_result"
    }
   ],
   "source": [
    "%%testing @serious as solution\n",
    "\n",
    "assert \"display\" in solution.calls, \"\"\"You should call the display() function.\"\"\"\n",
    "assert \"HTML\" in solution.calls, \"\"\"You should call the HTML() function.\"\"\"\n",
    "assert any((\"<b>\" in x for x  in solution.constants)), \"I don't see a bold tag.\""
   ]
  },
  {
   "attachments": {},
   "cell_type": "markdown",
   "metadata": {},
   "source": [
    "### 2. Italic\n",
    "\n",
    "Use HTML tags to make the following sentence *italic*.\n",
    "\n",
    "```\n",
    "Are you for real?\n",
    "```"
   ]
  },
  {
   "cell_type": "code",
   "execution_count": 10,
   "metadata": {},
   "outputs": [
    {
     "data": {
      "text/html": [
       "<i>Are you for real?</i>"
      ],
      "text/plain": [
       "<IPython.core.display.HTML object>"
      ]
     },
     "metadata": {},
     "output_type": "display_data"
    }
   ],
   "source": [
    "\"\"\"@forreal\"\"\"\n",
    "\n",
    "display(HTML(\"<i>Are you for real?</i>\"))"
   ]
  },
  {
   "cell_type": "code",
   "execution_count": null,
   "metadata": {},
   "outputs": [
    {
     "data": {
      "text/html": [
       "<div style=\"font-size: large; font-weight: bold; margin-bottom: 1em; margin-top: 0.5em\">\n",
       "    \n",
       "        ✅ All tests passed.\n",
       "        \n",
       "</div>\n",
       "<div>\n",
       "    \n",
       "</div>"
      ],
      "text/plain": [
       "<IPython.core.display.HTML object>"
      ]
     },
     "execution_count": 11,
     "metadata": {},
     "output_type": "execute_result"
    }
   ],
   "source": [
    "%%testing @forreal as solution\n",
    "\n",
    "assert \"display\" in solution.calls, \"\"\"You should call the display() function.\"\"\"\n",
    "assert \"HTML\" in solution.calls, \"\"\"You should call the HTML() function.\"\"\"\n",
    "assert any((\"<i>\" in x for x  in solution.constants)), \"I don't see a italic tag.\""
   ]
  },
  {
   "attachments": {},
   "cell_type": "markdown",
   "metadata": {},
   "source": [
    "### 3. Heading \n",
    "\n",
    "Use HTML tags to make the following sentence a level-1 heading.\n",
    "\n",
    "```\n",
    "My title is: title\n",
    "```"
   ]
  },
  {
   "cell_type": "code",
   "execution_count": 17,
   "metadata": {},
   "outputs": [
    {
     "data": {
      "text/html": [
       "<h1>My title is: title</h1>"
      ],
      "text/plain": [
       "<IPython.core.display.HTML object>"
      ]
     },
     "metadata": {},
     "output_type": "display_data"
    }
   ],
   "source": [
    "\"\"\"@heading\"\"\"\n",
    "\n",
    "display(HTML(\"<h1>My title is: title</h1>\"))"
   ]
  },
  {
   "cell_type": "code",
   "execution_count": 18,
   "metadata": {},
   "outputs": [
    {
     "data": {
      "text/html": [
       "<div style=\"font-size: large; font-weight: bold; margin-bottom: 1em; margin-top: 0.5em\">\n",
       "    \n",
       "        ✅ All tests passed.\n",
       "        \n",
       "</div>\n",
       "<div>\n",
       "    \n",
       "</div>"
      ],
      "text/plain": [
       "<IPython.core.display.HTML object>"
      ]
     },
     "execution_count": 18,
     "metadata": {},
     "output_type": "execute_result"
    }
   ],
   "source": [
    "%%testing @heading as solution\n",
    "\n",
    "assert \"display\" in solution.calls, \"\"\"You should call the display() function.\"\"\"\n",
    "assert \"HTML\" in solution.calls, \"\"\"You should call the HTML() function.\"\"\"\n",
    "assert any((\"<h1>\" in x for x  in solution.constants)), \"I don't see a heading tag.\""
   ]
  },
  {
   "attachments": {},
   "cell_type": "markdown",
   "metadata": {},
   "source": [
    "### 4. Unordered List \n",
    "\n",
    "Use HTML to make an unordered list of items like this:\n",
    "\n",
    "  * Item 1 \n",
    "  * Item 2 \n",
    "  * Item 3"
   ]
  },
  {
   "cell_type": "code",
   "execution_count": null,
   "metadata": {},
   "outputs": [
    {
     "data": {
      "text/html": [
       "\n",
       "<ul>\n",
       "             <li>Item 1</li>\n",
       "             <li>Item 2</li>\n",
       "             <li>Item 3</li>\n",
       "<ul>\n"
      ],
      "text/plain": [
       "<IPython.core.display.HTML object>"
      ]
     },
     "metadata": {},
     "output_type": "display_data"
    }
   ],
   "source": [
    "\"\"\"@unorder\"\"\"\n",
    "\n",
    "display(HTML(\"\"\"\n",
    "<ul>\n",
    "    <li>Item 1</li>\n",
    "    <li>Item 2</li>\n",
    "    <li>Item 3</li>\n",
    "<ul>\n",
    "\"\"\"))"
   ]
  },
  {
   "cell_type": "code",
   "execution_count": 29,
   "metadata": {},
   "outputs": [
    {
     "data": {
      "text/html": [
       "<div style=\"font-size: large; font-weight: bold; margin-bottom: 1em; margin-top: 0.5em\">\n",
       "    \n",
       "        ✅ All tests passed.\n",
       "        \n",
       "</div>\n",
       "<div>\n",
       "    \n",
       "</div>"
      ],
      "text/plain": [
       "<IPython.core.display.HTML object>"
      ]
     },
     "execution_count": 29,
     "metadata": {},
     "output_type": "execute_result"
    }
   ],
   "source": [
    "%%testing @unorder as solution\n",
    "\n",
    "assert \"display\" in solution.calls, \"\"\"You should call the display() function.\"\"\"\n",
    "assert \"HTML\" in solution.calls, \"\"\"You should call the HTML() function.\"\"\"\n",
    "assert any((\"<ul>\" in x for x  in solution.constants)), \"I don't see an unordered list tag tag.\"\n",
    "assert any((x.count(\"<li>\") == 3 for x  in solution.constants)), \"I don't see three <li> tags.\"\n"
   ]
  },
  {
   "attachments": {},
   "cell_type": "markdown",
   "metadata": {},
   "source": [
    "### 5. Table \n",
    "\n",
    "Use HTML to make a table like this:\n",
    "\n",
    "| Header 1 | Header 2 | \n",
    "| --- | --- | \n",
    "| Item 1 | Item 2 | \n",
    "\n",
    "Note: Your table will have a less pretty style, that's okay."
   ]
  },
  {
   "cell_type": "code",
   "execution_count": 65,
   "metadata": {},
   "outputs": [
    {
     "data": {
      "text/html": [
       "\n",
       "<table>\n",
       "    <tr>\n",
       "      <th>Header 1</th><th>Header 2</th>\n",
       "    </tr>\n",
       "    <tr>\n",
       "      <td>Item 1</td><td>Item 2</td>\n",
       "    </tr>\n",
       "</table>\n"
      ],
      "text/plain": [
       "<IPython.core.display.HTML object>"
      ]
     },
     "metadata": {},
     "output_type": "display_data"
    }
   ],
   "source": [
    "\"\"\"@table\"\"\"\n",
    "\n",
    "display(HTML(\"\"\"\n",
    "<table>\n",
    "    <tr>\n",
    "      <th>Header 1</th><th>Header 2</th>\n",
    "    </tr>\n",
    "    <tr>\n",
    "      <td>Item 1</td><td>Item 2</td>\n",
    "    </tr>\n",
    "</table>\n",
    "\"\"\"))"
   ]
  },
  {
   "cell_type": "code",
   "execution_count": 100,
   "metadata": {},
   "outputs": [
    {
     "data": {
      "text/html": [
       "<div style=\"font-size: large; font-weight: bold; margin-bottom: 1em; margin-top: 0.5em\">\n",
       "    \n",
       "        ✅ All tests passed.\n",
       "        \n",
       "</div>\n",
       "<div>\n",
       "    \n",
       "</div>"
      ],
      "text/plain": [
       "<IPython.core.display.HTML object>"
      ]
     },
     "execution_count": 100,
     "metadata": {},
     "output_type": "execute_result"
    }
   ],
   "source": [
    "%%testing @table as solution\n",
    "from bs4 import BeautifulSoup\n",
    "soup = BeautifulSoup(solution.run().outputs[0].data, 'html.parser')\n",
    "assert soup.table, \"\"\"I don't see a table in your HTML\"\"\"\n",
    "assert len(soup.find_all('tr')) == 2, \"\"\"Your table should have two rows.\"\"\"\n",
    "assert len(soup.find_all('th')) == 2, \"\"\"Your table should have two headers.\"\"\"\n",
    "assert len(soup.find_all('td')) == 2, \"\"\"Your table should have two data cells.\"\"\""
   ]
  },
  {
   "attachments": {},
   "cell_type": "markdown",
   "metadata": {},
   "source": [
    "### 6. Hyperlink \n",
    "\n",
    "Use HTML to make a hyperlink to `https://www.lifealgorithmic.com` with the text `\"My Website\"`. "
   ]
  },
  {
   "cell_type": "code",
   "execution_count": 127,
   "metadata": {},
   "outputs": [
    {
     "data": {
      "text/html": [
       "<a href=\"https://www.lifealgorithmic.com\">My Website</a>"
      ],
      "text/plain": [
       "<IPython.core.display.HTML object>"
      ]
     },
     "metadata": {},
     "output_type": "display_data"
    }
   ],
   "source": [
    "\"\"\"@hyper\"\"\"\n",
    "\n",
    "display(HTML(\"\"\"<a href=\"https://www.lifealgorithmic.com\">My Website</a>\"\"\"))"
   ]
  },
  {
   "cell_type": "code",
   "execution_count": 128,
   "metadata": {},
   "outputs": [
    {
     "data": {
      "text/html": [
       "<div style=\"font-size: large; font-weight: bold; margin-bottom: 1em; margin-top: 0.5em\">\n",
       "    \n",
       "        ✅ All tests passed.\n",
       "        \n",
       "</div>\n",
       "<div>\n",
       "    \n",
       "</div>"
      ],
      "text/plain": [
       "<IPython.core.display.HTML object>"
      ]
     },
     "execution_count": 128,
     "metadata": {},
     "output_type": "execute_result"
    }
   ],
   "source": [
    "%%testing @hyper as solution\n",
    "from bs4 import BeautifulSoup\n",
    "soup = BeautifulSoup(solution.run().outputs[0].data, 'html.parser')\n",
    "assert soup.a, \"\"\"I don't see a link in your HTML\"\"\"\n",
    "assert soup.a.get(\"href\"), \"\"\"I don't see the \"href\" attribute.\"\"\"\n",
    "assert \"lifealgorithmic.com\" in soup.a[\"href\"], \"\"\"I don't see a link to lifealgorithmic.com\"\"\"\n",
    "assert \"My Website\" in soup.a.text, \"\"\"The clickable text doesn't match what the requirement.\"\"\""
   ]
  },
  {
   "cell_type": "markdown",
   "metadata": {},
   "source": [
    "## Part 1: Templates and Variables\n",
    "\n",
    "### 1. Use a Template \n",
    "\n",
    "Begin with the program below. Update it to print the values for `a` and `b` using the `template`.\n",
    "\n",
    "```python\n",
    "template = \"a = {}; b = {}\"\n",
    "a = 123\n",
    "b = 95\n",
    "```"
   ]
  },
  {
   "cell_type": "code",
   "execution_count": null,
   "metadata": {},
   "outputs": [],
   "source": []
  },
  {
   "cell_type": "markdown",
   "metadata": {},
   "source": [
    "### 2. More Templates \n",
    "\n",
    "Begin with the program below. Update it to print values for `a` and `b` as well as the product of the two numbers. \n",
    "\n",
    "```python\n",
    "template = \"The product of {} and {} is {}\"\n",
    "a = 123\n",
    "b = 95\n",
    "```"
   ]
  },
  {
   "cell_type": "code",
   "execution_count": null,
   "metadata": {},
   "outputs": [],
   "source": []
  },
  {
   "cell_type": "markdown",
   "metadata": {},
   "source": [
    "## Part 4: HTML and Variables\n",
    "\n",
    "In this part you'll combine literal HTML with variables to get you ready for the project. \n"
   ]
  },
  {
   "cell_type": "markdown",
   "metadata": {},
   "source": [
    "### 1. Use an `f-string` \n",
    "\n",
    "Here's a template for making text bold: \n",
    "\n",
    "```python\n",
    "display(HTML(f\"bold: <b>{my_text}</b>\"))\n",
    "```\n",
    "\n",
    "Enter the template into the next cell and set the `my_text` variable. Notice how you can make any text bolded. "
   ]
  },
  {
   "cell_type": "code",
   "execution_count": null,
   "metadata": {},
   "outputs": [],
   "source": []
  },
  {
   "cell_type": "markdown",
   "metadata": {},
   "source": [
    "### 2. Use `format`\n",
    "\n",
    "Start with this code:\n",
    "\n",
    "```python\n",
    "template = \"bold: <b>{}</b>\"\n",
    "display(HTML(template.format(my_text)))\n",
    "```\n",
    "\n",
    "Notice how setting `my_text` "
   ]
  },
  {
   "cell_type": "code",
   "execution_count": null,
   "metadata": {},
   "outputs": [],
   "source": []
  },
  {
   "cell_type": "markdown",
   "metadata": {},
   "source": [
    "### 3. Make a Table \n",
    "\n",
    "Here's a template that makes an HTML table:\n",
    "\n",
    "```python3\n",
    "table = \"\"\"\n",
    "<table>\n",
    "  <tr>\n",
    "    <th>{}</th>\n",
    "    <th>{}</th>\n",
    "  </tr>\n",
    "  <tr>\n",
    "    <td>{}</td>\n",
    "    <td>{}</td>\n",
    "  </tr>\n",
    "</table>\n",
    "\"\"\"\n",
    "```\n",
    "\n",
    "Use the template and the `format` function to make a table that looks like this:\n",
    "\n",
    "| Heading1 | Heading2 | \n",
    "| --- | --- | \n",
    "| Item1 | Item2 |\n"
   ]
  },
  {
   "cell_type": "code",
   "execution_count": null,
   "metadata": {},
   "outputs": [],
   "source": []
  },
  {
   "cell_type": "markdown",
   "metadata": {},
   "source": [
    "### 4. Use an f-string\n",
    "\n",
    "Modify the code from the last question to use an `f-string` instead of the `format` function."
   ]
  },
  {
   "cell_type": "code",
   "execution_count": null,
   "metadata": {},
   "outputs": [],
   "source": []
  }
 ],
 "metadata": {
  "kernelspec": {
   "display_name": "venv-p4e",
   "language": "python",
   "name": "python3"
  },
  "language_info": {
   "codemirror_mode": {
    "name": "ipython",
    "version": 3
   },
   "file_extension": ".py",
   "mimetype": "text/x-python",
   "name": "python",
   "nbconvert_exporter": "python",
   "pygments_lexer": "ipython3",
   "version": "3.12.3"
  }
 },
 "nbformat": 4,
 "nbformat_minor": 4
}
