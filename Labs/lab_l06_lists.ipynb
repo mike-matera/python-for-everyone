{
 "cells": [
  {
   "cell_type": "code",
   "execution_count": 1,
   "metadata": {},
   "outputs": [],
   "source": [
    "%load_ext nbtest"
   ]
  },
  {
   "attachments": {},
   "cell_type": "markdown",
   "metadata": {},
   "source": [
    "# Lab: Lists \n",
    "\n",
    "This lab will give you practice to help solidify your understanding of lists and loops. \n",
    "\n",
    "## Part 1: Build Your own To-Do List \n",
    "\n",
    "Make sure you understand the syntax introduced in the lists lecture. \n",
    "\n",
    "### 1. Create a List \n",
    "\n",
    "Create a list variable called `todo_list` with the following items:\n",
    "\n",
    "1. Wake up early \n",
    "1. Exercise \n",
    "1. Eat Breakfast \n",
    "1. Do Python Lab \n",
    "1. Watch Class\n"
   ]
  },
  {
   "cell_type": "code",
   "execution_count": 2,
   "metadata": {},
   "outputs": [],
   "source": [
    "\"\"\"@create\"\"\"\n",
    "\n",
    "todo_list = [\"Wake up early\", \"Exercise\", \"Eat Breakfast\", \"Do Python Lab\", \"Watch Class\"]"
   ]
  },
  {
   "cell_type": "code",
   "execution_count": null,
   "metadata": {},
   "outputs": [],
   "source": [
    "%%testing @create, todo_list\n",
    "\n",
    "assert \"todo_list\" in create.assignments, \"\"\"Your code never assigned the \"todo_list\" variable.\"\"\"\n",
    "assert todo_list.__class__ == list, \"\"\"The todo_list variable should be a list.\"\"\"\n",
    "assert len(todo_list) == 5, \"\"\"The todo_list variable should have five entries.\"\"\""
   ]
  },
  {
   "attachments": {},
   "cell_type": "markdown",
   "metadata": {},
   "source": [
    "### 2. Change an Item \n",
    "\n",
    "Change \"Wake up early\" to \"Wake up on time\" "
   ]
  },
  {
   "cell_type": "code",
   "execution_count": 4,
   "metadata": {},
   "outputs": [],
   "source": [
    "\"\"\"@change\"\"\"\n",
    "\n",
    "todo_list[0] = \"Wake up on time\""
   ]
  },
  {
   "cell_type": "code",
   "execution_count": null,
   "metadata": {},
   "outputs": [],
   "source": [
    "%%testing @change, todo_list\n",
    "\n",
    "assert \"todo_list\" in create.assignments, \"\"\"Your code never assigned the \"todo_list\" variable.\"\"\"\n",
    "assert todo_list.__class__ == list, \"\"\"The todo_list variable should be a list.\"\"\"\n",
    "assert \"on time\" in todo_list[0], \"\"\"Wake up on time!\"\"\""
   ]
  },
  {
   "attachments": {},
   "cell_type": "markdown",
   "metadata": {},
   "source": [
    "### 3. Access an Item \n",
    "\n",
    "Print the third item in `todo_list`"
   ]
  },
  {
   "cell_type": "code",
   "execution_count": null,
   "metadata": {},
   "outputs": [],
   "source": [
    "\"\"\"@access_item\"\"\"\n",
    "\n",
    "print(todo_list[2])"
   ]
  },
  {
   "cell_type": "code",
   "execution_count": null,
   "metadata": {},
   "outputs": [],
   "source": [
    "%%testing @access_item\n",
    "\n",
    "import ast \n",
    "\n",
    "assert \"print\" in access_item.calls, \"\"\"You haven't called the print() function.\"\"\"\n",
    "assert ast.Subscript in access_item.tokens, \"\"\"Your don't seem to have accessed the list.\"\"\"\n",
    "assert 2 in access_item.constants, \"\"\"The number 2 should be in your code when you access the third element.\"\"\""
   ]
  },
  {
   "attachments": {},
   "cell_type": "markdown",
   "metadata": {},
   "source": [
    "### 4. Access an Index\n",
    "\n",
    "Print the item at index three of `todo_list`"
   ]
  },
  {
   "cell_type": "code",
   "execution_count": null,
   "metadata": {},
   "outputs": [],
   "source": [
    "\"\"\"@access_index\"\"\"\n",
    "\n",
    "print(todo_list[3])"
   ]
  },
  {
   "cell_type": "code",
   "execution_count": null,
   "metadata": {},
   "outputs": [],
   "source": [
    "%%testing @access_index\n",
    "\n",
    "import ast \n",
    "\n",
    "assert \"print\" in access_index.calls, \"\"\"You haven't called the print() function.\"\"\"\n",
    "assert ast.Subscript in access_index.tokens, \"\"\"Your don't seem to have accessed the list.\"\"\"\n",
    "assert 3 in access_index.constants, \"\"\"The number 3 should be in your code when you access index three.\"\"\""
   ]
  },
  {
   "attachments": {},
   "cell_type": "markdown",
   "metadata": {},
   "source": [
    "### 5. Use `append`\n",
    "\n",
    "Use the `append` function to add \"Sleep\" to the end of `todo_list`"
   ]
  },
  {
   "cell_type": "code",
   "execution_count": 10,
   "metadata": {},
   "outputs": [],
   "source": [
    "\"\"\"@use_append\"\"\"\n",
    "\n",
    "todo_list.append(\"Sleep\")"
   ]
  },
  {
   "cell_type": "code",
   "execution_count": null,
   "metadata": {},
   "outputs": [],
   "source": [
    "%%testing @use_append\n",
    "\n",
    "import ast \n",
    "\n",
    "assert \"append\" in use_append.calls, \"\"\"You haven't called the append() function.\"\"\"\n",
    "assert \"Sleep\" in use_append.constants, \"\"\"You should add the word \"Sleep\" exactly.\"\"\""
   ]
  },
  {
   "attachments": {},
   "cell_type": "markdown",
   "metadata": {},
   "source": [
    "### 6. Use `insert`\n",
    "\n",
    "Use `insert` to insert \"Read the Book\" between \"Do Python Lab\" and \"Watch Class\""
   ]
  },
  {
   "cell_type": "code",
   "execution_count": null,
   "metadata": {},
   "outputs": [],
   "source": []
  },
  {
   "attachments": {},
   "cell_type": "markdown",
   "metadata": {},
   "source": [
    "### 7. Use `del`\n",
    "\n",
    "Use the `del` operator to remove \"Wake up on time\" "
   ]
  },
  {
   "cell_type": "code",
   "execution_count": 12,
   "metadata": {},
   "outputs": [],
   "source": [
    "\"\"\"@use_del\"\"\"\n",
    "\n",
    "del todo_list[0]"
   ]
  },
  {
   "cell_type": "code",
   "execution_count": null,
   "metadata": {},
   "outputs": [],
   "source": [
    "%%testing @use_del todo_list\n",
    "\n",
    "import ast \n",
    "\n",
    "assert ast.Del in use_del.tokens, \"\"\"You haven't called the del operator.\"\"\"\n",
    "assert \"Wake up on time\" not in todo_list, \"\"\"The todo_list dictionary still contains \"Wake up on time\" \"\"\""
   ]
  },
  {
   "attachments": {},
   "cell_type": "markdown",
   "metadata": {},
   "source": [
    "### 8. Use `remove` \n",
    "\n",
    "Use the `remove` function to remove \"Sleep\" from the `todo_list`"
   ]
  },
  {
   "cell_type": "code",
   "execution_count": null,
   "metadata": {},
   "outputs": [],
   "source": []
  }
 ],
 "metadata": {
  "interpreter": {
   "hash": "916dbcbb3f70747c44a77c7bcd40155683ae19c65e1c03b4aa3499c5328201f1"
  },
  "kernelspec": {
   "display_name": "Python 3 (ipykernel)",
   "language": "python",
   "name": "python3"
  },
  "language_info": {
   "codemirror_mode": {
    "name": "ipython",
    "version": 3
   },
   "file_extension": ".py",
   "mimetype": "text/x-python",
   "name": "python",
   "nbconvert_exporter": "python",
   "pygments_lexer": "ipython3",
   "version": "3.12.3"
  }
 },
 "nbformat": 4,
 "nbformat_minor": 4
}
