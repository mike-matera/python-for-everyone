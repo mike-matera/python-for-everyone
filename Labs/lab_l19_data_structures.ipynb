{
 "cells": [
  {
   "attachments": {},
   "cell_type": "markdown",
   "metadata": {},
   "source": [
    "# Lab: Data Structures \n",
    "\n",
    "This lab will give you practice using data structures. \n",
    "\n",
    "## Part 1: An Address Book \n",
    "\n",
    "Use data structures to do real work. \n",
    "\n",
    "### 1. An Address Book \n",
    "\n",
    "There is a file called `address_book.txt` it contains the following lines:\n",
    "\n",
    "```\n",
    "Mike, 555-555-1111, 555-555-1112, mike@example.com\n",
    "Sally, 555-555-1113, 555-555-1114, sally@example.com\n",
    "Lucia, 555-555-1115, 555-555-1116, lucia@example.com\n",
    "Mo, 555-555-1117, 555-555-1118, mo@example.com\n",
    "```\n",
    "\n",
    "Read the file, line by line, and insert them into a dictionary called `files/address_book`. Each entry in the dictionary should be structured like the example below:\n",
    "\n",
    "```python\n",
    "address_book = {\n",
    "    'Mike' : {\n",
    "        'Mobile' : '555-555-1111',\n",
    "        'Office' : '555-555-1112',\n",
    "        'Email'  : 'mike@example.com',\n",
    "    },\n",
    "}        \n",
    "```"
   ]
  },
  {
   "cell_type": "code",
   "execution_count": null,
   "metadata": {},
   "outputs": [],
   "source": []
  },
  {
   "attachments": {},
   "cell_type": "markdown",
   "metadata": {},
   "source": [
    "### 2. Looping Over Data\n",
    "\n",
    "Write a `for` loop that prints everyone's mobile number formatted like this: \n",
    "\n",
    "```\n",
    "Contact: Mike Mobile: 555-555-1111\n",
    "```"
   ]
  },
  {
   "cell_type": "code",
   "execution_count": null,
   "metadata": {},
   "outputs": [],
   "source": []
  },
  {
   "attachments": {},
   "cell_type": "markdown",
   "metadata": {},
   "source": [
    "### 3. Finding Contacts \n",
    "\n",
    "Write a program that uses `input` to ask the user for the name of a contact. If the contact exists in `address_book` print the contact information, otherwise print \"Not Found\""
   ]
  },
  {
   "cell_type": "code",
   "execution_count": null,
   "metadata": {},
   "outputs": [],
   "source": []
  },
  {
   "attachments": {},
   "cell_type": "markdown",
   "metadata": {},
   "source": [
    "## Part 2: Wikipedia \n",
    "\n",
    "In this part you'll use Wikipedia's API to fetch summary information about topics of your choice. You may have noticed that APIs return data with an interesting structure. You'll have to navigate the structure by using the index operator `[ ]`.\n",
    "\n",
    "### 1. Get the Summary \n",
    "\n",
    "Here's a function that fetches a data structure from Wikipedia's API:"
   ]
  },
  {
   "cell_type": "code",
   "execution_count": null,
   "metadata": {
    "deletable": false
   },
   "outputs": [],
   "source": [
    "import json \n",
    "import requests \n",
    "import urllib \n",
    "\n",
    "def wiki_fetch(title) :\n",
    "    \"\"\"Queries Wikipeida using the JSON API and returns the resulting page. \n",
    "\n",
    "    Arguments: \n",
    "        title - (string) The title of the page.  \n",
    "\n",
    "    Returns: \n",
    "        The JSON response converted to a dictionary.\n",
    "    \"\"\"\n",
    "    safe_title = urllib.parse.quote(title)\n",
    "    url = f'https://en.wikipedia.org/w/api.php?format=json&action=query&prop=extracts&exintro=&explaintext=&titles={safe_title}'\n",
    "    response = requests.get(url)\n",
    "    data = json.loads(response.text)\n",
    "    return data"
   ]
  },
  {
   "attachments": {},
   "cell_type": "markdown",
   "metadata": {},
   "source": [
    "Use the `wiki_fetch` function to print only the summary for the article on `Python (programming language)`"
   ]
  },
  {
   "cell_type": "code",
   "execution_count": null,
   "metadata": {},
   "outputs": [],
   "source": []
  },
  {
   "attachments": {},
   "cell_type": "markdown",
   "metadata": {},
   "source": [
    "### 2. Get the Summary for Any Article \n",
    "\n",
    "Write a program that uses `input` to prompt for the name of a Wikipedia article then prints the summary of the article."
   ]
  },
  {
   "cell_type": "code",
   "execution_count": null,
   "metadata": {},
   "outputs": [],
   "source": []
  },
  {
   "attachments": {},
   "cell_type": "markdown",
   "metadata": {},
   "source": [
    "### 3. Handle Errors \n",
    "\n",
    "Update the program from 2.2. to print the words \"Not Found\" when the user types an article that does not have a summary (or doesn't exist). "
   ]
  },
  {
   "cell_type": "code",
   "execution_count": null,
   "metadata": {},
   "outputs": [],
   "source": []
  }
 ],
 "metadata": {
  "interpreter": {
   "hash": "916dbcbb3f70747c44a77c7bcd40155683ae19c65e1c03b4aa3499c5328201f1"
  },
  "kernelspec": {
   "display_name": "Python 3 (ipykernel)",
   "language": "python",
   "name": "python3"
  },
  "language_info": {
   "codemirror_mode": {
    "name": "ipython",
    "version": 3
   },
   "file_extension": ".py",
   "mimetype": "text/x-python",
   "name": "python",
   "nbconvert_exporter": "python",
   "pygments_lexer": "ipython3",
   "version": "3.12.3"
  }
 },
 "nbformat": 4,
 "nbformat_minor": 4
}
