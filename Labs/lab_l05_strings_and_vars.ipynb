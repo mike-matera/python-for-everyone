{
 "cells": [
  {
   "cell_type": "code",
   "execution_count": null,
   "metadata": {},
   "outputs": [],
   "source": [
    "%load_ext nbtest"
   ]
  },
  {
   "attachments": {},
   "cell_type": "markdown",
   "metadata": {},
   "source": [
    "# Lab: Literals, Operators, Variables and Print\n",
    "\n",
    "We covered a lot today! This lab will help you build skill in doing the essential programming tasks of using literals, operators and variables. Along the way you've used the `print()` function a lot. The last part of the lab will give you more practice with `print()`, an essential function seeing what your program is doing!"
   ]
  },
  {
   "attachments": {},
   "cell_type": "markdown",
   "metadata": {},
   "source": [
    "## Part 1: Literals\n",
    "\n",
    "In the cells provided write enter the literals that each question asks for. Run the cell to make sure that your literal is correct. \n",
    "\n",
    "### 1. Integer\n",
    "\n",
    "Write an **integer** literal in the box below:"
   ]
  },
  {
   "cell_type": "code",
   "execution_count": null,
   "metadata": {},
   "outputs": [],
   "source": [
    "\"\"\"@num_int\"\"\"\n",
    "23"
   ]
  },
  {
   "cell_type": "code",
   "execution_count": null,
   "metadata": {},
   "outputs": [],
   "source": [
    "%%testing @num_int as solution\n",
    "assert solution.result.result.__class__ == int, \"\"\"I don't see an integer.\"\"\""
   ]
  },
  {
   "attachments": {},
   "cell_type": "markdown",
   "metadata": {},
   "source": [
    "### 2. String \n",
    "\n",
    "Write a **string** literal in the box below: "
   ]
  },
  {
   "cell_type": "code",
   "execution_count": null,
   "metadata": {},
   "outputs": [],
   "source": [
    "\"\"\"@str_cell\"\"\""
   ]
  },
  {
   "cell_type": "code",
   "execution_count": null,
   "metadata": {},
   "outputs": [],
   "source": [
    "%%testing @str_cell\n",
    "assert str_cell.result.result.__class__ == str \\\n",
    "    and str_cell.result.result != \"@str_cell\", \"\"\"I don't see a string.\"\"\""
   ]
  },
  {
   "attachments": {},
   "cell_type": "markdown",
   "metadata": {},
   "source": [
    "### 3. Float\n",
    "\n",
    "Write a **floating point number** literal in the box below:"
   ]
  },
  {
   "cell_type": "code",
   "execution_count": null,
   "metadata": {},
   "outputs": [],
   "source": [
    "\"\"\"@float_cell\"\"\"\n",
    "23.3"
   ]
  },
  {
   "cell_type": "code",
   "execution_count": null,
   "metadata": {},
   "outputs": [],
   "source": [
    "%%testing @float_cell as solution\n",
    "assert solution.result.result.__class__ == float, \"\"\"I don't see a float.\"\"\""
   ]
  },
  {
   "attachments": {},
   "cell_type": "markdown",
   "metadata": {},
   "source": [
    "### 4. Boolean \n",
    "\n",
    "Write a **boolean** literal in the box below: "
   ]
  },
  {
   "cell_type": "code",
   "execution_count": null,
   "metadata": {},
   "outputs": [],
   "source": [
    "True"
   ]
  },
  {
   "cell_type": "code",
   "execution_count": null,
   "metadata": {},
   "outputs": [],
   "source": [
    "%%testing @float_cell as solution\n",
    "assert solution.result.result.__class__ == bool, \"\"\"I don't see a bool.\"\"\""
   ]
  },
  {
   "attachments": {},
   "cell_type": "markdown",
   "metadata": {},
   "source": [
    "### 5. Scientific Notation \n",
    "\n",
    "Write [Avogadro's Number](https://www.google.com/search?q=avogadro%27s+number) as a literal. "
   ]
  },
  {
   "cell_type": "code",
   "execution_count": null,
   "metadata": {},
   "outputs": [],
   "source": [
    "\"\"\"@avogadro\"\"\"\n",
    "\n",
    "6.02e23"
   ]
  },
  {
   "cell_type": "code",
   "execution_count": null,
   "metadata": {},
   "outputs": [],
   "source": [
    "%%testing @avogadro\n",
    "\n",
    "assert avogadro.result.result > 600000000000000000000000, \"\"\"That doesn't look like the right number\"\"\""
   ]
  },
  {
   "attachments": {},
   "cell_type": "markdown",
   "metadata": {},
   "source": [
    "### 7. Data Type\n",
    "\n",
    "In the box below use the `type()` function to determine the type of `True`"
   ]
  },
  {
   "cell_type": "code",
   "execution_count": null,
   "metadata": {},
   "outputs": [],
   "source": [
    "\"\"\"@type_of_true\"\"\"\n",
    "\n",
    "type(True)"
   ]
  },
  {
   "cell_type": "code",
   "execution_count": null,
   "metadata": {},
   "outputs": [],
   "source": [
    "%%testing @type_of_true as solution\n",
    "\n",
    "assert True in solution.constants, \"\"\"I don't see the literal True in the solution.\"\"\"\n",
    "assert \"type\" in solution.calls, \"\"\"I don't see a call to the type() function.\"\"\""
   ]
  },
  {
   "attachments": {},
   "cell_type": "markdown",
   "metadata": {},
   "source": [
    "## Part 2: Operators \n",
    "\n",
    "### 1. Modulus \n",
    "\n",
    "Write a program that computes and prints the value of 127 modulus 34."
   ]
  },
  {
   "cell_type": "code",
   "execution_count": null,
   "metadata": {},
   "outputs": [],
   "source": [
    "\"\"\"@mod\"\"\"\n",
    "\n",
    "127 % 34"
   ]
  },
  {
   "cell_type": "code",
   "execution_count": null,
   "metadata": {},
   "outputs": [],
   "source": [
    "%%testing @mod as solution\n",
    "import ast\n",
    "assert ast.Mod in solution.tokens, \"\"\"I don't see the modulus operator\"\"\""
   ]
  },
  {
   "attachments": {},
   "cell_type": "markdown",
   "metadata": {},
   "source": [
    "### 2. Multiply \n",
    "\n",
    "Write a program that multiplies 234.4 by 5."
   ]
  },
  {
   "cell_type": "code",
   "execution_count": null,
   "metadata": {},
   "outputs": [],
   "source": [
    "\"\"\"@mult\"\"\"\n",
    "\n",
    "234.4 * 5"
   ]
  },
  {
   "cell_type": "code",
   "execution_count": null,
   "metadata": {},
   "outputs": [],
   "source": [
    "%%testing @mult as solution\n",
    "import ast\n",
    "assert ast.Mult in solution.tokens, \"\"\"I don't see the multiplication operator\"\"\""
   ]
  },
  {
   "attachments": {},
   "cell_type": "markdown",
   "metadata": {},
   "source": [
    "### 3. Compare Numbers \n",
    "\n",
    "Write a program that determines if 45.6 is less than 34.5"
   ]
  },
  {
   "cell_type": "code",
   "execution_count": null,
   "metadata": {},
   "outputs": [],
   "source": [
    "\"\"\"@compa\"\"\""
   ]
  },
  {
   "cell_type": "code",
   "execution_count": null,
   "metadata": {},
   "outputs": [],
   "source": [
    "%%testing @compa as solution\n",
    "import ast\n",
    "assert ast.Lt in solution.tokens, \"\"\"I don't see the less than operator\"\"\""
   ]
  },
  {
   "attachments": {},
   "cell_type": "markdown",
   "metadata": {},
   "source": [
    "### 4. Multiply and Compare \n",
    "\n",
    "Write a program that determines if 4.2 times 45 is less than or equal to 345.3"
   ]
  },
  {
   "cell_type": "code",
   "execution_count": null,
   "metadata": {},
   "outputs": [],
   "source": [
    "\"\"\"@mulcomp\"\"\""
   ]
  },
  {
   "cell_type": "code",
   "execution_count": null,
   "metadata": {},
   "outputs": [],
   "source": [
    "%%testing @mulcomp as solution\n",
    "import ast\n",
    "assert {ast.LtE, ast.Mult} < solution.tokens, \"\"\"I don't see an operator that's necessary\"\"\""
   ]
  },
  {
   "attachments": {},
   "cell_type": "markdown",
   "metadata": {},
   "source": [
    "### 5. Days \n",
    "\n",
    "Write a program that computes how many days there are in 20 years."
   ]
  },
  {
   "cell_type": "code",
   "execution_count": null,
   "metadata": {},
   "outputs": [],
   "source": [
    "\"\"\"@daysin20\"\"\"\n",
    "365 * 20"
   ]
  },
  {
   "cell_type": "code",
   "execution_count": null,
   "metadata": {},
   "outputs": [],
   "source": [
    "%%testing @daysin20 as solution\n",
    "import ast\n",
    "assert ast.Mult in solution.tokens, \"\"\"I don't see the multiplication operator.\"\"\"\n",
    "assert solution.result.result == 7300, \"\"\"I don't see the correct result.\"\"\""
   ]
  },
  {
   "attachments": {},
   "cell_type": "markdown",
   "metadata": {},
   "source": [
    "### 6. Mileage\n",
    "\n",
    "Write a program that computes how far your car can go if it gets 34.5 miles per gallon and has a 11.5 gallon tank."
   ]
  },
  {
   "cell_type": "code",
   "execution_count": null,
   "metadata": {},
   "outputs": [],
   "source": [
    "\"\"\"@mileage\"\"\"\n",
    "\n",
    "34.5 * 11.5"
   ]
  },
  {
   "cell_type": "code",
   "execution_count": null,
   "metadata": {},
   "outputs": [],
   "source": [
    "%%testing @mileage as solution\n",
    "import ast\n",
    "assert ast.Mult in solution.tokens, \"\"\"I don't see the multiplication operator.\"\"\"\n",
    "assert solution.result.result == 396.75, \"\"\"I don't see the correct result.\"\"\""
   ]
  },
  {
   "attachments": {},
   "cell_type": "markdown",
   "metadata": {},
   "source": [
    "### 7. How Much Gas \n",
    "\n",
    "Write a program that computes how much gas you need to go 200 miles if your car gets 34.5 miles per gallon."
   ]
  },
  {
   "cell_type": "code",
   "execution_count": null,
   "metadata": {},
   "outputs": [],
   "source": [
    "\"\"\"@gallons\"\"\"\n",
    "\n",
    "200 / 34.5"
   ]
  },
  {
   "cell_type": "code",
   "execution_count": null,
   "metadata": {},
   "outputs": [],
   "source": [
    "%%testing @gallons as solution\n",
    "import ast\n",
    "assert ast.Div in solution.tokens, \"\"\"I don't see the division operator.\"\"\"\n",
    "assert solution.result.result.__class__ == float \\\n",
    "    and round(solution.result.result,3) ==  5.797, \"\"\"I don't see the correct result.\"\"\""
   ]
  },
  {
   "attachments": {},
   "cell_type": "markdown",
   "metadata": {},
   "source": [
    "### 8. A Lot of You \n",
    "\n",
    "Write a program that prints your name 100 times using the `*` operator. "
   ]
  },
  {
   "cell_type": "code",
   "execution_count": null,
   "metadata": {},
   "outputs": [],
   "source": [
    "\"\"\"@lots\"\"\"\n",
    "\n",
    "\"mike\" * 100"
   ]
  },
  {
   "cell_type": "code",
   "execution_count": null,
   "metadata": {},
   "outputs": [],
   "source": [
    "%%testing @lots as solution\n",
    "import ast\n",
    "assert ast.Mult in solution.tokens, \"\"\"I don't see the multiplication operator.\"\"\"\n",
    "assert isinstance(solution.result.result, str) \\\n",
    "    and len(solution.result.result) > 100, \"\"\"There should be a lot of writing in the result.\"\"\""
   ]
  },
  {
   "attachments": {},
   "cell_type": "markdown",
   "metadata": {},
   "source": [
    "### 9. Concatenation \n",
    "\n",
    "Write a program that concatenates three strings together using the `+` operator."
   ]
  },
  {
   "cell_type": "code",
   "execution_count": null,
   "metadata": {},
   "outputs": [],
   "source": [
    "\"\"\"@cat\"\"\"\n",
    "\n",
    "\"hello\" + \"blue\" + \"world\""
   ]
  },
  {
   "cell_type": "code",
   "execution_count": null,
   "metadata": {},
   "outputs": [],
   "source": [
    "%%testing @cat as solution\n",
    "import ast\n",
    "assert ast.Add in solution.tokens, \"\"\"I don't see the addition operator.\"\"\"\n",
    "assert len(solution.constants) == 4, \"\"\"You should add three different strings.\"\"\"\n"
   ]
  },
  {
   "attachments": {},
   "cell_type": "markdown",
   "metadata": {},
   "source": [
    "## Part 3: Printing \n",
    "\n",
    "### 1. Print a String\n",
    "\n",
    "Write a program in the box below that prints the following:\n",
    "\n",
    "```Hello Python World!```"
   ]
  },
  {
   "cell_type": "code",
   "execution_count": null,
   "metadata": {},
   "outputs": [],
   "source": [
    "\"\"\"@hpw\"\"\"\n",
    "\n",
    "print(\"Hello Python World!\")"
   ]
  },
  {
   "cell_type": "code",
   "execution_count": null,
   "metadata": {},
   "outputs": [],
   "source": [
    "%%testing @hpw as solution\n",
    "result = solution.run()\n",
    "assert result.stdout == \"Hello Python World!\\n\", \"I don't see exactly what you were supposed to print.\"\n"
   ]
  },
  {
   "attachments": {},
   "cell_type": "markdown",
   "metadata": {},
   "source": [
    "### 2. Print a Poem \n",
    "\n",
    "Write **four** `print` statements that print this segment of a Pablo Neruda poem: \n",
    "\n",
    "```\n",
    "I do not love you except because I love you;\n",
    "I go from loving to not loving you,\n",
    "From waiting to not waiting for you\n",
    "My heart moves from cold to fire.\n",
    "```"
   ]
  },
  {
   "cell_type": "code",
   "execution_count": null,
   "metadata": {},
   "outputs": [],
   "source": [
    "\"\"\"@loveyou\"\"\"\n",
    "\n",
    "print(\"I do not love you except because I love you;\")\n",
    "print(\"I go from loving to not loving you,\")\n",
    "print(\"From waiting to not waiting for you\")\n",
    "print(\"My heart moves from cold to fire.\")\n"
   ]
  },
  {
   "cell_type": "code",
   "execution_count": null,
   "metadata": {},
   "outputs": [],
   "source": [
    "%%testing @loveyou as solution\n",
    "lines = solution.run().stdout.strip().split(\"\\n\")\n",
    "assert len(lines) == 4, \"\"\"There should be four lines in the poem.\"\"\"\n",
    "assert \"love\" in lines[0], \"\"\"I don't see love in the first line.\"\"\"\n",
    "assert \"loving\" in lines[1], \"\"\"I don't see loving in the second line.\"\"\"\n",
    "assert \"waiting\" in lines[2], \"\"\"I don't see waiting in the third line.\"\"\"\n",
    "assert \"fire\" in lines[3], \"\"\"I don't see fire.\"\"\""
   ]
  },
  {
   "attachments": {},
   "cell_type": "markdown",
   "metadata": {},
   "source": [
    "## Part 4: Printing Variables \n",
    "\n",
    "### 1. Create Two Variables \n",
    "\n",
    "Create two variables `a` and `b`. Assign them `12.3` and `6.4` respectively (or any other numbers you like).\n"
   ]
  },
  {
   "cell_type": "code",
   "execution_count": null,
   "metadata": {},
   "outputs": [],
   "source": [
    "\"\"\"@assign\"\"\"\n",
    "a = 12.3 \n",
    "b = 6.4"
   ]
  },
  {
   "cell_type": "code",
   "execution_count": null,
   "metadata": {},
   "outputs": [],
   "source": [
    "%%testing @assign as solution\n",
    "from numbers import Number\n",
    "assert {\"a\", \"b\"} <= solution.assignments, \"\"\"Your solution doesn't assign a or b (or both).\"\"\"\n",
    "assert isinstance(solution.ns[\"a\"], Number), \"\"\"The variable \"a\" isn't a number.\"\"\"\n",
    "assert isinstance(solution.ns[\"b\"], Number), \"\"\"The variable \"b\" isn't a number.\"\"\""
   ]
  },
  {
   "cell_type": "markdown",
   "metadata": {},
   "source": [
    "### 2. Print Variables \n",
    "\n",
    "Use the `print` function to output the variables `a` and `b` in a sentence. For\n",
    "example, if `a` contains `12.3` and `b` contains `6.4` your code should print:\n",
    "\n",
    "    The value of a is 12.3 and the value of b is 6.4\n",
    "\n",
    "Make sure to print the sentence exactly."
   ]
  },
  {
   "cell_type": "code",
   "execution_count": null,
   "metadata": {},
   "outputs": [],
   "source": [
    "\"\"\"@printab\"\"\"\n",
    "\n",
    "print(\"The value of a is\", a, \"and the value of b is\", b)"
   ]
  },
  {
   "cell_type": "code",
   "execution_count": null,
   "metadata": {},
   "outputs": [],
   "source": [
    "%%testing @printab as solution\n",
    "assert {\"a\", \"b\"}.isdisjoint(solution.assignments), \"\"\"Your solution should not (re)assign \"a\" or \"b\".\"\"\"\n",
    "assert {\"a\", \"b\"} <= solution.references, \"\"\"You haven't used the a or b variable.\"\"\"\n",
    "assert \"print\" in solution.calls, \"\"\"I don't see a call to the print function.\"\"\"\n",
    "assert \"The value of a is\" in solution.constants, \"\"\"I don't see an important string.\"\"\" "
   ]
  },
  {
   "cell_type": "markdown",
   "metadata": {},
   "source": [
    "### 3. Add and Print \n",
    "\n",
    "Use the `print` function to print the sum of `a` and `b` in a sentence. \n",
    "For example, if `a` contains `12.3` and `b` contains `6.4` your code should print:\n",
    "\n",
    "    The sum of 12.3 and 6.4 is 18.7\n",
    "\n",
    "*Note: Floating point math is imprecise. Python will report the sum of 12.3 and 6.4 to be 18.700000000000003*"
   ]
  },
  {
   "cell_type": "code",
   "execution_count": null,
   "metadata": {},
   "outputs": [],
   "source": [
    "\"\"\"@addvar\"\"\"\n",
    "\n",
    "print(\"The sum of\", a, \"and\", b, \"is\", a + b)"
   ]
  },
  {
   "cell_type": "code",
   "execution_count": null,
   "metadata": {},
   "outputs": [],
   "source": [
    "%%testing @addvar as solution\n",
    "import ast\n",
    "assert {\"a\", \"b\"}.isdisjoint(solution.assignments), \"\"\"Your solution should not (re)assign \"a\" or \"b\".\"\"\"\n",
    "assert {\"a\", \"b\"} <= solution.references, \"\"\"You haven't used the a or b variable.\"\"\"\n",
    "assert \"print\" in solution.calls, \"\"\"I don't see a call to the print function.\"\"\"\n",
    "assert ast.Add in solution.tokens, \"\"\"I don't see the addition operator.\"\"\"\n",
    "assert \"The sum of\" in solution.constants, \"\"\"I don't see an important string.\"\"\" \n"
   ]
  },
  {
   "attachments": {},
   "cell_type": "markdown",
   "metadata": {},
   "source": [
    "### 4. Compare and Print\n",
    "\n",
    "Use the `print` function to compare `a` and `b` in a sentence. For example, if \n",
    "`a` contains `12.3` and `b` contains `6.4` your code should print:\n",
    "\n",
    "    It is False that 12.3 is less than 6.4\n"
   ]
  },
  {
   "cell_type": "code",
   "execution_count": null,
   "metadata": {},
   "outputs": [],
   "source": [
    "\"\"\"@ltvar\"\"\"\n",
    "\n",
    "print(\"It is\", a < b, \"that\", a, \"is less than\", b)"
   ]
  },
  {
   "cell_type": "code",
   "execution_count": null,
   "metadata": {},
   "outputs": [],
   "source": [
    "%%testing @ltvar as solution\n",
    "import ast\n",
    "assert {\"a\", \"b\"}.isdisjoint(solution.assignments), \"\"\"Your solution should not (re)assign \"a\" or \"b\".\"\"\"\n",
    "assert {\"a\", \"b\"} <= solution.references, \"\"\"You haven't used the a or b variable.\"\"\"\n",
    "assert \"print\" in solution.calls, \"\"\"I don't see a call to the print function.\"\"\"\n",
    "assert ast.Lt in solution.tokens, \"\"\"I don't see the less than operator.\"\"\"\n",
    "assert \"is less than\" in solution.constants, \"\"\"I don't see an important string.\"\"\" "
   ]
  }
 ],
 "metadata": {
  "kernelspec": {
   "display_name": "venv-p4e",
   "language": "python",
   "name": "python3"
  },
  "language_info": {
   "codemirror_mode": {
    "name": "ipython",
    "version": 3
   },
   "file_extension": ".py",
   "mimetype": "text/x-python",
   "name": "python",
   "nbconvert_exporter": "python",
   "pygments_lexer": "ipython3",
   "version": "3.12.3"
  }
 },
 "nbformat": 4,
 "nbformat_minor": 4
}
