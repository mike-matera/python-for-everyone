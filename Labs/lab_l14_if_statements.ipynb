{
 "cells": [
  {
   "cell_type": "code",
   "execution_count": null,
   "metadata": {},
   "outputs": [],
   "source": [
    "%load_ext nbtest"
   ]
  },
  {
   "attachments": {},
   "cell_type": "markdown",
   "metadata": {},
   "source": [
    "# Lab: Making Decisions\n",
    "\n",
    "This lab will help you get comfortable with logic and `if`/`else`/`elif` statements. "
   ]
  },
  {
   "attachments": {},
   "cell_type": "markdown",
   "metadata": {},
   "source": [
    "## Part 1: Practice with Conditions \n",
    "\n",
    "This part will get you started writing the condition after the `if` keyword. \n",
    "Before you start this section update the code in the next solution with your name and\n",
    "other information. Run the solution to setup variable to work with. "
   ]
  },
  {
   "cell_type": "code",
   "execution_count": null,
   "metadata": {},
   "outputs": [],
   "source": [
    "\"\"\"@vars\"\"\"\n",
    "\n",
    "course = \"Python Programming for Everyone\"\n",
    "course_number = \"cis-15\"\n",
    "instructor = \"Mike\"\n",
    "current_year = 0\n",
    "first_name = \"\"\n",
    "birth_year = 0\n",
    "favorite_number = 0"
   ]
  },
  {
   "attachments": {},
   "cell_type": "markdown",
   "metadata": {},
   "source": [
    "### 1. Less than 100\n",
    "\n",
    "Print \"Low\" if your `favorite_number` is less than 100"
   ]
  },
  {
   "cell_type": "code",
   "execution_count": null,
   "metadata": {},
   "outputs": [],
   "source": [
    "\"\"\"@low_number\"\"\"\n"
   ]
  },
  {
   "cell_type": "code",
   "execution_count": null,
   "metadata": {
    "jupyter": {
     "source_hidden": true
    }
   },
   "outputs": [],
   "source": [
    "%%testing @low_number as solution, @vars\n",
    "import ast\n",
    "assert {ast.Lt, ast.If}.issubset(solution.tokens), \"\"\"I don't see an \"if\" or a test for less than.\"\"\"\n",
    "assert \"print\" in solution.calls, \"\"\"I don't see a call to the print() function.\"\"\"\n",
    "assert \"Low\" in solution.run({\"favorite_number\": 1}).stdout, \"\"\"I didn't see \"Low\" when I set favorite_number to 1.\"\"\"\n",
    "assert \"Low\" not in solution.run({\"favorite_number\": 100}).stdout, \"\"\"I saw \"Low\" when I set favorite_number to 100.\"\"\"\n",
    "vars.run()"
   ]
  },
  {
   "attachments": {},
   "cell_type": "markdown",
   "metadata": {},
   "source": [
    "### 2. Snakes!\n",
    "\n",
    "Print \"Snakes!\" if `course` contains the word \"Python\"\n"
   ]
  },
  {
   "cell_type": "code",
   "execution_count": null,
   "metadata": {},
   "outputs": [],
   "source": [
    "\"\"\"@snakes\"\"\"\n"
   ]
  },
  {
   "cell_type": "code",
   "execution_count": null,
   "metadata": {
    "jupyter": {
     "source_hidden": true
    }
   },
   "outputs": [],
   "source": [
    "%%testing @snakes as solution, @vars\n",
    "import ast\n",
    "assert {ast.In, ast.If}.issubset(solution.tokens), \"\"\"I don't see an \"if\" or \"in\" in your solution.\"\"\"\n",
    "assert \"print\" in solution.calls, \"\"\"I don't see a call to the print() function.\"\"\"\n",
    "assert \"Snakes\" not in solution.run({\"course\": \"blah\"}).stdout, \"\"\"I didn't see \"Snakes!\" when I should have.\"\"\"\n",
    "assert \"Snakes\" in solution.run({\"course\": \"Python\"}).stdout, \"\"\"I saw \"Snakes!\" when I shouldn't have.\"\"\"\n",
    "vars.run()"
   ]
  },
  {
   "attachments": {},
   "cell_type": "markdown",
   "metadata": {},
   "source": [
    "### 3. No Snakes!\n",
    "\n",
    "Print \"No Snakes!\" if `course` **does not** contain the word \"Python\""
   ]
  },
  {
   "cell_type": "code",
   "execution_count": null,
   "metadata": {},
   "outputs": [],
   "source": [
    "\"\"\"@nosnakes\"\"\"\n"
   ]
  },
  {
   "cell_type": "code",
   "execution_count": null,
   "metadata": {
    "jupyter": {
     "source_hidden": true
    }
   },
   "outputs": [],
   "source": [
    "%%testing @nosnakes as solution, @vars\n",
    "import ast\n",
    "assert {ast.NotIn, ast.If}.issubset(solution.tokens), \"\"\"I don't see an \"if\" or \"not in\" in your solution.\"\"\"\n",
    "assert \"print\" in solution.calls, \"\"\"I don't see a call to the print() function.\"\"\"\n",
    "assert \"No Snakes\" in solution.run({\"course\": \"blah\"}).stdout, \"\"\"I didn't see \"Snakes!\" when I should have.\"\"\"\n",
    "assert \"No Snakes\" not in solution.run({\"course\": \"Python\"}).stdout, \"\"\"I saw \"Snakes!\" when I shouldn't have.\"\"\"\n",
    "vars.run()"
   ]
  },
  {
   "attachments": {},
   "cell_type": "markdown",
   "metadata": {},
   "source": [
    "### 4. Same, Same\n",
    "\n",
    "Print \"Same\" if you have the same first name is the instructor. \n",
    "\n",
    "Use the `instructor` and `first_name` variables. "
   ]
  },
  {
   "cell_type": "code",
   "execution_count": null,
   "metadata": {},
   "outputs": [],
   "source": [
    "\"\"\"@same\"\"\"\n"
   ]
  },
  {
   "cell_type": "code",
   "execution_count": null,
   "metadata": {
    "jupyter": {
     "source_hidden": true
    }
   },
   "outputs": [],
   "source": [
    "%%testing @same as solution, @vars\n",
    "import ast\n",
    "assert {ast.Compare, ast.If}.issubset(solution.tokens), \"\"\"I don't see an \"if\" or \"not in\" in your solution.\"\"\"\n",
    "assert \"print\" in solution.calls, \"\"\"I don't see a call to the print() function.\"\"\"\n",
    "assert \"Same\" in solution.run({\"first_name\": \"blah\", \"instructor\": \"blah\"}).stdout, \"\"\"I didn't see \"Same\" when I should have.\"\"\"\n",
    "assert \"Same\" not in solution.run({\"first_name\": \"foo\", \"instructor\": \"bar\"}).stdout, \"\"\"I saw \"Same\" when I shouldn't have.\"\"\"\n",
    "vars.run()"
   ]
  },
  {
   "attachments": {},
   "cell_type": "markdown",
   "metadata": {},
   "source": [
    "### 5. Voter \n",
    "\n",
    "Print `\"VOTE!\"` if you are 18 years old or older. Use the `current_year` and \n",
    "`birth_year` variables to calculate your age. "
   ]
  },
  {
   "cell_type": "code",
   "execution_count": null,
   "metadata": {},
   "outputs": [],
   "source": [
    "\"\"\"@voter\"\"\"\n"
   ]
  },
  {
   "cell_type": "code",
   "execution_count": null,
   "metadata": {
    "jupyter": {
     "source_hidden": true
    }
   },
   "outputs": [],
   "source": [
    "%%testing @voter as solution, @vars\n",
    "import ast\n",
    "assert {\"current_year\", \"birth_year\"} <= solution.references, \"\"\"I don't see that you used \"birth_year\" or \"current_year\" \"\"\"\n",
    "assert {ast.Sub, ast.If}.issubset(solution.tokens), \"\"\"I don't see an \"if\" or \"-\" in your solution.\"\"\"\n",
    "assert \"print\" in solution.calls, \"\"\"I don't see a call to the print() function.\"\"\"\n",
    "assert \"VOTE\" not in solution.run({\"current_year\": 17, \"birth_year\": 0}).stdout, \"\"\"I saw \"VOTE\" when I shouldn't have.\"\"\"\n",
    "assert \"VOTE\" in solution.run({\"current_year\": 18, \"birth_year\": 0}).stdout, \"\"\"I saw \"VOTE\" when I shouldn't have.\"\"\"\n",
    "vars.run()"
   ]
  },
  {
   "attachments": {},
   "cell_type": "markdown",
   "metadata": {},
   "source": [
    "### 6. Yes or No \n",
    "\n",
    "Print \"Yes\" if your name starts with the letter \"L\", \"No\" otherwise. \n",
    "\n",
    "Use the `first_name` variable. \n",
    "\n",
    "*Hint: Google \"Python string startswith\"*"
   ]
  },
  {
   "cell_type": "code",
   "execution_count": null,
   "metadata": {},
   "outputs": [],
   "source": [
    "\"\"\"@startswith\"\"\"\n"
   ]
  },
  {
   "cell_type": "code",
   "execution_count": null,
   "metadata": {
    "jupyter": {
     "source_hidden": true
    }
   },
   "outputs": [],
   "source": [
    "%%testing @startswith as solution, @vars\n",
    "import ast\n",
    "assert {ast.If}.issubset(solution.tokens), \"\"\"I don't see an \"if\" or \"else\" in your solution.\"\"\"\n",
    "assert \"print\" in solution.calls, \"\"\"I don't see a call to the print() function.\"\"\"\n",
    "assert \"Yes\" in solution.run({\"first_name\": \"Lisa\"}).stdout, \"\"\"I saw \"Yes\" when I shouldn't have.\"\"\"\n",
    "assert \"No\" in solution.run({\"first_name\": \"Mike\"}).stdout, \"\"\"I saw \"No\" when I shouldn't have.\"\"\"\n",
    "vars.run()"
   ]
  },
  {
   "attachments": {},
   "cell_type": "markdown",
   "metadata": {},
   "source": [
    "### 7. Are you a Millennial? \n",
    "\n",
    "Print `\"Millennial\"` if `birth_year` is between 1981 and 1996 (including those \n",
    "years). Print `\"Older\"` if you are older and `\"Younger\"` if you are younger than \n",
    "a Millennial."
   ]
  },
  {
   "cell_type": "code",
   "execution_count": null,
   "metadata": {},
   "outputs": [],
   "source": [
    "\"\"\"@millennial\"\"\"\n"
   ]
  },
  {
   "cell_type": "code",
   "execution_count": null,
   "metadata": {
    "jupyter": {
     "source_hidden": true
    }
   },
   "outputs": [],
   "source": [
    "%%testing @millennial as solution, @vars\n",
    "import ast\n",
    "assert {ast.If}.issubset(solution.tokens), \"\"\"I don't see an \"if\" or \"else\" in your solution.\"\"\"\n",
    "assert \"print\" in solution.calls, \"\"\"I don't see a call to the print() function.\"\"\"\n",
    "assert \"Older\" in solution.run({\"birth_year\": 1980}).stdout, \"\"\"A birth year of 1980 should be \"Older\" \"\"\"\n",
    "assert \"Millennial\" in solution.run({\"birth_year\": 1981}).stdout, \"\"\"A birth year of 1981 should be \"Millennial\" \"\"\"\n",
    "assert \"Millennial\" in solution.run({\"birth_year\": 1996}).stdout, \"\"\"A birth year of 1996 should be \"Millennial\" \"\"\"\n",
    "assert \"Younger\" in solution.run({\"birth_year\": 1997}).stdout, \"\"\"A birth year of 1997 should be \"Younger\" \"\"\"\n",
    "vars.run()"
   ]
  },
  {
   "attachments": {},
   "cell_type": "markdown",
   "metadata": {},
   "source": [
    "### 8. Talking About Your Generation\n",
    "\n",
    "Build on your Millennial program with information from [Wikipedia](https://en.wikipedia.org/wiki/Millennials). According to the page here's what generation people belong to: \n",
    "\n",
    "- Baby Boomers: 1946 - 1964\n",
    "- Generation X: 1965 - 1980\n",
    "- Millennials: 1981 - 1996\n",
    "- Generation Z: 1997 - 2012\n",
    "\n",
    "*My apologies if you're older than 75 or younger than 10. I didn't mean to \n",
    "exclude you, only limit how much people had to type for this question!* \n",
    "\n",
    "Write an `if`/`elif`/`else` statement that prints your generation based on your\n",
    "`birth_year`.\n",
    "\n"
   ]
  },
  {
   "cell_type": "code",
   "execution_count": null,
   "metadata": {},
   "outputs": [],
   "source": [
    "\"\"\"@generation\"\"\"\n"
   ]
  },
  {
   "cell_type": "code",
   "execution_count": null,
   "metadata": {
    "jupyter": {
     "source_hidden": true
    }
   },
   "outputs": [],
   "source": [
    "%%testing @generation as solution, @vars\n",
    "import ast\n",
    "assert {ast.If}.issubset(solution.tokens), \"\"\"I don't see an \"if\" or \"else\" in your solution.\"\"\"\n",
    "assert \"print\" in solution.calls, \"\"\"I don't see a call to the print() function.\"\"\"\n",
    "assert \"Z\" in solution.run({\"birth_year\": 1997}).stdout, \"\"\"Born in 1997 should be Gen Z\"\"\"\n",
    "assert \"Millennial\" in solution.run({\"birth_year\": 1996}).stdout, \"\"\"Born in 1996 should be Millennial\"\"\"\n",
    "assert \"Millennial\" in solution.run({\"birth_year\": 1981}).stdout, \"\"\"Born in 1981 should be Millennial\"\"\"\n",
    "assert \"X\" in solution.run({\"birth_year\": 1980}).stdout, \"\"\"Born in 1980 should be Gen X\"\"\"\n",
    "assert \"X\" in solution.run({\"birth_year\": 1965}).stdout, \"\"\"Born in 1965 should be Gen X\"\"\"\n",
    "assert \"Boomer\" in solution.run({\"birth_year\": 1964}).stdout, \"\"\"Born in 1964 should be a Boomer\"\"\"\n",
    "vars.run()"
   ]
  },
  {
   "attachments": {},
   "cell_type": "markdown",
   "metadata": {},
   "source": [
    "## Part 3: Decisions in Functions \n",
    "\n",
    "Now let's combine `if` statements and functions. This is a powerful combination so it's good to get practice!\n",
    "\n",
    "### 1. Convert your Generation Answer\n",
    "\n",
    "Start with the answer to question 2.1. Put the code into a function called `get_generation` that takes one argument `year` and returns the generation of a person born in that year. \n",
    "\n",
    "* Name: `get_generation`\n",
    "* Arguments:\n",
    "  * `year` (int) - The year a person was born\n",
    "* Returns: (string) - The generation a person is in"
   ]
  },
  {
   "cell_type": "code",
   "execution_count": null,
   "metadata": {},
   "outputs": [],
   "source": [
    "\"\"\"@functiongen\"\"\"\n"
   ]
  },
  {
   "cell_type": "code",
   "execution_count": null,
   "metadata": {},
   "outputs": [],
   "source": [
    "# Test your function here... \n"
   ]
  },
  {
   "cell_type": "code",
   "execution_count": null,
   "metadata": {
    "jupyter": {
     "source_hidden": true
    }
   },
   "outputs": [],
   "source": [
    "%%testing @functiongen as solution, get_generation\n",
    "assert \"get_generation\" in solution.functions, \"\"\"I don't see the definition of get_generation\"\"\"\n",
    "assert [\"year\"] == solution.functions[\"get_generation\"].arguments, \"\"\"The get_generation function doesn't have the arguments I expect.\"\"\"\n",
    "assert solution.functions[\"get_generation\"].docstring is not None, \"\"\"The get_generation function doesn't have a docstring.\"\"\"\n",
    "assert \"Z\" in get_generation(1997), \"\"\"Born in 1997 should be Gen Z\"\"\"\n",
    "assert \"Millennial\" in get_generation(1996), \"\"\"Born in 1996 should be Millennial\"\"\"\n",
    "assert \"Millennial\" in get_generation(1981), \"\"\"Born in 1981 should be Millennial\"\"\"\n",
    "assert \"X\" in get_generation(1980), \"\"\"Born in 1980 should be Gen X\"\"\"\n",
    "assert \"X\" in get_generation(1965), \"\"\"Born in 1965 should be Gen X\"\"\"\n",
    "assert \"Boomer\" in get_generation(1964), \"\"\"Born in 1964 should be a Boomer\"\"\""
   ]
  },
  {
   "attachments": {},
   "cell_type": "markdown",
   "metadata": {},
   "source": [
    "### 2. Compute a Letter Grade\n",
    "\n",
    "Write a function called `grade_letter_percent` that takes one input `percent` and returns the grade letter given for that percentage.\n",
    "\n",
    "* Name: `grade_letter_percent`\n",
    "* Arguments: \n",
    "  * `percent` - A grade percentage.\n",
    "* Returns: \n",
    "  * The grade letter (e.g. \"A\", \"B\", \"C\")"
   ]
  },
  {
   "cell_type": "code",
   "execution_count": null,
   "metadata": {},
   "outputs": [],
   "source": [
    "\"\"\"@gradeletter\"\"\"\n"
   ]
  },
  {
   "cell_type": "code",
   "execution_count": null,
   "metadata": {},
   "outputs": [],
   "source": [
    "# Test here \n"
   ]
  },
  {
   "cell_type": "code",
   "execution_count": null,
   "metadata": {
    "jupyter": {
     "source_hidden": true
    }
   },
   "outputs": [],
   "source": [
    "%%testing @gradeletter as solution, grade_letter_percent\n",
    "assert \"grade_letter_percent\" in solution.functions, \"\"\"I don't see the definition of grade_letter_percent\"\"\"\n",
    "assert [\"percent\"] == solution.functions[\"grade_letter_percent\"].arguments, \"\"\"The grade_letter_percent function doesn't have the arguments I expect.\"\"\"\n",
    "assert solution.functions[\"grade_letter_percent\"].docstring is not None, \"\"\"The grade_letter_percent function doesn't have a docstring.\"\"\"\n",
    "for item in (\n",
    "    (99,\"A\",),\n",
    "    (90,\"A\",),\n",
    "    (89,\"B\",),\n",
    "    (80,\"B\",),\n",
    "    (79,\"C\",),\n",
    "    (70,\"C\",),\n",
    "    (65,\"D\",),\n",
    "    (55,\"F\",),\n",
    "    ):\n",
    "    assert item[1] == grade_letter_percent(item[0]), f\"\"\"{item[0]}% should be an {item[1]}\"\"\"\n"
   ]
  },
  {
   "attachments": {},
   "cell_type": "markdown",
   "metadata": {},
   "source": [
    "### 4. Plus and Minus\n",
    "\n",
    "Improve your `grade_letter_percent` function again to include `+` and `-` grades. A `+` grade is given to the highest percent grade in the category, for example 99% is an A+, 89% is a B+, etc. A `-` grade is given to the lowest grade in the category, for example 90% is an A-, 80% is a B-, etc. \n",
    "\n",
    " * Name: `grade_letter_plus`\n",
    " * Arguments:\n",
    "   * `percent` - The grade as a percentage. \n",
    " * Returns: \n",
    "   * The grade letter (e.g. \"A+\", \"A\", \"A-\" \"B+\")"
   ]
  },
  {
   "cell_type": "code",
   "execution_count": null,
   "metadata": {},
   "outputs": [],
   "source": [
    "\"\"\"@plusminus\"\"\"\n"
   ]
  },
  {
   "cell_type": "code",
   "execution_count": null,
   "metadata": {},
   "outputs": [],
   "source": [
    "## Test here \n"
   ]
  },
  {
   "cell_type": "code",
   "execution_count": null,
   "metadata": {
    "jupyter": {
     "source_hidden": true
    }
   },
   "outputs": [],
   "source": [
    "%%testing @plusminus as solution, grade_letter_plus\n",
    "assert \"grade_letter_plus\" in solution.functions, \"\"\"I don't see the definition of grade_letter_plus\"\"\"\n",
    "assert [\"percent\"] == solution.functions[\"grade_letter_plus\"].arguments, \"\"\"The grade_letter_plus function doesn't have the arguments I expect.\"\"\"\n",
    "assert solution.functions[\"grade_letter_plus\"].docstring is not None, \"\"\"The grade_letter_plus function doesn't have a docstring.\"\"\"\n",
    "for item in (\n",
    "    (99,\"A+\",),\n",
    "    (91,\"A\",),\n",
    "    (90,\"A-\",),\n",
    "    (89,\"B+\",),\n",
    "    (81,\"B\",),\n",
    "    (80,\"B-\",),\n",
    "    (79,\"C+\",),\n",
    "    (71,\"C\",),\n",
    "    (70,\"C-\",),\n",
    "    (65,\"D\",),\n",
    "    (55,\"F\",),\n",
    "    ):\n",
    "    assert item[1] == grade_letter_plus(item[0]), f\"\"\"{item[0]}% should be an {item[1]}\"\"\"\n"
   ]
  }
 ],
 "metadata": {
  "kernelspec": {
   "display_name": "Python 3 (ipykernel)",
   "language": "python",
   "name": "python3"
  },
  "language_info": {
   "codemirror_mode": {
    "name": "ipython",
    "version": 3
   },
   "file_extension": ".py",
   "mimetype": "text/x-python",
   "name": "python",
   "nbconvert_exporter": "python",
   "pygments_lexer": "ipython3",
   "version": "3.12.3"
  }
 },
 "nbformat": 4,
 "nbformat_minor": 4
}
