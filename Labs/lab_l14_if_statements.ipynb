{
 "cells": [
  {
   "cell_type": "code",
   "execution_count": 4,
   "metadata": {},
   "outputs": [],
   "source": [
    "%load_ext nbtest"
   ]
  },
  {
   "cell_type": "markdown",
   "metadata": {},
   "source": [
    "XXX: Fixme: \n",
    "\n",
    "This notebook sets variables at the top. Using `cell.run()` has side-effects in the notebook. Rewrite this so that the document structure sets the relevant variables inside of each cell. "
   ]
  },
  {
   "attachments": {},
   "cell_type": "markdown",
   "metadata": {},
   "source": [
    "# Lab: Making Decisions\n",
    "\n",
    "This lab will help you get comfortable with logic and if/else statements. "
   ]
  },
  {
   "attachments": {},
   "cell_type": "markdown",
   "metadata": {},
   "source": [
    "## Part 1: Practice with Conditions \n",
    "\n",
    "This part will get you started writing the condition after the `if` keyword. Before you start this section run the code in the cell below to setup values to work with in the rest of the section. "
   ]
  },
  {
   "cell_type": "code",
   "execution_count": 1,
   "metadata": {},
   "outputs": [],
   "source": [
    "course = \"Python Programming for Everyone\"\n",
    "course_number = \"cis-15\"\n",
    "instructor = \"Mike\"\n",
    "year = 2020 "
   ]
  },
  {
   "attachments": {},
   "cell_type": "markdown",
   "metadata": {},
   "source": [
    "Now fill in the variables in this cell with information about you and execute the cell:"
   ]
  },
  {
   "cell_type": "code",
   "execution_count": 2,
   "metadata": {},
   "outputs": [],
   "source": [
    "first_name = \"\"\n",
    "birth_year = 2000\n",
    "favorite_number = 0"
   ]
  },
  {
   "attachments": {},
   "cell_type": "markdown",
   "metadata": {},
   "source": [
    "### 1. Less than 100\n",
    "\n",
    "Print \"Low\" if your `favorite_number` is less than 100"
   ]
  },
  {
   "cell_type": "code",
   "execution_count": 31,
   "metadata": {},
   "outputs": [
    {
     "name": "stdout",
     "output_type": "stream",
     "text": [
      "Low\n"
     ]
    }
   ],
   "source": [
    "\"\"\"@low_number\"\"\"\n",
    "\n",
    "favorite_number = 10\n",
    "\n",
    "if favorite_number < 100:\n",
    "    print(\"Low\")"
   ]
  },
  {
   "cell_type": "code",
   "execution_count": 30,
   "metadata": {},
   "outputs": [
    {
     "data": {
      "text/html": [
       "<div style=\"font-size: large; font-weight: bold; margin-bottom: 1em; margin-top: 0.5em\">\n",
       "    \n",
       "        ✅ All tests passed.\n",
       "        \n",
       "</div>\n",
       "<div>\n",
       "    \n",
       "</div>"
      ],
      "text/plain": [
       "<IPython.core.display.HTML object>"
      ]
     },
     "execution_count": 30,
     "metadata": {},
     "output_type": "execute_result"
    }
   ],
   "source": [
    "%%testing @low_number \n",
    "import ast\n",
    "cell = low_number\n",
    "assert {ast.Lt, ast.If}.issubset(cell.tokens), \"\"\"I don't see an \"if\" or a test for less than.\"\"\"\n",
    "assert \"print\" in cell.calls, \"\"\"I don't see a call to the print() function.\"\"\"\n",
    "assert \"Low\" in cell.run({\"favorite_number\": 1}).stdout, \"\"\"I didn't see \"Low\" when I set favorite_number to 1.\"\"\"\n",
    "assert \"Low\" not in cell.run({\"favorite_number\": 100}).stdout, \"\"\"I saw \"Low\" when I set favorite_number to 100.\"\"\"\n"
   ]
  },
  {
   "attachments": {},
   "cell_type": "markdown",
   "metadata": {},
   "source": [
    "### 2. Snakes!\n",
    "\n",
    "Print \"Snakes!\" if `course` contains the word \"Python\"\n"
   ]
  },
  {
   "cell_type": "code",
   "execution_count": null,
   "metadata": {},
   "outputs": [],
   "source": []
  },
  {
   "attachments": {},
   "cell_type": "markdown",
   "metadata": {},
   "source": [
    "### 3. No Snakes!\n",
    "\n",
    "Print \"No Snakes!\" if `course` **does not** contain the word \"Python\""
   ]
  },
  {
   "cell_type": "code",
   "execution_count": null,
   "metadata": {},
   "outputs": [],
   "source": []
  },
  {
   "attachments": {},
   "cell_type": "markdown",
   "metadata": {},
   "source": [
    "### 4. Same, Same\n",
    "\n",
    "Print \"Same\" if you have the same first name is the instructor. \n",
    "\n",
    "Use the `instructor` and `first_name` variables. "
   ]
  },
  {
   "cell_type": "code",
   "execution_count": null,
   "metadata": {},
   "outputs": [],
   "source": []
  },
  {
   "attachments": {},
   "cell_type": "markdown",
   "metadata": {},
   "source": [
    "### 5. Voter \n",
    "\n",
    "Print \"VOTE!\" if you are 18 years old or older. \n",
    "\n",
    "Use the `year` and `birth_year` variables."
   ]
  },
  {
   "cell_type": "code",
   "execution_count": null,
   "metadata": {},
   "outputs": [],
   "source": []
  },
  {
   "attachments": {},
   "cell_type": "markdown",
   "metadata": {},
   "source": [
    "### 6. Yes or No \n",
    "\n",
    "Print \"Yes\" if your name starts with the letter \"L\", \"No\" otherwise. \n",
    "\n",
    "Use the `first_name` variable. \n",
    "\n",
    "*Hint: Google \"Python string startswith\"*"
   ]
  },
  {
   "cell_type": "code",
   "execution_count": null,
   "metadata": {},
   "outputs": [],
   "source": []
  },
  {
   "attachments": {},
   "cell_type": "markdown",
   "metadata": {},
   "source": [
    "### 7. Are you a Millennial? \n",
    "\n",
    "Print \"Millennial\" if `birth_year` is between 1981 and 1996 (including those years). Print \"older\" if you are older and \"younger\" if you are younger than a Millennial."
   ]
  },
  {
   "cell_type": "code",
   "execution_count": null,
   "metadata": {},
   "outputs": [],
   "source": []
  },
  {
   "attachments": {},
   "cell_type": "markdown",
   "metadata": {},
   "source": [
    "## Part 2: More Complicated Conditions\n",
    "\n",
    "This part will challenge you to create more complicated `if` statements with `elif`. \n",
    "\n",
    "### 1. Talking About Your Generation\n",
    "\n",
    "Build on your Millennial program with information from [Wikipedia](https://en.wikipedia.org/wiki/Millennials). According to the page here's what generation people belong to: \n",
    "\n",
    "- Baby Boomers: 1946 - 1964\n",
    "- Generation X: 1965 - 1980\n",
    "- Millennials: 1981 - 1996\n",
    "- Generation Z: 1997 - 2012\n",
    "\n",
    "*My apologies if you're older than 75 or younger than 10. I didn't mean to exclude you, only limit how much people had to type for this question!* Write a program that prints a generation based on `birth_year`.\n"
   ]
  },
  {
   "cell_type": "code",
   "execution_count": null,
   "metadata": {},
   "outputs": [],
   "source": []
  },
  {
   "attachments": {},
   "cell_type": "markdown",
   "metadata": {},
   "source": [
    "**Be sure to test your program by changing `birth_year`!**"
   ]
  },
  {
   "attachments": {},
   "cell_type": "markdown",
   "metadata": {},
   "source": [
    "### 2. Reacting to input \n",
    "\n",
    "Write a program that uses a widget to input a word. \n",
    "\n",
    "* If the word starts with \"X\" or \"Y\", print \"=== X, Y ===\"\n",
    "* If the word starts with \"M\" or \"N\", print \"=== M, N ===\"\n",
    "* If the word equals \"Mike\", print \"=== Instructor ===\"\n",
    "* If the word equals your name, print \"=== Me ===\" \n",
    "* If the word doesn't match any of the above, print \"=== No Match ===\""
   ]
  },
  {
   "cell_type": "code",
   "execution_count": null,
   "metadata": {},
   "outputs": [],
   "source": []
  },
  {
   "attachments": {},
   "cell_type": "markdown",
   "metadata": {},
   "source": [
    "### 3. Draw a Shape \n",
    "\n",
    "Write a program that draws a triangle or a square based on a Pulldown widget. The program should have a numerical widget to specify the length of the triangle or square."
   ]
  },
  {
   "cell_type": "code",
   "execution_count": null,
   "metadata": {},
   "outputs": [],
   "source": []
  },
  {
   "attachments": {},
   "cell_type": "markdown",
   "metadata": {},
   "source": [
    "## Part 3: Decisions in Functions \n",
    "\n",
    "Now let's combine `if` statements and functions. This is a powerful combination so it's good to get practice!\n",
    "\n",
    "### 1. Convert your Generation Answer\n",
    "\n",
    "Start with the answer to question 2.1. Put the code into a function called `get_generation` that takes one argument `year` and returns the generation of a person born in that year. \n",
    "\n",
    "* Name: `get_generation`\n",
    "* Arguments:\n",
    "  * `year` (int) - The year a person was born\n",
    "* Returns: (string) - The generation a person is in"
   ]
  },
  {
   "cell_type": "code",
   "execution_count": null,
   "metadata": {},
   "outputs": [],
   "source": []
  },
  {
   "attachments": {},
   "cell_type": "markdown",
   "metadata": {},
   "source": [
    "### 2. Compute a Letter Grade\n",
    "\n",
    "Write a function called `grade_letter_percent` that takes one input `percent` and returns the grade letter given for that percentage.\n",
    "\n",
    "* Name: `grade_letter_percent`\n",
    "* Arguments: \n",
    "  * `percent` - A grade percentage.\n",
    "* Returns: \n",
    "  * The grade letter (e.g. \"A\", \"B\", \"C\")"
   ]
  },
  {
   "cell_type": "code",
   "execution_count": null,
   "metadata": {},
   "outputs": [],
   "source": []
  },
  {
   "attachments": {},
   "cell_type": "markdown",
   "metadata": {},
   "source": [
    "### 3. Improved Letter Grade \n",
    "\n",
    "Improve your `grade_letter_percent` function so that it calculates the percentage based on a person's total score in points and the points possible on an assignment. \n",
    "\n",
    " * Name: `grade_letter`\n",
    " * Arguments:\n",
    "   * `score_points` - The grade for an assignment in points \n",
    "   * `total_points` - The total points available for the assignment \n",
    " * Returns: \n",
    "   * The grade letter (e.g. \"A\", \"B\", \"C\")"
   ]
  },
  {
   "cell_type": "code",
   "execution_count": null,
   "metadata": {},
   "outputs": [],
   "source": []
  },
  {
   "attachments": {},
   "cell_type": "markdown",
   "metadata": {},
   "source": [
    "### 4. Plus and Minus\n",
    "\n",
    "Improve your `grade_letter_percent` function again to include `+` and `-` grades. A `+` grade is given to the highest percent grade in the category, for example 99% is an A+, 89% is a B+, etc. A `-` grade is given to the lowest grade in the category, for example 90% is an A-, 80% is a B-, etc. \n",
    "\n",
    " * Name: `grade_letter_plus`\n",
    " * Arguments:\n",
    "   * `grade` - The grade in points \n",
    "   * `total` - The total points for the assignment \n",
    " * Returns: \n",
    "   * The grade letter (e.g. \"A+\", \"A\", \"A-\" \"B+\")"
   ]
  },
  {
   "cell_type": "code",
   "execution_count": null,
   "metadata": {},
   "outputs": [],
   "source": []
  }
 ],
 "metadata": {
  "interpreter": {
   "hash": "916dbcbb3f70747c44a77c7bcd40155683ae19c65e1c03b4aa3499c5328201f1"
  },
  "kernelspec": {
   "display_name": "Python 3 (ipykernel)",
   "language": "python",
   "name": "python3"
  },
  "language_info": {
   "codemirror_mode": {
    "name": "ipython",
    "version": 3
   },
   "file_extension": ".py",
   "mimetype": "text/x-python",
   "name": "python",
   "nbconvert_exporter": "python",
   "pygments_lexer": "ipython3",
   "version": "3.12.3"
  }
 },
 "nbformat": 4,
 "nbformat_minor": 4
}
