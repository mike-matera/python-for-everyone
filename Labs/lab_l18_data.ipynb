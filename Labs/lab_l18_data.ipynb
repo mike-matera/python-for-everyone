{
 "cells": [
  {
   "cell_type": "code",
   "execution_count": null,
   "id": "fc5196ea",
   "metadata": {},
   "outputs": [],
   "source": [
    "%load_ext nbtest"
   ]
  },
  {
   "attachments": {},
   "cell_type": "markdown",
   "id": "2f37af70-3f03-4b0c-abb0-46467f0eac9d",
   "metadata": {},
   "source": [
    "# Lab: Managing Data \n",
    "\n",
    "In this lab you'll practice manipulating data in table form using Pandas. "
   ]
  },
  {
   "attachments": {},
   "cell_type": "markdown",
   "id": "63915ff4-d774-4839-befd-04f4e75bb7f9",
   "metadata": {},
   "source": [
    "## Part 1: Airport Data \n",
    "\n",
    "There are so many datasets to choose from! In this part you'll use an open source dataset that tracks all the airports (large and small) and helicopter pads in the world. Run the next cell to download the dataset into your Labs directory:"
   ]
  },
  {
   "cell_type": "code",
   "execution_count": null,
   "id": "7b8c15ef-2132-4c15-b11b-d5d3e1c8b81a",
   "metadata": {},
   "outputs": [],
   "source": [
    "! if [ ! -f files/airports.csv ]; then wget -O files/airports.csv https://davidmegginson.github.io/ourairports-data/airports.csv; fi"
   ]
  },
  {
   "attachments": {},
   "cell_type": "markdown",
   "id": "73023ff0-0d36-4dc3-8b97-5875c730e575",
   "metadata": {},
   "source": [
    "### 1. Load `airports.csv` \n",
    "\n",
    "The last cell downloaded a file called `airports.csv`. Load it into a `DataFrame` and display the data."
   ]
  },
  {
   "cell_type": "code",
   "execution_count": null,
   "id": "990eafe5-3ba8-44c1-89e5-613d149f9d5d",
   "metadata": {},
   "outputs": [],
   "source": [
    "\"\"\"@load_data\"\"\"\n",
    "\n",
    "import pandas\n",
    "df = pandas.read_csv(\"files/airports.csv\")"
   ]
  },
  {
   "cell_type": "code",
   "execution_count": null,
   "id": "7dd505c2",
   "metadata": {},
   "outputs": [],
   "source": [
    "%%testing @load_data as solution\n",
    "assert \"pandas\" in solution.imports, \"\"\"Don't forget to import pandas.\"\"\"\n",
    "assert \"read_csv\" in solution.calls, \"\"\"The solution should call pandas.read_csv()\"\"\" "
   ]
  },
  {
   "attachments": {},
   "cell_type": "markdown",
   "id": "8fab02a4-03c8-4dcc-b238-cdf949b6629b",
   "metadata": {},
   "source": [
    "### 2. US Airports \n",
    "\n",
    "Filter and show only the airports in the United States."
   ]
  },
  {
   "cell_type": "code",
   "execution_count": null,
   "id": "7ac71b95-6754-4a10-9be5-11bb7c5950e9",
   "metadata": {},
   "outputs": [],
   "source": [
    "\"\"\"@us_airports\"\"\"\n",
    "\n",
    "df[df[\"iso_country\"] == \"US\"]"
   ]
  },
  {
   "cell_type": "code",
   "execution_count": null,
   "id": "1396787f",
   "metadata": {},
   "outputs": [],
   "source": [
    "%%testing @us_airports as solution\n",
    "import pandas\n",
    "assert solution.result.result.__class__ == pandas.DataFrame, \"\"\"You cell did not result in a DataFrame\"\"\"\n",
    "assert (solution.result.result[\"iso_country\"] == \"US\").all(), \"\"\"I see some results that don't have \"US\" as the iso_country\"\"\""
   ]
  },
  {
   "attachments": {},
   "cell_type": "markdown",
   "id": "e7497589-4bae-439b-afeb-edde3a2d52ec",
   "metadata": {},
   "source": [
    "### 3. Look for SJC\n",
    "\n",
    "Filter and show only the row for Norman Y. Mineta San Jose International Airport (SJC). "
   ]
  },
  {
   "cell_type": "code",
   "execution_count": null,
   "id": "78e1a742-0ced-4789-b6e0-dbd722ada787",
   "metadata": {},
   "outputs": [],
   "source": [
    "\"\"\"@sjc\"\"\"\n",
    "\n",
    "df[df[\"iata_code\"] == \"SJC\"]"
   ]
  },
  {
   "cell_type": "code",
   "execution_count": null,
   "id": "a1a83a38-cdd4-4f93-900e-d19e8d094d0f",
   "metadata": {},
   "outputs": [],
   "source": [
    "%%testing @sjc as solution\n",
    "import pandas\n",
    "assert solution.result.result.__class__ == pandas.DataFrame, \"\"\"You cell did not result in a DataFrame\"\"\"\n",
    "assert len(solution.result.result) == 1, \"\"\"There should only be one result.\"\"\"\n",
    "assert (solution.result.result[\"municipality\"] == \"San Jose\").all(), \"\"\"The result doesn't look like San Jose\"\"\""
   ]
  },
  {
   "attachments": {},
   "cell_type": "markdown",
   "id": "b644bfe3-17b6-46c1-a8a2-fb06209a7bf6",
   "metadata": {},
   "source": [
    "### 4. Link to SJC \n",
    "\n",
    "Refine your search in the last question to only show the URL to SJC's website."
   ]
  },
  {
   "cell_type": "code",
   "execution_count": null,
   "id": "598758ff",
   "metadata": {},
   "outputs": [],
   "source": [
    "\"\"\"@sjclink\"\"\"\n",
    "\n",
    "df[df[\"iata_code\"] == \"SJC\"][\"home_link\"]"
   ]
  },
  {
   "cell_type": "code",
   "execution_count": null,
   "id": "3ced783d",
   "metadata": {},
   "outputs": [],
   "source": [
    "%%testing @sjclink as solution\n",
    "import pandas\n",
    "assert solution.result.result.__class__ == pandas.Series, \"\"\"You cell did not result in a Series\"\"\"\n",
    "assert len(solution.result.result) == 1, \"\"\"There should be one result.\"\"\"\n",
    "assert \"flysanjose\" in solution.result.result.iat[0], \"\"\"I don't see the right URL in your output.\"\"\""
   ]
  },
  {
   "attachments": {},
   "cell_type": "markdown",
   "id": "86926a34-019d-4a13-ac75-1a8200af4863",
   "metadata": {},
   "source": [
    "### 5. Find the Lowest Elevation of Any Airport\n",
    "\n",
    "The result should be a number."
   ]
  },
  {
   "cell_type": "code",
   "execution_count": null,
   "id": "07381f06-254a-4592-add2-5163373d7336",
   "metadata": {},
   "outputs": [],
   "source": [
    "\"\"\"@lowest\"\"\"\n",
    "\n",
    "df[\"elevation_ft\"].min()"
   ]
  },
  {
   "cell_type": "code",
   "execution_count": null,
   "id": "d4968fc8",
   "metadata": {},
   "outputs": [],
   "source": [
    "%%testing @lowest as solution\n",
    "import pandas\n",
    "from numbers import Number\n",
    "assert isinstance(solution.result.result,Number), \"\"\"Your cell did not result in a number\"\"\"\n",
    "assert \"min\" in solution.calls, \"\"\"Your solution should use the min() function.\"\"\"\n",
    "assert not any([isinstance(const, Number) for const in solution.constants]), \"\"\"I see a numerical constant in your code. You should find the lowest airport using the min() function.\"\"\""
   ]
  },
  {
   "attachments": {},
   "cell_type": "markdown",
   "id": "87b732e7-c75a-4efb-9685-d1458292bdf5",
   "metadata": {},
   "source": [
    "### 6. Lowest Airport \n",
    "\n",
    "Use the expression in the last question to show all data on the lowest airport."
   ]
  },
  {
   "cell_type": "code",
   "execution_count": null,
   "id": "be532bc6-8a69-4db8-87ec-41814b3c9aac",
   "metadata": {},
   "outputs": [],
   "source": [
    "\"\"\"@lowestairport\"\"\"\n",
    "\n",
    "df[ df[\"elevation_ft\"] == df[\"elevation_ft\"].min()]"
   ]
  },
  {
   "cell_type": "code",
   "execution_count": null,
   "id": "0a7c2cb3",
   "metadata": {},
   "outputs": [],
   "source": [
    "%%testing @lowestairport as solution\n",
    "import pandas\n",
    "from numbers import Number\n",
    "assert solution.result.result.__class__ == pandas.DataFrame, \"\"\"You cell did not result in a DataFrame\"\"\"\n",
    "assert len(solution.result.result) == 1, \"\"\"There should only be one result.\"\"\"\n",
    "assert (solution.result.result[\"municipality\"] == \"Masada\").all(), \"\"\"The result doesn't look like the right airport.\"\"\"\n",
    "assert not any([isinstance(const, Number) for const in solution.constants]), \"\"\"I see a numerical constant in your code. You should find the lowest airport using the min() function.\"\"\""
   ]
  },
  {
   "attachments": {},
   "cell_type": "markdown",
   "id": "69e84d26-1543-4c8b-885f-4dacaa23a769",
   "metadata": {},
   "source": [
    "### 7. Median Elevation\n",
    "\n",
    "Calculate the median elevation of all airports."
   ]
  },
  {
   "cell_type": "code",
   "execution_count": null,
   "id": "ead42c42-f638-4011-a39f-bf785bc08dd6",
   "metadata": {},
   "outputs": [],
   "source": [
    "\"\"\"@median\"\"\"\n",
    "\n",
    "df[\"elevation_ft\"].median()"
   ]
  },
  {
   "cell_type": "code",
   "execution_count": null,
   "id": "19f145bf",
   "metadata": {},
   "outputs": [],
   "source": [
    "%%testing @median as solution\n",
    "import pandas\n",
    "from numbers import Number\n",
    "assert isinstance(solution.result.result,Number), \"\"\"Your cell did not result in a number\"\"\"\n",
    "assert \"median\" in solution.calls, \"\"\"Your solution should use the median() function.\"\"\"\n",
    "assert not any([isinstance(const, Number) for const in solution.constants]), \"\"\"I see a numerical constant in your code. You should find the lowest airport using the min() function.\"\"\""
   ]
  },
  {
   "attachments": {},
   "cell_type": "markdown",
   "id": "7c816450-13c8-49c6-b4ec-878712f0a54f",
   "metadata": {},
   "source": [
    "### 8. Plot a Histogram \n",
    "\n",
    "Plot a histogram of all of the airport elevations."
   ]
  },
  {
   "cell_type": "code",
   "execution_count": null,
   "id": "490147c5-53dd-4e8a-9af5-06a32b1046ab",
   "metadata": {},
   "outputs": [],
   "source": [
    "\"\"\"@hist\"\"\"\n",
    "\n",
    "df[\"elevation_ft\"].plot.hist()"
   ]
  },
  {
   "cell_type": "code",
   "execution_count": null,
   "id": "a8067509",
   "metadata": {},
   "outputs": [],
   "source": [
    "%%testing @hist as solution\n",
    "import matplotlib\n",
    "assert isinstance(solution.result.result, matplotlib.axes.Axes), \"\"\"The solution should result in a plot.\"\"\"\n",
    "assert \"hist\" in solution.calls, \"\"\"Your solution should use the hist() function.\"\"\""
   ]
  }
 ],
 "metadata": {
  "kernelspec": {
   "display_name": "venv-p4e",
   "language": "python",
   "name": "python3"
  },
  "language_info": {
   "codemirror_mode": {
    "name": "ipython",
    "version": 3
   },
   "file_extension": ".py",
   "mimetype": "text/x-python",
   "name": "python",
   "nbconvert_exporter": "python",
   "pygments_lexer": "ipython3",
   "version": "3.12.3"
  }
 },
 "nbformat": 4,
 "nbformat_minor": 5
}
