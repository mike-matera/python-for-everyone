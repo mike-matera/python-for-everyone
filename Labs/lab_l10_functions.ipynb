{
 "cells": [
  {
   "cell_type": "code",
   "execution_count": 1,
   "metadata": {},
   "outputs": [],
   "source": [
    "%load_ext nbtest\n",
    "%load_ext jupyter_turtle"
   ]
  },
  {
   "attachments": {},
   "cell_type": "markdown",
   "metadata": {},
   "source": [
    "# Lab: Functions\n",
    "\n",
    "This lab will help you get practice using functions. It will also help you understand how functions are specified. From now on most of the things that I will have you write will be in a function. It's important that you structure your function to match the question exactly. \n",
    "\n",
    "Here's an example of a function specification. It tells you the name of the function, what it should return the names of the arguments (if any) and their order. Though the argument names can change everything else should be the same. \n",
    "\n",
    "* Name: `the_function`\n",
    "* Arguments:\n",
    "  * `arg1` (string) - The first argument\n",
    "  * `arg2` (integer) - The second argument \n",
    "* Return Values:\n",
    "  * Your name (string)  \n",
    "\n",
    "Here's how you setup the answer:\n",
    "\n",
    "```python\n",
    "def the_function(arg1, arg2): \n",
    "    \"\"\"This is the docstring for the_function\"\"\"\n",
    "    # Put your code here\n",
    "    return \"Mike\"\n",
    "```\n",
    "\n",
    "Before you turn in or test your function make sure that:\n",
    "\n",
    "1. You used the correct name\n",
    "1. There is a docstring\n",
    "1. You have the same number of arguments (you can rename them if you like)\n",
    "1. You return the requested value. If the requested value is `None` you can simply `return`\n",
    "\n",
    "## Part 1: Writing Functions \n",
    "\n",
    "\n",
    "### 1. Write `foo`\n",
    "\n",
    "Write a function called `foo` that takes one argument `bar`. The function should `print` the contents of `bar`.\n",
    "\n",
    "* Name: `foo`\n",
    "* Arguments:\n",
    "  * `bar` (string) - The thing to print\n",
    "* Returns: `None`"
   ]
  },
  {
   "cell_type": "code",
   "execution_count": 2,
   "metadata": {},
   "outputs": [],
   "source": [
    "\"\"\"@foo_func\"\"\"\n",
    "\n",
    "def foo(bar):\n",
    "    \"\"\"foo\"\"\"\n",
    "    print(bar)"
   ]
  },
  {
   "attachments": {},
   "cell_type": "markdown",
   "metadata": {},
   "source": [
    "Test your function using the cell below: "
   ]
  },
  {
   "cell_type": "code",
   "execution_count": null,
   "metadata": {},
   "outputs": [],
   "source": []
  },
  {
   "cell_type": "code",
   "execution_count": 3,
   "metadata": {},
   "outputs": [
    {
     "name": "stdout",
     "output_type": "stream",
     "text": [
      "<nbtest.analysis.AnalysisNode object at 0x79a85bf52720>\n"
     ]
    },
    {
     "data": {
      "text/html": [
       "<div style=\"font-size: large; font-weight: bold; margin-bottom: 1em; margin-top: 0.5em\">\n",
       "    \n",
       "        ✅ All tests passed.\n",
       "        \n",
       "</div>\n",
       "<div>\n",
       "    \n",
       "</div>"
      ],
      "text/plain": [
       "<IPython.core.display.HTML object>"
      ]
     },
     "execution_count": 3,
     "metadata": {},
     "output_type": "execute_result"
    }
   ],
   "source": [
    "%%testing @foo_func as cell, foo\n",
    "assert \"foo\" in cell.functions, \"\"\"I don't see the definition of foo()\"\"\"\n",
    "assert cell.functions[\"foo\"].docstring is not None, \"\"\"foo() should have a docstring.\"\"\"\n",
    "assert cell.functions[\"foo\"].arguments == {\"bar\"}, \"\"\"Foo has the wrong arguments.\"\"\"\n",
    "assert cell.functions[\"foo\"].calls == {\"print\"}, \"\"\"foo() should call the print() function.\"\"\"\n",
    "print(cell.functions[\"foo\"])"
   ]
  },
  {
   "attachments": {},
   "cell_type": "markdown",
   "metadata": {},
   "source": [
    "### 2. Write `do_sum`\n",
    "\n",
    "Write a function called `do_sum` that takes two arguments, `a` and `b`. The function should `print` the sum of its arguments.\n",
    "\n",
    "* Name: `do_sum`\n",
    "* Arguments:\n",
    "  * `a` (float) - A number\n",
    "  * `b` (float) - Another number\n",
    "* Returns: `None`"
   ]
  },
  {
   "cell_type": "code",
   "execution_count": 4,
   "metadata": {},
   "outputs": [],
   "source": [
    "\"\"\"@sum_func\"\"\"\n",
    "\n",
    "def do_sum(a, b):\n",
    "    \"\"\"docstring\"\"\"\n",
    "    print(\"eat me\")"
   ]
  },
  {
   "attachments": {},
   "cell_type": "markdown",
   "metadata": {},
   "source": [
    "Test your function in the cell below:"
   ]
  },
  {
   "cell_type": "code",
   "execution_count": null,
   "metadata": {},
   "outputs": [],
   "source": []
  },
  {
   "cell_type": "code",
   "execution_count": 5,
   "metadata": {},
   "outputs": [
    {
     "name": "stdout",
     "output_type": "stream",
     "text": [
      "eat me\n"
     ]
    },
    {
     "data": {
      "text/html": [
       "<div style=\"font-size: large; font-weight: bold; margin-bottom: 1em; margin-top: 0.5em\">\n",
       "    \n",
       "        ✅ All tests passed.\n",
       "        \n",
       "</div>\n",
       "<div>\n",
       "    \n",
       "</div>"
      ],
      "text/plain": [
       "<IPython.core.display.HTML object>"
      ]
     },
     "execution_count": 5,
     "metadata": {},
     "output_type": "execute_result"
    }
   ],
   "source": [
    "%%testing @sum_func as cell, do_sum\n",
    "assert \"do_sum\" in cell.functions, \"\"\"I don't see the definition of do_sum()\"\"\"\n",
    "assert cell.functions[\"do_sum\"].docstring is not None, \"\"\"do_sum() should have a docstring.\"\"\"\n",
    "assert cell.functions[\"do_sum\"].arguments == {\"a\", \"b\"}, \"\"\"do_sum() has the wrong arguments.\"\"\"\n",
    "assert cell.functions[\"do_sum\"].calls == {\"print\"}, \"\"\"do_sum() should call the print() function.\"\"\"\n",
    "assert do_sum(1,2) == None, \"\"\"The do_sum() function should print the sum, not return it.\"\"\""
   ]
  },
  {
   "attachments": {},
   "cell_type": "markdown",
   "metadata": {},
   "source": [
    "### 3. Print Repeated\n",
    "\n",
    "Write a function called `print_repeat` that takes two arguments, `words` and `times`. The function prints `words` `times` times. \n",
    "\n",
    "* Name: `print_repeat`\n",
    "* Arguments:\n",
    "  * `words` (string) - The words to repeat\n",
    "  * `times` (integer) - Another number\n",
    "* Returns: `None`"
   ]
  },
  {
   "cell_type": "code",
   "execution_count": null,
   "metadata": {},
   "outputs": [],
   "source": []
  },
  {
   "attachments": {},
   "cell_type": "markdown",
   "metadata": {},
   "source": [
    "Test your function is the cell below:"
   ]
  },
  {
   "cell_type": "code",
   "execution_count": null,
   "metadata": {},
   "outputs": [],
   "source": []
  },
  {
   "attachments": {},
   "cell_type": "markdown",
   "metadata": {},
   "source": [
    "### 4. A Return Value\n",
    "\n",
    "Write a function called `i_am_four` that returns the number `4`.\n",
    "\n",
    "* Name: `i_am_four`\n",
    "* Arguments: None\n",
    "* Returns: `4`"
   ]
  },
  {
   "cell_type": "code",
   "execution_count": null,
   "metadata": {},
   "outputs": [],
   "source": []
  },
  {
   "attachments": {},
   "cell_type": "markdown",
   "metadata": {},
   "source": [
    "Test your function in the cell below:"
   ]
  },
  {
   "cell_type": "code",
   "execution_count": null,
   "metadata": {},
   "outputs": [],
   "source": []
  },
  {
   "attachments": {},
   "cell_type": "markdown",
   "metadata": {},
   "source": [
    "### 5. Arguments and Return Values\n",
    "\n",
    "Write a function called `do_sum_return` that takes two arguments, `a` and `b`. The function returns the sum of the two numbers. \n",
    "\n",
    "* Name: `do_sum_return`\n",
    "* Arguments: \n",
    "    * `a` (float) A number\n",
    "    * `b` (float) Another number\n",
    "* Returns: The sum of `a` and `b`"
   ]
  },
  {
   "cell_type": "code",
   "execution_count": null,
   "metadata": {},
   "outputs": [],
   "source": []
  },
  {
   "attachments": {},
   "cell_type": "markdown",
   "metadata": {},
   "source": [
    "Test your function in the cell below:"
   ]
  },
  {
   "cell_type": "code",
   "execution_count": null,
   "metadata": {},
   "outputs": [],
   "source": []
  },
  {
   "attachments": {},
   "cell_type": "markdown",
   "metadata": {},
   "source": [
    "### 6. Returning a Boolean Value\n",
    "\n",
    "Write a function called `is_greater` that takes two arguments called `a` and `b`. The function returns `True` if `a` is greater than `b`, `False` otherwise.\n",
    "\n",
    "* Name: `is_greater`\n",
    "* Arguments:\n",
    "    * `a` (float) A number \n",
    "    * `b` (float) A number \n",
    "* Returns:\n",
    "    * True if `a` is greater than `b`. `False` otherwise. "
   ]
  },
  {
   "cell_type": "code",
   "execution_count": null,
   "metadata": {},
   "outputs": [],
   "source": []
  },
  {
   "attachments": {},
   "cell_type": "markdown",
   "metadata": {},
   "source": [
    "Test your function in the cell below:"
   ]
  },
  {
   "cell_type": "code",
   "execution_count": null,
   "metadata": {},
   "outputs": [],
   "source": []
  },
  {
   "attachments": {},
   "cell_type": "markdown",
   "metadata": {},
   "source": [
    "## Part 2: Using Your Own Functions \n",
    "\n",
    "In this part you'll write reusable functions and use them to make a simple program."
   ]
  },
  {
   "attachments": {},
   "cell_type": "markdown",
   "metadata": {},
   "source": [
    "### 1. Write a `triangle` Function \n",
    "\n",
    "Write a function to draw a `triangle` that takes one argument `len`, the length of a side. The function draws an equilateral triangle with sides of `len` pixels.\n",
    "\n",
    "* Name: `triangle`\n",
    "* Arguments:\n",
    "  * `len` (int) the length of a side"
   ]
  },
  {
   "cell_type": "code",
   "execution_count": 6,
   "metadata": {},
   "outputs": [],
   "source": [
    "\"\"\"@triangle_func\"\"\"\n",
    "\n",
    "import jupyter_turtle as tu\n",
    "\n",
    "def triangle(len):\n",
    "    \"\"\"Draw a triangle.\"\"\"\n",
    "    tu.move(len)\n",
    "    tu.turn(120)\n",
    "    tu.move(len)\n",
    "    tu.turn(120)\n",
    "    tu.move(len)\n",
    "    tu.turn(120)        "
   ]
  },
  {
   "cell_type": "code",
   "execution_count": 7,
   "metadata": {},
   "outputs": [
    {
     "data": {
      "text/html": [
       "<div style=\"font-size: large; font-weight: bold; margin-bottom: 1em; margin-top: 0.5em\">\n",
       "    \n",
       "        ✅ All tests passed.\n",
       "        \n",
       "</div>\n",
       "<div>\n",
       "    \n",
       "</div>"
      ],
      "text/plain": [
       "<IPython.core.display.HTML object>"
      ]
     },
     "execution_count": 7,
     "metadata": {},
     "output_type": "execute_result"
    }
   ],
   "source": [
    "%%testing @triangle_func as cell\n",
    "\n",
    "assert \"triangle\" in cell.functions, \"\"\"I don't see the definition of triangle()\"\"\"\n",
    "assert cell.functions[\"triangle\"].docstring is not None, \"\"\"triangle() should have a docstring.\"\"\"\n",
    "assert cell.functions[\"triangle\"].arguments == {\"len\"}, \"\"\"triangle() has the wrong arugments.\"\"\"\n"
   ]
  },
  {
   "attachments": {},
   "cell_type": "markdown",
   "metadata": {},
   "source": [
    "### 2. Draw Using `triangle`\n",
    "\n",
    "Use the `triangle` function from the last question to construct a figure like this: \n",
    "\n",
    "![](files/triangles.svg)\n",
    "\n",
    "Notice that it's made of three triangles, two at the base and one on top. "
   ]
  },
  {
   "cell_type": "code",
   "execution_count": 8,
   "metadata": {},
   "outputs": [
    {
     "data": {
      "application/vnd.jupyter.widget-view+json": {
       "model_id": "d5560a1f538d482ea5766c8724b50262",
       "version_major": 2,
       "version_minor": 0
      },
      "text/plain": [
       "MultiCanvas(height=300, sync_image_data=True, width=600)"
      ]
     },
     "metadata": {},
     "output_type": "display_data"
    }
   ],
   "source": [
    "\"\"\"@use_triangle\"\"\"\n",
    "\n",
    "triangle(100)"
   ]
  },
  {
   "cell_type": "code",
   "execution_count": 9,
   "metadata": {},
   "outputs": [
    {
     "data": {
      "text/html": [
       "<div style=\"font-size: large; font-weight: bold; margin-bottom: 0.5em; margin-top: 0.5em\">\n",
       "    ⚠️ Attention needed.\n",
       "</div>\n",
       "<div>\n",
       "    The drawing needs at least six moves.\n",
       "</div>"
      ],
      "text/plain": [
       "<IPython.core.display.HTML object>"
      ]
     },
     "execution_count": 9,
     "metadata": {},
     "output_type": "execute_result"
    }
   ],
   "source": [
    "%%testing @use_triangle as cell, triangle\n",
    "\n",
    "assert \"triangle\" in cell.calls, \"\"\"I didn't seem to call your triangle function()\"\"\"\n",
    "assert cell.result.turtle.stats[\"moves\"] >= 6, \"\"\"The drawing needs at least six moves.\"\"\""
   ]
  }
 ],
 "metadata": {
  "kernelspec": {
   "display_name": "venv-p4e",
   "language": "python",
   "name": "python3"
  },
  "language_info": {
   "codemirror_mode": {
    "name": "ipython",
    "version": 3
   },
   "file_extension": ".py",
   "mimetype": "text/x-python",
   "name": "python",
   "nbconvert_exporter": "python",
   "pygments_lexer": "ipython3",
   "version": "3.12.3"
  }
 },
 "nbformat": 4,
 "nbformat_minor": 4
}
