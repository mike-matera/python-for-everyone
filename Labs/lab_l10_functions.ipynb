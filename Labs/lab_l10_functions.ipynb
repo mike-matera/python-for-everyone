{
 "cells": [
  {
   "cell_type": "code",
   "execution_count": 1,
   "metadata": {},
   "outputs": [],
   "source": [
    "%load_ext nbtest\n",
    "%load_ext jupyter_turtle"
   ]
  },
  {
   "attachments": {},
   "cell_type": "markdown",
   "metadata": {},
   "source": [
    "# Lab: Functions\n",
    "\n",
    "This lab will help you get practice using functions. It will also help you understand how functions are specified. From now on most of the things that I will have you write will be in a function. It's important that you structure your function to match the question exactly. \n",
    "\n",
    "Here's an example of a function specification. It tells you the name of the function, what it should return the names of the arguments (if any) and their order. Though the argument names can change everything else should be the same. \n",
    "\n",
    "* Name: `the_function`\n",
    "* Arguments:\n",
    "  * `arg1` (string) - The first argument\n",
    "  * `arg2` (integer) - The second argument \n",
    "* Return Values:\n",
    "  * Your name (string)  \n",
    "\n",
    "Here's how you setup the answer:\n",
    "\n",
    "```python\n",
    "def the_function(arg1, arg2): \n",
    "    \"\"\"This is the docstring for the_function\"\"\"\n",
    "    # Put your code here\n",
    "    return \"Mike\"\n",
    "```\n",
    "\n",
    "Before you turn in or test your function make sure that:\n",
    "\n",
    "1. You used the correct name\n",
    "1. There is a docstring\n",
    "1. Arguments are named correctly and are in the correct order.\n",
    "1. You return the requested value. If the requested value is `None` or absent you can simply `return`\n"
   ]
  },
  {
   "cell_type": "markdown",
   "metadata": {},
   "source": [
    "\n",
    "## Part 1: Write Functions \n",
    "\n",
    "### 1. Write `foo`\n",
    "\n",
    "Write a function called `foo` that takes one argument `bar`. The function should `print` the contents of `bar`.\n",
    "\n",
    "* Name: `foo`\n",
    "* Arguments:\n",
    "  * `bar` (string) - The thing to print\n",
    "* Returns: `None`"
   ]
  },
  {
   "cell_type": "code",
   "execution_count": 2,
   "metadata": {},
   "outputs": [],
   "source": [
    "\"\"\"@foodef\"\"\"\n",
    "\n",
    "def foo(bar):\n",
    "    \"\"\"foo\"\"\"\n",
    "    print(bar)"
   ]
  },
  {
   "attachments": {},
   "cell_type": "markdown",
   "metadata": {},
   "source": [
    "Test your function using the cell below: "
   ]
  },
  {
   "cell_type": "code",
   "execution_count": 3,
   "metadata": {},
   "outputs": [
    {
     "name": "stdout",
     "output_type": "stream",
     "text": [
      "hello\n"
     ]
    }
   ],
   "source": [
    "\"\"\"@foocall\"\"\"\n",
    "\n",
    "foo(\"hello\")"
   ]
  },
  {
   "cell_type": "code",
   "execution_count": 4,
   "metadata": {},
   "outputs": [
    {
     "data": {
      "text/html": [
       "<div style=\"font-size: large; font-weight: bold; margin-bottom: 1em; margin-top: 0.5em\">\n",
       "    \n",
       "        ✅ All tests passed.\n",
       "        \n",
       "</div>\n",
       "<div>\n",
       "    \n",
       "</div>"
      ],
      "text/plain": [
       "<IPython.core.display.HTML object>"
      ]
     },
     "execution_count": 4,
     "metadata": {},
     "output_type": "execute_result"
    }
   ],
   "source": [
    "%%testing @foodef as fdef, @foocall as fcall\n",
    "assert \"foo\" in fdef.functions, \"\"\"I don't see the definition of foo()\"\"\"\n",
    "assert fdef.functions[\"foo\"].docstring is not None, \"\"\"foo() should have a docstring.\"\"\"\n",
    "assert fdef.functions[\"foo\"].arguments == [\"bar\"], \"\"\"Foo has the wrong arguments.\"\"\"\n",
    "assert fdef.functions[\"foo\"].calls == {\"print\"}, \"\"\"foo() should call the print() function.\"\"\"\n",
    "assert \"foo\" in fcall.calls, \"\"\"You haven't called \"foo\" in the second cell.\"\"\""
   ]
  },
  {
   "attachments": {},
   "cell_type": "markdown",
   "metadata": {},
   "source": [
    "### 2. Write `do_sum`\n",
    "\n",
    "Write a function called `do_sum` that takes two arguments, `a` and `b`. The function should `print` the sum of its arguments.\n",
    "\n",
    "* Name: `do_sum`\n",
    "* Arguments:\n",
    "  * `a` (float) - A number\n",
    "  * `b` (float) - Another number\n",
    "* Returns: `None`"
   ]
  },
  {
   "cell_type": "code",
   "execution_count": 5,
   "metadata": {},
   "outputs": [],
   "source": [
    "\"\"\"@sumdef\"\"\"\n",
    "\n",
    "def do_sum(a, b):\n",
    "    \"\"\"docstring\"\"\"\n",
    "    print(a + b)"
   ]
  },
  {
   "attachments": {},
   "cell_type": "markdown",
   "metadata": {},
   "source": [
    "Call your function in the cell below:"
   ]
  },
  {
   "cell_type": "code",
   "execution_count": 6,
   "metadata": {},
   "outputs": [
    {
     "name": "stdout",
     "output_type": "stream",
     "text": [
      "300\n"
     ]
    }
   ],
   "source": [
    "\"\"\"@sumcall\"\"\"\n",
    "\n",
    "do_sum(100, 200)"
   ]
  },
  {
   "cell_type": "code",
   "execution_count": 7,
   "metadata": {},
   "outputs": [
    {
     "name": "stdout",
     "output_type": "stream",
     "text": [
      "3\n"
     ]
    },
    {
     "data": {
      "text/html": [
       "<div style=\"font-size: large; font-weight: bold; margin-bottom: 1em; margin-top: 0.5em\">\n",
       "    \n",
       "        ✅ All tests passed.\n",
       "        \n",
       "</div>\n",
       "<div>\n",
       "    \n",
       "</div>"
      ],
      "text/plain": [
       "<IPython.core.display.HTML object>"
      ]
     },
     "execution_count": 7,
     "metadata": {},
     "output_type": "execute_result"
    }
   ],
   "source": [
    "%%testing @sumdef as fdef, @sumcall as fcall, do_sum\n",
    "assert \"do_sum\" in fdef.functions, \"\"\"I don't see the definition of do_sum()\"\"\"\n",
    "assert fdef.functions[\"do_sum\"].docstring is not None, \"\"\"do_sum() should have a docstring.\"\"\"\n",
    "assert fdef.functions[\"do_sum\"].arguments == [\"a\", \"b\"], \"\"\"do_sum() has the wrong arguments.\"\"\"\n",
    "assert fdef.functions[\"do_sum\"].calls == {\"print\"}, \"\"\"do_sum() should call the print() function.\"\"\"\n",
    "assert \"do_sum\" in fcall.calls, \"\"\"You haven't called \"foo\" in the second cell.\"\"\"\n",
    "assert do_sum(1,2) == None, \"\"\"The do_sum() function should print the sum, not return it.\"\"\""
   ]
  },
  {
   "attachments": {},
   "cell_type": "markdown",
   "metadata": {},
   "source": [
    "### 3. A Function that Returns\n",
    "\n",
    "Write a function called `do_sum_return` that takes two arguments, `a` and `b`. \n",
    "The function **returns** the sum of the two numbers. \n",
    "\n",
    "* Name: `do_sum_return`\n",
    "* Arguments: \n",
    "    * `a` (float) A number\n",
    "    * `b` (float) Another number\n",
    "* Returns: The sum of `a` and `b`"
   ]
  },
  {
   "cell_type": "code",
   "execution_count": 8,
   "metadata": {},
   "outputs": [],
   "source": [
    "\"\"\"@sumreturn\"\"\"\n",
    "\n",
    "def do_sum_return(a, b):\n",
    "    \"\"\"Add things together\"\"\"\n",
    "    return a + b"
   ]
  },
  {
   "attachments": {},
   "cell_type": "markdown",
   "metadata": {},
   "source": [
    "Test your function in the cell below:"
   ]
  },
  {
   "cell_type": "code",
   "execution_count": 9,
   "metadata": {},
   "outputs": [
    {
     "data": {
      "text/plain": [
       "'@sumreturncall'"
      ]
     },
     "execution_count": 9,
     "metadata": {},
     "output_type": "execute_result"
    }
   ],
   "source": [
    "\"\"\"@sumreturncall\"\"\"\n"
   ]
  },
  {
   "cell_type": "code",
   "execution_count": 10,
   "metadata": {},
   "outputs": [
    {
     "data": {
      "text/html": [
       "<div style=\"font-size: large; font-weight: bold; margin-bottom: 1em; margin-top: 0.5em\">\n",
       "    \n",
       "        ✅ All tests passed.\n",
       "        \n",
       "</div>\n",
       "<div>\n",
       "    \n",
       "</div>"
      ],
      "text/plain": [
       "<IPython.core.display.HTML object>"
      ]
     },
     "execution_count": 10,
     "metadata": {},
     "output_type": "execute_result"
    }
   ],
   "source": [
    "%%testing @sumreturn as solution, do_sum_return as f\n",
    "assert \"do_sum_return\" in solution.functions, \"\"\"I don't see the definition of do_sum_return()\"\"\"\n",
    "func = solution.functions[\"do_sum_return\"]\n",
    "assert func.docstring is not None, \"\"\"The function should have a docstring.\"\"\"\n",
    "assert func.arguments == [\"a\", \"b\"], \"\"\"The function has the wrong arguments.\"\"\"\n",
    "assert \"print\" not in func.calls, \"\"\"do_sum_return() should NOT call the print() function.\"\"\"\n",
    "assert f(1,2) == 3, \"\"\"The function didn't add 1 and 2.\"\"\"\n",
    "assert f(100,2) == 102, \"\"\"The function didn't add 1 and 2.\"\"\"\n"
   ]
  },
  {
   "attachments": {},
   "cell_type": "markdown",
   "metadata": {},
   "source": [
    "### 6. Returning a Boolean Value\n",
    "\n",
    "Write a function called `is_greater` that takes two arguments called `a` and `b`. The function returns `True` if `a` is greater than `b`, `False` otherwise.\n",
    "\n",
    "* Name: `is_greater`\n",
    "* Arguments:\n",
    "    * `a` (float) A number \n",
    "    * `b` (float) A number \n",
    "* Returns:\n",
    "    * True if `a` is greater than `b`. `False` otherwise. "
   ]
  },
  {
   "cell_type": "code",
   "execution_count": 11,
   "metadata": {},
   "outputs": [],
   "source": [
    "\"\"\"@isgreaterdef\"\"\"\n",
    "\n",
    "def is_greater(a, b):\n",
    "    \"\"\"Is greater?\"\"\"\n",
    "    return a > b"
   ]
  },
  {
   "attachments": {},
   "cell_type": "markdown",
   "metadata": {},
   "source": [
    "Test your function in the cell below:"
   ]
  },
  {
   "cell_type": "code",
   "execution_count": 12,
   "metadata": {},
   "outputs": [
    {
     "data": {
      "text/plain": [
       "'@isgreatercall'"
      ]
     },
     "execution_count": 12,
     "metadata": {},
     "output_type": "execute_result"
    }
   ],
   "source": [
    "\"\"\"@isgreatercall\"\"\""
   ]
  },
  {
   "cell_type": "code",
   "execution_count": 13,
   "metadata": {},
   "outputs": [
    {
     "data": {
      "text/html": [
       "<div style=\"font-size: large; font-weight: bold; margin-bottom: 1em; margin-top: 0.5em\">\n",
       "    \n",
       "        ✅ All tests passed.\n",
       "        \n",
       "</div>\n",
       "<div>\n",
       "    \n",
       "</div>"
      ],
      "text/plain": [
       "<IPython.core.display.HTML object>"
      ]
     },
     "execution_count": 13,
     "metadata": {},
     "output_type": "execute_result"
    }
   ],
   "source": [
    "%%testing @isgreaterdef as solution, is_greater as f\n",
    "assert \"is_greater\" in solution.functions, \"\"\"I don't see the definition of is_greater()\"\"\"\n",
    "func = solution.functions[\"is_greater\"]\n",
    "assert func.docstring is not None, \"\"\"The function should have a docstring.\"\"\"\n",
    "assert func.arguments == [\"a\", \"b\"], \"\"\"The function has the wrong arguments.\"\"\"\n",
    "assert \"print\" not in func.calls, \"\"\"do_sum_return() should NOT call the print() function.\"\"\"\n",
    "assert f(1,2) == False, \"\"\"The function failed for inputs 1 and 2\"\"\"\n",
    "assert f(2,2) == False, \"\"\"The function failed for inputs 2 and 2\"\"\"\n",
    "assert f(3,2) == True, \"\"\"The function failed for inputs 2 and 2\"\"\""
   ]
  },
  {
   "attachments": {},
   "cell_type": "markdown",
   "metadata": {},
   "source": [
    "## Part 2: Using Your Own Functions \n",
    "\n",
    "In this part you'll write reusable functions and use them to make a simple program."
   ]
  },
  {
   "attachments": {},
   "cell_type": "markdown",
   "metadata": {},
   "source": [
    "### 1. Write a `triangle` Function \n",
    "\n",
    "Write a function to draw a `triangle` that takes one argument `len`, the length of a side. The function draws an equilateral triangle with sides of `len` pixels.\n",
    "\n",
    "* Name: `triangle`\n",
    "* Arguments:\n",
    "  * `len` (int) the length of a side"
   ]
  },
  {
   "cell_type": "code",
   "execution_count": 14,
   "metadata": {},
   "outputs": [],
   "source": [
    "\"\"\"@triangle_func\"\"\"\n",
    "\n",
    "import jupyter_turtle as tu\n",
    "\n",
    "def triangle(len):\n",
    "    \"\"\"Draw a triangle.\"\"\"\n",
    "    tu.move(len)\n",
    "    tu.turn(120)\n",
    "    tu.move(len)\n",
    "    tu.turn(120)\n",
    "    tu.move(len)\n",
    "    tu.turn(120)        "
   ]
  },
  {
   "cell_type": "code",
   "execution_count": 15,
   "metadata": {},
   "outputs": [
    {
     "data": {
      "text/html": [
       "<div style=\"font-size: large; font-weight: bold; margin-bottom: 1em; margin-top: 0.5em\">\n",
       "    \n",
       "        ✅ All tests passed.\n",
       "        \n",
       "</div>\n",
       "<div>\n",
       "    \n",
       "</div>"
      ],
      "text/plain": [
       "<IPython.core.display.HTML object>"
      ]
     },
     "execution_count": 15,
     "metadata": {},
     "output_type": "execute_result"
    }
   ],
   "source": [
    "%%testing @triangle_func as cell\n",
    "\n",
    "assert \"triangle\" in cell.functions, \"\"\"I don't see the definition of triangle()\"\"\"\n",
    "assert cell.functions[\"triangle\"].docstring is not None, \"\"\"triangle() should have a docstring.\"\"\"\n",
    "assert cell.functions[\"triangle\"].arguments == [\"len\"], \"\"\"triangle() has the wrong arguments.\"\"\""
   ]
  },
  {
   "attachments": {},
   "cell_type": "markdown",
   "metadata": {},
   "source": [
    "### 2. Draw Using `triangle`\n",
    "\n",
    "Use the `triangle` function from the last question to construct a figure like this: \n",
    "\n",
    "![](files/triangles.svg)\n",
    "\n",
    "Notice that it's made of three triangles, two at the base and one on top. "
   ]
  },
  {
   "cell_type": "code",
   "execution_count": 16,
   "metadata": {},
   "outputs": [
    {
     "data": {
      "application/vnd.jupyter.widget-view+json": {
       "model_id": "feb04a070e094511acc32b304cc35ee7",
       "version_major": 2,
       "version_minor": 0
      },
      "text/plain": [
       "MultiCanvas(height=300, sync_image_data=True, width=600)"
      ]
     },
     "metadata": {},
     "output_type": "display_data"
    }
   ],
   "source": [
    "\"\"\"@use_triangle\"\"\"\n",
    "\n",
    "triangle(100)\n"
   ]
  },
  {
   "cell_type": "code",
   "execution_count": 17,
   "metadata": {},
   "outputs": [
    {
     "data": {
      "text/html": [
       "<div style=\"font-size: large; font-weight: bold; margin-bottom: 0.5em; margin-top: 0.5em\">\n",
       "    ⚠️ Attention needed.\n",
       "</div>\n",
       "<div>\n",
       "    You have to call triangle at least twice.\n",
       "</div>"
      ],
      "text/plain": [
       "<IPython.core.display.HTML object>"
      ]
     },
     "execution_count": 17,
     "metadata": {},
     "output_type": "execute_result"
    }
   ],
   "source": [
    "%%testing @use_triangle as cell, triangle\n",
    "\n",
    "assert \"triangle\" in cell.calls, \"\"\"I didn't seem to call your triangle function()\"\"\"\n",
    "assert cell.count_calls(\"triangle\") >= 2, \"\"\"You have to call triangle at least twice.\"\"\"\n",
    "assert cell.result.turtle.stats[\"moves\"] >= 6, \"\"\"The drawing needs at least six moves.\"\"\""
   ]
  }
 ],
 "metadata": {
  "kernelspec": {
   "display_name": "venv-p4e",
   "language": "python",
   "name": "python3"
  },
  "language_info": {
   "codemirror_mode": {
    "name": "ipython",
    "version": 3
   },
   "file_extension": ".py",
   "mimetype": "text/x-python",
   "name": "python",
   "nbconvert_exporter": "python",
   "pygments_lexer": "ipython3",
   "version": "3.12.3"
  }
 },
 "nbformat": 4,
 "nbformat_minor": 4
}
