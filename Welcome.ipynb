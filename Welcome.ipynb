{
 "cells": [
  {
   "cell_type": "markdown",
   "id": "fe410aa9",
   "metadata": {},
   "source": [
    "# Python for Everyone \n",
    "\n",
    "Welcome! This page will soon show you how to setup your environment. \n"
   ]
  },
  {
   "cell_type": "code",
   "execution_count": null,
   "id": "3b1cef25",
   "metadata": {
    "vscode": {
     "languageId": "plaintext"
    }
   },
   "outputs": [],
   "source": [
    "!pip install -r requirements.txt \n",
    "!if type fix-permissions > /dev/null 2>&1; then fix-permissions \"${CONDA_DIR}\" && /usr/local/bin/fix-permissions \"/home/${NB_USER}\"; fi"
   ]
  }
 ],
 "metadata": {
  "language_info": {
   "name": "python"
  }
 },
 "nbformat": 4,
 "nbformat_minor": 5
}
