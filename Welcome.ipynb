{
 "cells": [
  {
   "cell_type": "markdown",
   "id": "fe410aa9",
   "metadata": {},
   "source": [
    "# Python for Everyone \n",
    "\n",
    "Welcome! This page will soon show you how to setup your environment. \n"
   ]
  }
 ],
 "metadata": {
  "language_info": {
   "name": "python"
  }
 },
 "nbformat": 4,
 "nbformat_minor": 5
}
